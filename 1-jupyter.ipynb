{
 "cells": [
  {
   "cell_type": "markdown",
   "metadata": {
    "slideshow": {
     "slide_type": "slide"
    }
   },
   "source": [
    "<!-- ratio 16:9 -->\n",
    "![Jupiter](images/jupyter/jupiter_the_planet.jpg)\n",
    "\n",
    "Photo by [TBIT](https://pixabay.com/p-1009305/) on [Pixabay](https://pixabay.com/es/photos/jupiter/) / [CC0](https://pixabay.com/es/service/terms/#usage)"
   ]
  },
  {
   "cell_type": "code",
   "execution_count": 4,
   "metadata": {
    "slideshow": {
     "slide_type": "skip"
    }
   },
   "outputs": [
    {
     "data": {
      "text/html": [
       "<style>/* Settings for dataframes */\n",
       "\n",
       "/* title of columns */\n",
       "table.dataframe thead th {\n",
       "    font-size: 1.2em !important;\n",
       "    padding-top: 0.2em !important;\n",
       "    padding-bottom: 0.2em !important;\n",
       "}\n",
       "\n",
       "/* title of rows */\n",
       "table.dataframe tbody th {\n",
       "    font-size: 1.2em !important;\n",
       "    background: rgba(199, 199, 199, 0.356) !important;\n",
       "    border: 1px solid black !important;\n",
       "}\n",
       "\n",
       "/* style for each cell */\n",
       "table.dataframe td {\n",
       "    font-size: 1.15em !important;\n",
       "    border: 1px solid black !important;\n",
       "}\n",
       "\n",
       "/* disable zebra-style */\n",
       "table.dataframe tbody tr {\n",
       "    background: white !important;\n",
       "}\n",
       "\n",
       "/* row color on hover */\n",
       "table.dataframe tbody tr:hover {\n",
       "    background: rgba(43, 137, 226, 0.144) !important;\n",
       "}\n",
       "\n",
       "/* Settings for \"ordinary\" tables */\n",
       "\n",
       "/* alignment */\n",
       "table {\n",
       "    margin-left: initial !important;\n",
       "}\n",
       "\n",
       "/* title of columns */\n",
       "table thead th {\n",
       "    font-size: 1.2em !important;\n",
       "    padding-top: 0.2em !important;\n",
       "    padding-bottom: 0.2em !important;\n",
       "    text-align: left !important;\n",
       "}\n",
       "\n",
       "/* title of rows */\n",
       "table tbody th {\n",
       "    font-size: 1.2em !important;\n",
       "    background: rgba(199, 199, 199, 0.356) !important;\n",
       "    border: 1px solid black !important;\n",
       "}\n",
       "\n",
       "/* style for each cell */\n",
       "table td {\n",
       "    font-size: 1.15em !important;\n",
       "    border: 1px solid black !important;\n",
       "    text-align: left !important;\n",
       "}\n",
       "\n",
       "/* disable zebra-style */\n",
       "table tbody tr {\n",
       "    background: white !important;\n",
       "}\n",
       "\n",
       "/* row color on hover */\n",
       "table tbody tr:hover {\n",
       "    background: rgba(43, 137, 226, 0.144) !important;\n",
       "}\n",
       "\n",
       "/* Settings for slides */\n",
       "\n",
       ".present table.dataframe thead th {\n",
       "    font-size: 1.5em !important;\n",
       "}\n",
       "\n",
       ".present table.dataframe tbody th {\n",
       "    font-size: 1.5em !important;\n",
       "}\n",
       "\n",
       ".present table.dataframe td {\n",
       "    font-size: 1.3em !important;\n",
       "}\n",
       "\n",
       ".present table.dataframe thead th {\n",
       "    border-bottom: none !important;\n",
       "    padding-top: 0.1em !important;\n",
       "    padding-bottom: 0.1em !important;\n",
       "}\n",
       "</style>"
      ],
      "text/plain": [
       "<IPython.core.display.HTML object>"
      ]
     },
     "execution_count": 4,
     "metadata": {},
     "output_type": "execute_result"
    }
   ],
   "source": [
    "from IPython.display import HTML\n",
    "\n",
    "with open('custom.css') as f:\n",
    "    css_rules = ''.join(f.readlines())\n",
    "HTML('<style>' + css_rules + '</style>')"
   ]
  },
  {
   "cell_type": "markdown",
   "metadata": {
    "slideshow": {
     "slide_type": "subslide"
    }
   },
   "source": [
    "# Motivación\n",
    "\n",
    "La propia [definición del proyecto](https://jupyter.org/):\n",
    "\n",
    "> Jupyter Notebook es una aplicación web *open-source* que permite crear y compartir documentos que contienen código en vivo, ecuaciones, visualizaciones y texto narrativo. Entre sus usos se destaca: limpieza y transformación de datos, simulación numérica, modelado estadístico, visualización de datos, *machine learning* y mucho más.\n",
    "\n",
    "**Es un estándar de-facto en el campo del *Data Science***"
   ]
  },
  {
   "cell_type": "markdown",
   "metadata": {
    "slideshow": {
     "slide_type": "subslide"
    }
   },
   "source": [
    "# Guión\n",
    "\n",
    "1. [Instalación](#Instalaci%C3%B3n)\n",
    "2. [Elementos de la interfaz](#Elementos-de-la-interfaz)\n",
    "3. [MathJax](#MathJax)\n",
    "4. [Comandos mágicos](#Comandos-m%C3%A1gicos)\n",
    "5. [Otros recursos](#Otros-recursos)"
   ]
  },
  {
   "cell_type": "markdown",
   "metadata": {
    "slideshow": {
     "slide_type": "slide"
    }
   },
   "source": [
    "# Instalación\n",
    "---"
   ]
  },
  {
   "cell_type": "markdown",
   "metadata": {
    "slideshow": {
     "slide_type": "subslide"
    }
   },
   "source": [
    "# Requerimientos\n",
    "\n",
    "- Intérprete del lenguaje: [Python](https://www.python.org/downloads/) (*v3* a ser posible)\n",
    "- Gestor de paquetes (y entornos virtuales): [pip](https://pip.pypa.io/en/stable/installing/) $\\Rightarrow$ [Pipenv](https://pipenv.readthedocs.io/en/latest/install/#installing-pipenv)"
   ]
  },
  {
   "cell_type": "markdown",
   "metadata": {
    "slideshow": {
     "slide_type": "-"
    }
   },
   "source": [
    "![](images/jupyter/jupyter_installation.png)"
   ]
  },
  {
   "cell_type": "markdown",
   "metadata": {
    "slideshow": {
     "slide_type": "subslide"
    }
   },
   "source": [
    "# Lanzando el servidor de *notebooks*\n",
    "\n",
    "![](images/jupyter/launch_jupyter.png)\n",
    "\n",
    "El comando que se está ejecutando realmente es:\n",
    "\n",
    "~~~bash\n",
    "$> pipenv run jupyter notebook\n",
    "~~~\n",
    "\n",
    "> Se abrirá un navegador en la dirección http://localhost:8888 con *Jupyter Notebook*"
   ]
  },
  {
   "cell_type": "markdown",
   "metadata": {
    "slideshow": {
     "slide_type": "slide"
    }
   },
   "source": [
    "# Elementos destacados de la interfaz\n",
    "---"
   ]
  },
  {
   "cell_type": "markdown",
   "metadata": {
    "slideshow": {
     "slide_type": "subslide"
    }
   },
   "source": [
    "# El explorador de archivos\n",
    "\n",
    "![Explorador Jupyter](images/jupyter/jupyter_browser.png)\n",
    "\n",
    "Podemos navegar por el explorador y abrir el fichero que nos interese.\n",
    "\n",
    "> Los **notebooks** tienen extensión `.ipynb` (iPython Notebook)"
   ]
  },
  {
   "cell_type": "markdown",
   "metadata": {
    "slideshow": {
     "slide_type": "subslide"
    }
   },
   "source": [
    "# Menú `File`\n",
    "\n",
    "![](images/jupyter/file-menu.png)"
   ]
  },
  {
   "cell_type": "markdown",
   "metadata": {
    "slideshow": {
     "slide_type": "subslide"
    }
   },
   "source": [
    "## *Checkpoints*\n",
    "\n",
    "Permiten guardar el estado del *notebook* en un momento determinado para luego poder revertirlo a ese momento del tiempo.\n",
    "\n",
    "## Exportar el *notebook* a otros formatos\n",
    "\n",
    "- Python (`.py`)\n",
    "- HTML (`.html`)\n",
    "- Reveal.js *slides* (`.html`)\n",
    "- Markdown (`.md`)\n",
    "- reST (`.rst`)\n",
    "- PDF vía LaTeX (`.pdf`)\n",
    "- asciidoc (`.asciidoc`)\n",
    "- custom (`.txt`)\n",
    "- LaTeX (`.tex`)"
   ]
  },
  {
   "cell_type": "markdown",
   "metadata": {
    "slideshow": {
     "slide_type": "subslide"
    }
   },
   "source": [
    "## 💡Ejercicio\n",
    "\n",
    "Descargue este notebook en formato *HTML* y *Markdown*."
   ]
  },
  {
   "cell_type": "markdown",
   "metadata": {
    "slideshow": {
     "slide_type": "subslide"
    }
   },
   "source": [
    "# Menú `Edit`\n",
    "\n",
    "![](images/jupyter/edit-menu.png)"
   ]
  },
  {
   "cell_type": "markdown",
   "metadata": {
    "slideshow": {
     "slide_type": "subslide"
    }
   },
   "source": [
    "## Gestión de celdas\n",
    "\n",
    "Cortar, pegar, borrar, dividir, unir, mover, ...\n",
    "\n",
    "## Insertar imagen\n",
    "\n",
    "Seleccionando la imagen desde un cuadro de diálogo"
   ]
  },
  {
   "cell_type": "markdown",
   "metadata": {
    "slideshow": {
     "slide_type": "subslide"
    }
   },
   "source": [
    "# Menú `View`\n",
    "\n",
    "![](images/jupyter/view-menu.png)"
   ]
  },
  {
   "cell_type": "markdown",
   "metadata": {
    "slideshow": {
     "slide_type": "subslide"
    }
   },
   "source": [
    "## Presentación\n",
    "\n",
    "`View` $\\Rightarrow$ `Cell Toolbar` $\\Rightarrow$ `Slideshow`\n",
    "\n",
    "## Etiquetas en celdas de código\n",
    "\n",
    "`View` $\\Rightarrow$ `Cell Toolbar` $\\Rightarrow$ `Tags`\n",
    "\n",
    "Interesante el uso del tag `raises-exception` ya que nos permite ejecutar todas las celdas de un notebook sin que pare por errores en la celda etiquetada.\n",
    "\n",
    "## Mostrar/Ocultar números de línea en celdas de código\n",
    "\n",
    "`View` $\\Rightarrow$ `Toggle Line Numbers`"
   ]
  },
  {
   "cell_type": "markdown",
   "metadata": {
    "slideshow": {
     "slide_type": "subslide"
    }
   },
   "source": [
    "# Menú `Insert`\n",
    "\n",
    "![](images/jupyter/insert-menu.png)"
   ]
  },
  {
   "cell_type": "markdown",
   "metadata": {
    "slideshow": {
     "slide_type": "subslide"
    }
   },
   "source": [
    "# Menú `Cell`\n",
    "\n",
    "![](images/jupyter/cell-menu.png)"
   ]
  },
  {
   "cell_type": "markdown",
   "metadata": {
    "slideshow": {
     "slide_type": "subslide"
    }
   },
   "source": [
    "## Tipos de celdas\n",
    "\n",
    "- **Code**: para incluir código (se podrá ejecutar el lenguaje de programación según el *Kernel* instalado).\n",
    "- **Markdown**: para escribir texto utilizando [sintaxis markdown](https://learnxinyminutes.com/docs/es-es/markdown-es/).\n",
    "- **Raw**: dichas celdas no serán formateadas.\n",
    "\n",
    "## *Output*\n",
    "\n",
    "Al ejecutar una celda obtenemos un *output* con el resultado. Podemos controlar la salida de la celda actual o de todas las celdas."
   ]
  },
  {
   "cell_type": "code",
   "execution_count": 1,
   "metadata": {
    "slideshow": {
     "slide_type": "-"
    }
   },
   "outputs": [
    {
     "data": {
      "text/plain": [
       "2"
      ]
     },
     "execution_count": 1,
     "metadata": {},
     "output_type": "execute_result"
    }
   ],
   "source": [
    "1 + 1"
   ]
  },
  {
   "cell_type": "markdown",
   "metadata": {
    "slideshow": {
     "slide_type": "subslide"
    }
   },
   "source": [
    "# Menú `Kernel`\n",
    "\n",
    "![](images/jupyter/kernel-menu.png)"
   ]
  },
  {
   "cell_type": "markdown",
   "metadata": {
    "slideshow": {
     "slide_type": "subslide"
    }
   },
   "source": [
    "## ¿Qué es el kernel?\n",
    "\n",
    "- El *Kernel* es la capa de software que se encarga de ejecutar las celdas que contienen código.\n",
    "- Podemos tener instalados distintos *Kernels* para un mismo *Jupyter Notebook*.\n",
    "- El *Kernel* se puede: interrumpir, reiniciar, reiniciar y borrar todas las salidas, reiniciar y ejecutar todas las celdas, ...\n",
    "- A veces es necesario manejar el *Kernel* en situaciones de bloqueo de nuestro código."
   ]
  },
  {
   "cell_type": "markdown",
   "metadata": {
    "slideshow": {
     "slide_type": "-"
    }
   },
   "source": [
    "### Kernel ocupado\n",
    "\n",
    "![Kernel ocupado](images/jupyter/busy_kernel.png)"
   ]
  },
  {
   "cell_type": "markdown",
   "metadata": {
    "slideshow": {
     "slide_type": "subslide"
    }
   },
   "source": [
    "# Menú `Help`\n",
    "\n",
    "![](images/jupyter/help-menu.png)"
   ]
  },
  {
   "cell_type": "markdown",
   "metadata": {
    "slideshow": {
     "slide_type": "subslide"
    }
   },
   "source": [
    "## *Shortcuts*\n",
    "\n",
    "- Se pueden consultar (y editar) los *shortcuts* de teclado.\n",
    "- Muy útil para agilizar el trabajo con el *notebook*.\n",
    "\n",
    "Shortcut | Acción\n",
    "-- | --\n",
    "`SHIFT` + `ENTER` | Ejecutar la celda actual\n",
    "`ALT` + `ENTER` | Ejecutar la celda actual y \"abrir\" una celda debajo\n",
    "`a` | Abrir una celda encima de la actual (*above*)\n",
    "`b` | Abrir una celda debajo de la actual (*below*) \n",
    "`m` | Convertir la celda actual a *Markdown*\n",
    "`y` | Convertir la celda actual a *Code*\n",
    "`dd` | Borrar la celda actual"
   ]
  },
  {
   "cell_type": "markdown",
   "metadata": {
    "slideshow": {
     "slide_type": "subslide"
    }
   },
   "source": [
    "## Referencias\n",
    "\n",
    "- [Markdown](https://help.github.com/articles/getting-started-with-writing-and-formatting-on-github/).\n",
    "- [Python](https://docs.python.org/3.7/).\n",
    "- [IPython](https://ipython.org/documentation.html?v=20190112103626).\n",
    "- [NumPy](https://docs.scipy.org/doc/numpy/reference/?v=20190112103626).\n",
    "- [SciPy](https://docs.scipy.org/doc/scipy/reference/?v=20190112103626).\n",
    "- [Matplotlib](https://matplotlib.org/contents.html?v=20190112103626).\n",
    "- [SymPy](https://docs.sympy.org/latest/index.html?v=20190112103626).\n",
    "- [Pandas](https://pandas.pydata.org/pandas-docs/stable/?v=20190112103626)."
   ]
  },
  {
   "cell_type": "markdown",
   "metadata": {
    "slideshow": {
     "slide_type": "slide"
    }
   },
   "source": [
    "# MathJax\n",
    "---"
   ]
  },
  {
   "cell_type": "markdown",
   "metadata": {
    "slideshow": {
     "slide_type": "subslide"
    }
   },
   "source": [
    "# Escribiendo fórmulas matemáticas\n",
    "\n",
    "- La celda debe ser de tipo *Markdown* y tendremos que usar unos delimitadores especiales.\n",
    "- Las fórmulas se escriben usando [expresiones matemáticas de LaTeX](https://es.overleaf.com/learn/latex/Mathematical_expressions)."
   ]
  },
  {
   "cell_type": "markdown",
   "metadata": {
    "slideshow": {
     "slide_type": "-"
    }
   },
   "source": [
    "## Fórmulas *inline*\n",
    "\n",
    "- Usaremos los separadores `$` ... `$`\n",
    "- Por ejemplo: `$ \\sum_{x=1}^n sin(x) + cos(x) $` produce: $ \\sum_{x=1}^n sin(x) + cos(x) $"
   ]
  },
  {
   "cell_type": "markdown",
   "metadata": {
    "slideshow": {
     "slide_type": "-"
    }
   },
   "source": [
    "## Fórmulas *offline*\n",
    "\n",
    "- Usaremos los separadores `$$` ... `$$`\n",
    "- Por ejemplo: `$$ \\sum_{x=1}^n sin(x) + cos(x) $$` produce: $$ \\sum_{x=1}^n sin(x) + cos(x) $$"
   ]
  },
  {
   "cell_type": "markdown",
   "metadata": {
    "slideshow": {
     "slide_type": "subslide"
    }
   },
   "source": [
    "# Alineando a la izquierda"
   ]
  },
  {
   "cell_type": "markdown",
   "metadata": {
    "slideshow": {
     "slide_type": "-"
    }
   },
   "source": [
    "~~~latex\n",
    "$\n",
    "\\begin{align*}\n",
    "    \\sum_{x=1}^n sin(x) + cos(x)\n",
    "\\end{align*}\n",
    "$\n",
    "~~~"
   ]
  },
  {
   "cell_type": "markdown",
   "metadata": {
    "slideshow": {
     "slide_type": "-"
    }
   },
   "source": [
    "$\n",
    "\\begin{align*}\n",
    "    \\sum_{x=1}^n sin(x) + cos(x)\n",
    "\\end{align*}\n",
    "$"
   ]
  },
  {
   "cell_type": "markdown",
   "metadata": {
    "slideshow": {
     "slide_type": "subslide"
    }
   },
   "source": [
    "# Ejemplos de fórmulas\n",
    "\n",
    "Referencia: [Motivating Examples](https://jupyter-notebook.readthedocs.io/en/latest/examples/Notebook/Typesetting%20Equations.html#Motivating-Examples) (documentación oficial de Jupyter Notebook)."
   ]
  },
  {
   "cell_type": "markdown",
   "metadata": {
    "slideshow": {
     "slide_type": "subslide"
    }
   },
   "source": [
    "# Alineando filas por una posición\n",
    "\n",
    "**The Lorenz Equations**"
   ]
  },
  {
   "cell_type": "markdown",
   "metadata": {
    "slideshow": {
     "slide_type": "-"
    }
   },
   "source": [
    "~~~latex\n",
    "\\begin{align*}\n",
    "    \\dot{x} & = \\sigma(y-x) \\\\\n",
    "    \\dot{y} & = \\rho x - y - xz \\\\\n",
    "    \\dot{z} & = -\\beta z + xy\n",
    "\\end{align*}\n",
    "~~~"
   ]
  },
  {
   "cell_type": "markdown",
   "metadata": {
    "slideshow": {
     "slide_type": "-"
    }
   },
   "source": [
    "\\begin{align*}\n",
    "\\dot{x} & = \\sigma(y-x) \\\\\n",
    "\\dot{y} & = \\rho x - y - xz \\\\\n",
    "\\dot{z} & = -\\beta z + xy\n",
    "\\end{align*}"
   ]
  },
  {
   "cell_type": "markdown",
   "metadata": {
    "slideshow": {
     "slide_type": "subslide"
    }
   },
   "source": [
    "# Usando paréntesis\n",
    "\n",
    "**The Cauchy-Schwarz Inequality**"
   ]
  },
  {
   "cell_type": "markdown",
   "metadata": {
    "slideshow": {
     "slide_type": "-"
    }
   },
   "source": [
    "~~~latex\n",
    "\\begin{align}\n",
    "    \\left( \\sum_{k=1}^n a_k b_k \\right)^2 \\leq \\left( \\sum_{k=1}^n a_k^2 \\right) \\left( \\sum_{k=1}^n b_k^2 \\right)\n",
    "\\end{align}\n",
    "~~~"
   ]
  },
  {
   "cell_type": "markdown",
   "metadata": {
    "slideshow": {
     "slide_type": "-"
    }
   },
   "source": [
    "$\n",
    "\\begin{align}\n",
    "\\left( \\sum_{k=1}^n a_k b_k \\right)^2 \\leq \\left( \\sum_{k=1}^n a_k^2 \\right) \\left( \\sum_{k=1}^n b_k^2 \\right)\n",
    "\\end{align}\n",
    "$"
   ]
  },
  {
   "cell_type": "markdown",
   "metadata": {
    "slideshow": {
     "slide_type": "-"
    }
   },
   "source": [
    "Nótese la numeración de la ecuación al usar `align` en vez de `align*`"
   ]
  },
  {
   "cell_type": "markdown",
   "metadata": {
    "slideshow": {
     "slide_type": "subslide"
    }
   },
   "source": [
    "# Matrices\n",
    "\n",
    "**A Cross Product Formula**"
   ]
  },
  {
   "cell_type": "markdown",
   "metadata": {
    "slideshow": {
     "slide_type": "-"
    }
   },
   "source": [
    "~~~latex\n",
    "$$\n",
    "\\mathbf{V}_1 \\times \\mathbf{V}_2 =\n",
    "\\begin{vmatrix}\n",
    "    \\mathbf{i} & \\mathbf{j} & \\mathbf{k} \\\\\n",
    "    \\frac{\\partial X}{\\partial u} &  \\frac{\\partial Y}{\\partial u} & 0 \\\\\n",
    "    \\frac{\\partial X}{\\partial v} &  \\frac{\\partial Y}{\\partial v} & 0\n",
    "\\end{vmatrix}\n",
    "$$\n",
    "~~~"
   ]
  },
  {
   "cell_type": "markdown",
   "metadata": {
    "slideshow": {
     "slide_type": "-"
    }
   },
   "source": [
    "$$\n",
    "\\mathbf{V}_1 \\times \\mathbf{V}_2 =  \\begin{vmatrix}\n",
    "\\mathbf{i} & \\mathbf{j} & \\mathbf{k} \\\\\n",
    "\\frac{\\partial X}{\\partial u} &  \\frac{\\partial Y}{\\partial u} & 0 \\\\\n",
    "\\frac{\\partial X}{\\partial v} &  \\frac{\\partial Y}{\\partial v} & 0\n",
    "\\end{vmatrix}\n",
    "$$"
   ]
  },
  {
   "cell_type": "markdown",
   "metadata": {
    "slideshow": {
     "slide_type": "subslide"
    }
   },
   "source": [
    "# Probabilidad\n",
    "\n",
    "**The probability of getting (k) heads when flipping (n) coins**"
   ]
  },
  {
   "cell_type": "markdown",
   "metadata": {
    "slideshow": {
     "slide_type": "-"
    }
   },
   "source": [
    "~~~latex\n",
    "\\begin{align}\n",
    "    P(E) = {n \\choose k} p^k (1-p)^{ n-k}\n",
    "\\end{align}\n",
    "~~~"
   ]
  },
  {
   "cell_type": "markdown",
   "metadata": {
    "slideshow": {
     "slide_type": "-"
    }
   },
   "source": [
    "\\begin{align}\n",
    "P(E) = {n \\choose k} p^k (1-p)^{ n-k}\n",
    "\\end{align}"
   ]
  },
  {
   "cell_type": "markdown",
   "metadata": {
    "slideshow": {
     "slide_type": "subslide"
    }
   },
   "source": [
    "# Fracciones (i)\n",
    "\n",
    "**An Identity of Ramanujan**"
   ]
  },
  {
   "cell_type": "markdown",
   "metadata": {
    "slideshow": {
     "slide_type": "-"
    }
   },
   "source": [
    "~~~latex\n",
    "$$\n",
    "\\frac{1}{\\Bigl(\\sqrt{\\phi \\sqrt{5}}-\\phi\\Bigr) e^{\\frac25 \\pi}} =\n",
    "1+\\frac{e^{-2\\pi}} {1+\\frac{e^{-4\\pi}} {1+\\frac{e^{-6\\pi}}\n",
    "{1+\\frac{e^{-8\\pi}} {1+\\ldots} } } }\n",
    "$$\n",
    "~~~"
   ]
  },
  {
   "cell_type": "markdown",
   "metadata": {
    "slideshow": {
     "slide_type": "-"
    }
   },
   "source": [
    "$$\n",
    "\\frac{1}{\\Bigl(\\sqrt{\\phi \\sqrt{5}}-\\phi\\Bigr) e^{\\frac25 \\pi}} =\n",
    "1+\\frac{e^{-2\\pi}} {1+\\frac{e^{-4\\pi}} {1+\\frac{e^{-6\\pi}}\n",
    "{1+\\frac{e^{-8\\pi}} {1+\\ldots} } } }\n",
    "$$"
   ]
  },
  {
   "cell_type": "markdown",
   "metadata": {
    "slideshow": {
     "slide_type": "subslide"
    }
   },
   "source": [
    "# Fracciones (ii)\n",
    "\n",
    "**A Rogers-Ramanujan Identity**"
   ]
  },
  {
   "cell_type": "markdown",
   "metadata": {
    "slideshow": {
     "slide_type": "-"
    }
   },
   "source": [
    "~~~latex\n",
    "$$\n",
    "1 +  \\frac{q^2}{(1-q)}+\\frac{q^6}{(1-q)(1-q^2)}+\\cdots =\n",
    "\\prod_{j=0}^{\\infty}\\frac{1}{(1-q^{5j+2})(1-q^{5j+3})},\n",
    "\\quad\\quad \\text{for $|q|<1$}.\n",
    "$$\n",
    "~~~"
   ]
  },
  {
   "cell_type": "markdown",
   "metadata": {
    "slideshow": {
     "slide_type": "-"
    }
   },
   "source": [
    "$$\n",
    "1 +  \\frac{q^2}{(1-q)}+\\frac{q^6}{(1-q)(1-q^2)}+\\cdots =\n",
    "\\prod_{j=0}^{\\infty}\\frac{1}{(1-q^{5j+2})(1-q^{5j+3})},\n",
    "\\quad\\quad \\text{for $|q|<1$}.\n",
    "$$"
   ]
  },
  {
   "cell_type": "markdown",
   "metadata": {
    "slideshow": {
     "slide_type": "subslide"
    }
   },
   "source": [
    "# Disposición en filas (i)\n",
    "\n",
    "**Maxwell’s Equations**"
   ]
  },
  {
   "cell_type": "markdown",
   "metadata": {
    "slideshow": {
     "slide_type": "-"
    }
   },
   "source": [
    "~~~latex\n",
    "\\begin{align}\n",
    "    \\nabla \\times \\vec{\\mathbf{B}} -\\, \\frac1c\\, \\frac{\\partial\\vec{\\mathbf{E}}}{\\partial t} & = \\frac{4\\pi}{c}\\vec{\\mathbf{j}} \\\\\n",
    "    \\nabla \\cdot \\vec{\\mathbf{E}} & = 4 \\pi \\rho \\\\\n",
    "    \\nabla \\times \\vec{\\mathbf{E}}\\, +\\, \\frac1c\\, \\frac{\\partial\\vec{\\mathbf{B}}}{\\partial t} & = \\vec{\\mathbf{0}} \\\\\n",
    "    \\nabla \\cdot \\vec{\\mathbf{B}} & = 0\n",
    "\\end{align}\n",
    "~~~"
   ]
  },
  {
   "cell_type": "markdown",
   "metadata": {
    "slideshow": {
     "slide_type": "subslide"
    }
   },
   "source": [
    "**Maxwell’s Equations**"
   ]
  },
  {
   "cell_type": "markdown",
   "metadata": {
    "slideshow": {
     "slide_type": "-"
    }
   },
   "source": [
    "\\begin{align}\n",
    "    \\nabla \\times \\vec{\\mathbf{B}} -\\, \\frac1c\\, \\frac{\\partial\\vec{\\mathbf{E}}}{\\partial t} & = \\frac{4\\pi}{c}\\vec{\\mathbf{j}} \\\\   \\nabla \\cdot \\vec{\\mathbf{E}} & = 4 \\pi \\rho \\\\\n",
    "    \\nabla \\times \\vec{\\mathbf{E}}\\, +\\, \\frac1c\\, \\frac{\\partial\\vec{\\mathbf{B}}}{\\partial t} & = \\vec{\\mathbf{0}} \\\\\n",
    "    \\nabla \\cdot \\vec{\\mathbf{B}} & = 0\n",
    "\\end{align}"
   ]
  },
  {
   "cell_type": "markdown",
   "metadata": {
    "slideshow": {
     "slide_type": "subslide"
    }
   },
   "source": [
    "# Disposición en filas (ii)"
   ]
  },
  {
   "cell_type": "markdown",
   "metadata": {
    "slideshow": {
     "slide_type": "-"
    }
   },
   "source": [
    "~~~latex\n",
    "\\begin{array}{c}\n",
    "    y_1 \\\\\\\n",
    "    y_2 \\mathtt{t}_i \\\\\\\n",
    "    z_{3,4}\n",
    "\\end{array}\n",
    "~~~"
   ]
  },
  {
   "cell_type": "markdown",
   "metadata": {
    "slideshow": {
     "slide_type": "-"
    }
   },
   "source": [
    "~~~latex\n",
    "\\begin{eqnarray}\n",
    "    x' &=& &x \\sin\\phi &+& z \\cos\\phi \\\\\n",
    "    z' &=& - &x \\cos\\phi &+& z \\sin\\phi \\\\\n",
    "\\end{eqnarray}\n",
    "~~~"
   ]
  },
  {
   "cell_type": "markdown",
   "metadata": {
    "slideshow": {
     "slide_type": "subslide"
    }
   },
   "source": [
    "\\begin{array}{c}\n",
    "    y_1 \\\\\\\n",
    "    y_2 \\mathtt{t}_i \\\\\\\n",
    "    z_{3,4}\n",
    "\\end{array}"
   ]
  },
  {
   "cell_type": "markdown",
   "metadata": {
    "slideshow": {
     "slide_type": "-"
    }
   },
   "source": [
    "\\begin{eqnarray}\n",
    "    x' &=& &x \\sin\\phi &+& z \\cos\\phi \\\\\n",
    "    z' &=& - &x \\cos\\phi &+& z \\sin\\phi \\\\\n",
    "\\end{eqnarray}"
   ]
  },
  {
   "cell_type": "markdown",
   "metadata": {
    "slideshow": {
     "slide_type": "-"
    }
   },
   "source": [
    "Mientras el entorno `array` no incluye números de ecuación, el entorno `eqnarray` sí los añade."
   ]
  },
  {
   "cell_type": "markdown",
   "metadata": {
    "slideshow": {
     "slide_type": "subslide"
    }
   },
   "source": [
    "# Encontrar símbolos matemáticos de $\\LaTeX$"
   ]
  },
  {
   "cell_type": "markdown",
   "metadata": {
    "slideshow": {
     "slide_type": "-"
    }
   },
   "source": [
    "- [$LaTeX$ Math Symbols](http://web.ift.uib.no/Teori/KURS/WRK/TeX/symALL.html)\n",
    "- [Detexify](http://detexify.kirelabs.org/classify.html)"
   ]
  },
  {
   "cell_type": "markdown",
   "metadata": {
    "slideshow": {
     "slide_type": "subslide"
    }
   },
   "source": [
    "## 💡Ejercicio\n",
    "\n",
    "Escriba en *MathJax* las siguientes ecuaciones:\n",
    "\n",
    "### Ecuación 1\n",
    "\n",
    "![Equation 1](images/jupyter/equation1.png)\n",
    "\n",
    "### Ecuación 2\n",
    "\n",
    "![Equation 2](images/jupyter/equation2.png)"
   ]
  },
  {
   "cell_type": "markdown",
   "metadata": {
    "slideshow": {
     "slide_type": "subslide"
    }
   },
   "source": [
    "### Ecuación 3\n",
    "\n",
    "![Equation 3](images/jupyter/equation3.png)\n",
    "\n",
    "### Ecuación 4\n",
    "\n",
    "![Equation 4](images/jupyter/equation4.png)"
   ]
  },
  {
   "cell_type": "code",
   "execution_count": 14,
   "metadata": {
    "slideshow": {
     "slide_type": "skip"
    }
   },
   "outputs": [],
   "source": [
    "# Write your code here!"
   ]
  },
  {
   "cell_type": "markdown",
   "metadata": {
    "slideshow": {
     "slide_type": "skip"
    }
   },
   "source": [
    "## ⭐️ Solución"
   ]
  },
  {
   "cell_type": "code",
   "execution_count": 15,
   "metadata": {
    "slideshow": {
     "slide_type": "skip"
    }
   },
   "outputs": [],
   "source": [
    "# %load \"solutions/jupyter/equations.md\""
   ]
  },
  {
   "cell_type": "markdown",
   "metadata": {
    "slideshow": {
     "slide_type": "slide"
    }
   },
   "source": [
    "# Comandos mágicos\n",
    "---\n",
    "Referencia: [Boost Your Jupyter Notebook Productivity](https://towardsdatascience.com/jupyter-notebook-hints-1f26b08429ad)."
   ]
  },
  {
   "cell_type": "markdown",
   "metadata": {
    "slideshow": {
     "slide_type": "subslide"
    }
   },
   "source": [
    "# Ejecutando comandos de shell $\\Rightarrow$ `!`"
   ]
  },
  {
   "cell_type": "code",
   "execution_count": 16,
   "metadata": {
    "slideshow": {
     "slide_type": "-"
    }
   },
   "outputs": [
    {
     "name": "stdout",
     "output_type": "stream",
     "text": [
      "domingo, 27 de enero de 2019, 17:56:42 WET\r\n"
     ]
    }
   ],
   "source": [
    "!date"
   ]
  },
  {
   "cell_type": "code",
   "execution_count": 17,
   "metadata": {
    "slideshow": {
     "slide_type": "-"
    }
   },
   "outputs": [
    {
     "name": "stdout",
     "output_type": "stream",
     "text": [
      "sdelquin\r\n"
     ]
    }
   ],
   "source": [
    "!whoami"
   ]
  },
  {
   "cell_type": "code",
   "execution_count": 18,
   "metadata": {
    "scrolled": false,
    "slideshow": {
     "slide_type": "-"
    }
   },
   "outputs": [
    {
     "name": "stdout",
     "output_type": "stream",
     "text": [
      "\u001b[39m\u001b[1mChecking PEP 508 requirements...\u001b[39m\u001b[22m\n",
      "\u001b[32m\u001b[22mPassed!\u001b[39m\u001b[22m\n",
      "\u001b[39m\u001b[1mChecking installed package safety...\u001b[39m\u001b[22m\n",
      "\u001b[32m\u001b[22mAll good!\u001b[39m\u001b[22m\n"
     ]
    }
   ],
   "source": [
    "!pipenv check"
   ]
  },
  {
   "cell_type": "markdown",
   "metadata": {
    "slideshow": {
     "slide_type": "subslide"
    }
   },
   "source": [
    "## 💡Ejercicio\n",
    "\n",
    "Ejecute los siguientes comandos del sistema y obtenga la salida en una celda del Notebook:\n",
    "\n",
    "Windows | Linux & OSX\n",
    "- | -\n",
    "time | date\n",
    "dir | ls\n",
    "mem | free"
   ]
  },
  {
   "cell_type": "code",
   "execution_count": 19,
   "metadata": {
    "slideshow": {
     "slide_type": "skip"
    }
   },
   "outputs": [],
   "source": [
    "# Write your code here!"
   ]
  },
  {
   "cell_type": "markdown",
   "metadata": {
    "slideshow": {
     "slide_type": "subslide"
    }
   },
   "source": [
    "# Obteniendo documentación de librerías, funciones o módulos $\\Rightarrow$ `?`"
   ]
  },
  {
   "cell_type": "code",
   "execution_count": 20,
   "metadata": {
    "slideshow": {
     "slide_type": "-"
    }
   },
   "outputs": [],
   "source": [
    "import random\n",
    "\n",
    "random.randint?"
   ]
  },
  {
   "cell_type": "markdown",
   "metadata": {
    "slideshow": {
     "slide_type": "-"
    }
   },
   "source": [
    "![randint](images/jupyter/randint_help.png)"
   ]
  },
  {
   "cell_type": "markdown",
   "metadata": {
    "slideshow": {
     "slide_type": "subslide"
    }
   },
   "source": [
    "## 💡Ejercicio\n",
    "\n",
    "Obtenga la documentación de las siguientes funciones:\n",
    "\n",
    "- `os.path.dirname`\n",
    "- `re.match`\n",
    "- `datetime.timedelta`"
   ]
  },
  {
   "cell_type": "code",
   "execution_count": 6,
   "metadata": {
    "slideshow": {
     "slide_type": "skip"
    }
   },
   "outputs": [],
   "source": [
    "# Write your code here!"
   ]
  },
  {
   "cell_type": "markdown",
   "metadata": {
    "slideshow": {
     "slide_type": "subslide"
    }
   },
   "source": [
    "# La Magia $\\Rightarrow$ `%`"
   ]
  },
  {
   "cell_type": "markdown",
   "metadata": {
    "slideshow": {
     "slide_type": "skip"
    }
   },
   "source": [
    "Jupyter Notebook, o mejor expresado [IPython](https://ipython.readthedocs.io/en/stable/index.html), admite un conjunto de [comandos mágicos](https://ipython.readthedocs.io/en/stable/interactive/magics.html) que permiten realizar distintas tareas, en muchos casos, no necesariamente relacionadas con Python:"
   ]
  },
  {
   "cell_type": "code",
   "execution_count": 22,
   "metadata": {
    "scrolled": false,
    "slideshow": {
     "slide_type": "-"
    }
   },
   "outputs": [
    {
     "data": {
      "application/json": {
       "cell": {
        "!": "OSMagics",
        "HTML": "Other",
        "SVG": "Other",
        "bash": "Other",
        "capture": "ExecutionMagics",
        "debug": "ExecutionMagics",
        "file": "Other",
        "html": "DisplayMagics",
        "javascript": "DisplayMagics",
        "js": "DisplayMagics",
        "latex": "DisplayMagics",
        "markdown": "DisplayMagics",
        "perl": "Other",
        "prun": "ExecutionMagics",
        "pypy": "Other",
        "python": "Other",
        "python2": "Other",
        "python3": "Other",
        "ruby": "Other",
        "script": "ScriptMagics",
        "sh": "Other",
        "svg": "DisplayMagics",
        "sx": "OSMagics",
        "system": "OSMagics",
        "time": "ExecutionMagics",
        "timeit": "ExecutionMagics",
        "writefile": "OSMagics"
       },
       "line": {
        "alias": "OSMagics",
        "alias_magic": "BasicMagics",
        "autoawait": "AsyncMagics",
        "autocall": "AutoMagics",
        "automagic": "AutoMagics",
        "autosave": "KernelMagics",
        "bookmark": "OSMagics",
        "cat": "Other",
        "cd": "OSMagics",
        "clear": "KernelMagics",
        "colors": "BasicMagics",
        "config": "ConfigMagics",
        "connect_info": "KernelMagics",
        "cp": "Other",
        "debug": "ExecutionMagics",
        "dhist": "OSMagics",
        "dirs": "OSMagics",
        "doctest_mode": "BasicMagics",
        "ed": "Other",
        "edit": "KernelMagics",
        "env": "OSMagics",
        "gui": "BasicMagics",
        "hist": "Other",
        "history": "HistoryMagics",
        "killbgscripts": "ScriptMagics",
        "ldir": "Other",
        "less": "KernelMagics",
        "lf": "Other",
        "lk": "Other",
        "ll": "Other",
        "load": "CodeMagics",
        "load_ext": "ExtensionMagics",
        "loadpy": "CodeMagics",
        "logoff": "LoggingMagics",
        "logon": "LoggingMagics",
        "logstart": "LoggingMagics",
        "logstate": "LoggingMagics",
        "logstop": "LoggingMagics",
        "ls": "Other",
        "lsmagic": "BasicMagics",
        "lx": "Other",
        "macro": "ExecutionMagics",
        "magic": "BasicMagics",
        "man": "KernelMagics",
        "matplotlib": "PylabMagics",
        "mkdir": "Other",
        "more": "KernelMagics",
        "mv": "Other",
        "notebook": "BasicMagics",
        "page": "BasicMagics",
        "pastebin": "CodeMagics",
        "pdb": "ExecutionMagics",
        "pdef": "NamespaceMagics",
        "pdoc": "NamespaceMagics",
        "pfile": "NamespaceMagics",
        "pinfo": "NamespaceMagics",
        "pinfo2": "NamespaceMagics",
        "pip": "BasicMagics",
        "popd": "OSMagics",
        "pprint": "BasicMagics",
        "precision": "BasicMagics",
        "prun": "ExecutionMagics",
        "psearch": "NamespaceMagics",
        "psource": "NamespaceMagics",
        "pushd": "OSMagics",
        "pwd": "OSMagics",
        "pycat": "OSMagics",
        "pylab": "PylabMagics",
        "qtconsole": "KernelMagics",
        "quickref": "BasicMagics",
        "recall": "HistoryMagics",
        "rehashx": "OSMagics",
        "reload_ext": "ExtensionMagics",
        "rep": "Other",
        "rerun": "HistoryMagics",
        "reset": "NamespaceMagics",
        "reset_selective": "NamespaceMagics",
        "rm": "Other",
        "rmdir": "Other",
        "run": "ExecutionMagics",
        "save": "CodeMagics",
        "sc": "OSMagics",
        "set_env": "OSMagics",
        "store": "StoreMagics",
        "sx": "OSMagics",
        "system": "OSMagics",
        "tb": "ExecutionMagics",
        "time": "ExecutionMagics",
        "timeit": "ExecutionMagics",
        "unalias": "OSMagics",
        "unload_ext": "ExtensionMagics",
        "who": "NamespaceMagics",
        "who_ls": "NamespaceMagics",
        "whos": "NamespaceMagics",
        "xdel": "NamespaceMagics",
        "xmode": "BasicMagics"
       }
      },
      "text/plain": [
       "Available line magics:\n",
       "%alias  %alias_magic  %autoawait  %autocall  %automagic  %autosave  %bookmark  %cat  %cd  %clear  %colors  %config  %connect_info  %cp  %debug  %dhist  %dirs  %doctest_mode  %ed  %edit  %env  %gui  %hist  %history  %killbgscripts  %ldir  %less  %lf  %lk  %ll  %load  %load_ext  %loadpy  %logoff  %logon  %logstart  %logstate  %logstop  %ls  %lsmagic  %lx  %macro  %magic  %man  %matplotlib  %mkdir  %more  %mv  %notebook  %page  %pastebin  %pdb  %pdef  %pdoc  %pfile  %pinfo  %pinfo2  %popd  %pprint  %precision  %prun  %psearch  %psource  %pushd  %pwd  %pycat  %pylab  %qtconsole  %quickref  %recall  %rehashx  %reload_ext  %rep  %rerun  %reset  %reset_selective  %rm  %rmdir  %run  %save  %sc  %set_env  %store  %sx  %system  %tb  %time  %timeit  %unalias  %unload_ext  %who  %who_ls  %whos  %xdel  %xmode\n",
       "\n",
       "Available cell magics:\n",
       "%%!  %%HTML  %%SVG  %%bash  %%capture  %%debug  %%file  %%html  %%javascript  %%js  %%latex  %%markdown  %%perl  %%prun  %%pypy  %%python  %%python2  %%python3  %%ruby  %%script  %%sh  %%svg  %%sx  %%system  %%time  %%timeit  %%writefile\n",
       "\n",
       "Automagic is ON, % prefix IS NOT needed for line magics."
      ]
     },
     "execution_count": 22,
     "metadata": {},
     "output_type": "execute_result"
    }
   ],
   "source": [
    "%lsmagic"
   ]
  },
  {
   "cell_type": "markdown",
   "metadata": {
    "slideshow": {
     "slide_type": "subslide"
    }
   },
   "source": [
    "# Representando gráficas"
   ]
  },
  {
   "cell_type": "code",
   "execution_count": 23,
   "metadata": {
    "scrolled": false,
    "slideshow": {
     "slide_type": "-"
    }
   },
   "outputs": [
    {
     "data": {
      "text/plain": [
       "[<matplotlib.lines.Line2D at 0x114a09668>]"
      ]
     },
     "execution_count": 23,
     "metadata": {},
     "output_type": "execute_result"
    },
    {
     "data": {
      "image/png": "[encoded data removed]",
      "text/plain": [
       "<Figure size 432x288 with 1 Axes>"
      ]
     },
     "metadata": {
      "needs_background": "light"
     },
     "output_type": "display_data"
    }
   ],
   "source": [
    "%matplotlib inline\n",
    "\n",
    "from matplotlib import pyplot as plt\n",
    "\n",
    "x = [1, 2, 3, 4, 5, 6, 7, 8, 9, 10]\n",
    "y = [1, 4, 9, 16, 25, 36, 49, 64, 81, 100]\n",
    "\n",
    "plt.plot(x, y)"
   ]
  },
  {
   "cell_type": "markdown",
   "metadata": {
    "slideshow": {
     "slide_type": "subslide"
    }
   },
   "source": [
    "Si **NO** queremos que aparezca el identificador del objeto retornado por el método podemos hacer uso del punto y coma `;`"
   ]
  },
  {
   "cell_type": "code",
   "execution_count": null,
   "metadata": {
    "scrolled": false,
    "slideshow": {
     "slide_type": "-"
    }
   },
   "outputs": [
    {
     "data": {
      "image/png": "[encoded data removed]",
      "text/plain": [
       "<Figure size 432x288 with 1 Axes>"
      ]
     },
     "metadata": {
      "needs_background": "light"
     },
     "output_type": "display_data"
    }
   ],
   "source": [
    "plt.plot(x, y);"
   ]
  },
  {
   "cell_type": "markdown",
   "metadata": {
    "slideshow": {
     "slide_type": "subslide"
    }
   },
   "source": [
    "# Cargando ficheros en la celda actual\n",
    "\n",
    "El comando para cargar ficheros en la celda actual es: `%load \"ruta/al/fichero\"`, pero cuando se ejecuta, Jupyter lo comenta automáticamente y carga el contenido del fichero en la celda actual:"
   ]
  },
  {
   "cell_type": "code",
   "execution_count": null,
   "metadata": {
    "slideshow": {
     "slide_type": "-"
    }
   },
   "outputs": [],
   "source": [
    "# %load \"resources/jupyter/test1.py\"\n",
    "number = int(input('Introduzca un número entero: '))\n",
    "if number % 2 == 0:\n",
    "    print('El número introducido es PAR')\n",
    "else:\n",
    "    print('El número introducido es IMPAR')\n"
   ]
  },
  {
   "cell_type": "markdown",
   "metadata": {
    "slideshow": {
     "slide_type": "subslide"
    }
   },
   "source": [
    "# Ejecutando ficheros externos en la celda actual"
   ]
  },
  {
   "cell_type": "code",
   "execution_count": 2,
   "metadata": {
    "scrolled": true,
    "slideshow": {
     "slide_type": "-"
    }
   },
   "outputs": [
    {
     "name": "stdout",
     "output_type": "stream",
     "text": [
      "Introduzca un número entero: 21\n",
      "El número introducido es IMPAR\n"
     ]
    }
   ],
   "source": [
    "%run \"resources/jupyter/test1.py\""
   ]
  },
  {
   "cell_type": "markdown",
   "metadata": {
    "slideshow": {
     "slide_type": "subslide"
    }
   },
   "source": [
    "# Escribiendo el contenido de la celda actual en ficheros"
   ]
  },
  {
   "cell_type": "code",
   "execution_count": 15,
   "metadata": {
    "slideshow": {
     "slide_type": "-"
    }
   },
   "outputs": [
    {
     "name": "stdout",
     "output_type": "stream",
     "text": [
      "Overwriting resources/jupyter/pythoncode.py\n"
     ]
    }
   ],
   "source": [
    "%%writefile \"resources/jupyter/pythoncode.py\"\n",
    "def raiz_enesima(x, n):\n",
    "    return x ** (1 / n)\n",
    "\n",
    "print(raiz_enesima(27, 3))"
   ]
  },
  {
   "cell_type": "code",
   "execution_count": null,
   "metadata": {
    "slideshow": {
     "slide_type": "-"
    }
   },
   "outputs": [],
   "source": [
    "# %load \"resources/jupyter/pythoncode.py\"\n",
    "def raiz_enesima(x, n):\n",
    "    return x ** (1 / n)\n",
    "\n",
    "print(raiz_enesima(27, 3))\n"
   ]
  },
  {
   "cell_type": "code",
   "execution_count": 16,
   "metadata": {
    "slideshow": {
     "slide_type": "-"
    }
   },
   "outputs": [
    {
     "name": "stdout",
     "output_type": "stream",
     "text": [
      "3.0\n"
     ]
    }
   ],
   "source": [
    "%run \"resources/jupyter/pythoncode.py\""
   ]
  },
  {
   "cell_type": "markdown",
   "metadata": {
    "slideshow": {
     "slide_type": "subslide"
    }
   },
   "source": [
    "## 💡Ejercicio\n",
    "\n",
    "- Cree un fichero Python usando `%%writefile`.\n",
    "- Cárgelo con `%load`.\n",
    "- Ejecútelo con `%run`.\n",
    "\n",
    "> **OJO**! `%%writefile` debe ser la primera instrucción de la celda, incluso antes que cualquier comentario."
   ]
  },
  {
   "cell_type": "code",
   "execution_count": 5,
   "metadata": {
    "slideshow": {
     "slide_type": "skip"
    }
   },
   "outputs": [],
   "source": [
    "# Write your code here!"
   ]
  },
  {
   "cell_type": "markdown",
   "metadata": {
    "slideshow": {
     "slide_type": "subslide"
    }
   },
   "source": [
    "# Midiendo tiempos de ejecución"
   ]
  },
  {
   "cell_type": "markdown",
   "metadata": {
    "slideshow": {
     "slide_type": "-"
    }
   },
   "source": [
    "**Ámbito de línea**"
   ]
  },
  {
   "cell_type": "code",
   "execution_count": 6,
   "metadata": {
    "slideshow": {
     "slide_type": "-"
    }
   },
   "outputs": [
    {
     "name": "stdout",
     "output_type": "stream",
     "text": [
      "5.7 µs ± 143 ns per loop (mean ± std. dev. of 7 runs, 100000 loops each)\n"
     ]
    }
   ],
   "source": [
    "import numpy\n",
    "\n",
    "%timeit numpy.random.normal(size=100)    # existe %time sólo para 1 ejecución"
   ]
  },
  {
   "cell_type": "markdown",
   "metadata": {
    "slideshow": {
     "slide_type": "-"
    }
   },
   "source": [
    "**Ámbito de bloque**"
   ]
  },
  {
   "cell_type": "code",
   "execution_count": 7,
   "metadata": {
    "slideshow": {
     "slide_type": "-"
    }
   },
   "outputs": [
    {
     "name": "stdout",
     "output_type": "stream",
     "text": [
      "15.3 µs ± 235 ns per loop (mean ± std. dev. of 7 runs, 100000 loops each)\n"
     ]
    }
   ],
   "source": [
    "%%timeit\n",
    "\n",
    "numpy.random.poisson(size=100)\n",
    "numpy.random.uniform(size=100)\n",
    "numpy.random.logistic(size=100)"
   ]
  },
  {
   "cell_type": "markdown",
   "metadata": {
    "slideshow": {
     "slide_type": "-"
    }
   },
   "source": [
    "Enlace a la [documentación de %timeit](https://ipython.readthedocs.io/en/stable/interactive/magics.html#magic-timeit)"
   ]
  },
  {
   "cell_type": "markdown",
   "metadata": {
    "slideshow": {
     "slide_type": "subslide"
    }
   },
   "source": [
    "## 💡Ejercicio\n",
    "\n",
    "Mida si hay diferencias significativas en tiempos de ejecución en la creación de distribuciones aleatorias atendiendo a:\n",
    "- Tipo de distribución (*Poisson*, *Uniform*, *Logistic*).\n",
    "- Tamaño de la muestra (100, 10000, 1000000)"
   ]
  },
  {
   "cell_type": "code",
   "execution_count": 8,
   "metadata": {
    "slideshow": {
     "slide_type": "skip"
    }
   },
   "outputs": [],
   "source": [
    "# Write your code here!"
   ]
  },
  {
   "cell_type": "markdown",
   "metadata": {
    "slideshow": {
     "slide_type": "skip"
    }
   },
   "source": [
    "## ⭐️ Solución"
   ]
  },
  {
   "cell_type": "code",
   "execution_count": 9,
   "metadata": {
    "slideshow": {
     "slide_type": "skip"
    }
   },
   "outputs": [],
   "source": [
    "# %load 'solutions/jupyter/timeit.py'"
   ]
  },
  {
   "cell_type": "markdown",
   "metadata": {
    "slideshow": {
     "slide_type": "subslide"
    }
   },
   "source": [
    "# Celdas con `html`"
   ]
  },
  {
   "cell_type": "code",
   "execution_count": 10,
   "metadata": {
    "scrolled": false,
    "slideshow": {
     "slide_type": "-"
    }
   },
   "outputs": [
    {
     "data": {
      "text/html": [
       "\n",
       "<iframe src=\"https://www.google.com/maps/embed?pb=!1m18!1m12!1m3!1d56117.141338335256!2d-16.343374784412347!3d28.469867967737137!2m3!1f0!2f0!3f0!3m2!1i1024!2i768!4f13.1!3m3!1m2!1s0xc41cdeccdcfeaf5%3A0x54a9fe4642667870!2sSan+Crist%C3%B3bal+de+La+Laguna%2C+Santa+Cruz+de+Tenerife!5e0!3m2!1ses!2ses!4v1547662448788\" width=\"400\" height=\"300\" frameborder=\"0\" style=\"border:0\" allowfullscreen></iframe>\n"
      ],
      "text/plain": [
       "<IPython.core.display.HTML object>"
      ]
     },
     "metadata": {},
     "output_type": "display_data"
    }
   ],
   "source": [
    "%%html\n",
    "\n",
    "<iframe src=\"https://www.google.com/maps/embed?pb=!1m18!1m12!1m3!1d56117.141338335256!2d-16.343374784412347!3d28.469867967737137!2m3!1f0!2f0!3f0!3m2!1i1024!2i768!4f13.1!3m3!1m2!1s0xc41cdeccdcfeaf5%3A0x54a9fe4642667870!2sSan+Crist%C3%B3bal+de+La+Laguna%2C+Santa+Cruz+de+Tenerife!5e0!3m2!1ses!2ses!4v1547662448788\" width=\"400\" height=\"300\" frameborder=\"0\" style=\"border:0\" allowfullscreen></iframe>"
   ]
  },
  {
   "cell_type": "markdown",
   "metadata": {
    "slideshow": {
     "slide_type": "subslide"
    }
   },
   "source": [
    "# Celdas con `bash`"
   ]
  },
  {
   "cell_type": "code",
   "execution_count": 11,
   "metadata": {
    "slideshow": {
     "slide_type": "-"
    }
   },
   "outputs": [
    {
     "name": "stdout",
     "output_type": "stream",
     "text": [
      ".\n",
      "├── data\n",
      "├── images\n",
      "├── resources\n",
      "└── solutions\n",
      "    └── jupyter\n",
      "\n",
      "5 directories\n"
     ]
    }
   ],
   "source": [
    "%%bash\n",
    "\n",
    "tree -d"
   ]
  },
  {
   "cell_type": "markdown",
   "metadata": {
    "slideshow": {
     "slide_type": "subslide"
    }
   },
   "source": [
    "# Celdas con `perl`"
   ]
  },
  {
   "cell_type": "code",
   "execution_count": 12,
   "metadata": {
    "slideshow": {
     "slide_type": "-"
    }
   },
   "outputs": [
    {
     "name": "stdout",
     "output_type": "stream",
     "text": [
      "Username is: sdelquin\n",
      "Hostname is: gmail.com\n"
     ]
    }
   ],
   "source": [
    "%%perl\n",
    "\n",
    "my $email = 'sdelquin@gmail.com';\n",
    "\n",
    "if ($email =~ /^([^@]+)\\@(.+)$/) {\n",
    "    print \"Username is: $1\\n\";\n",
    "    print \"Hostname is: $2\\n\";\n",
    "}"
   ]
  },
  {
   "cell_type": "markdown",
   "metadata": {
    "slideshow": {
     "slide_type": "slide"
    }
   },
   "source": [
    "# Otros recursos\n",
    "---"
   ]
  },
  {
   "cell_type": "markdown",
   "metadata": {
    "slideshow": {
     "slide_type": "subslide"
    }
   },
   "source": [
    "# Conversión en transparencias\n",
    "\n",
    "1. Establecer en cada celda su *Slide Type* (Slide, Sub-Slide, Fragment, Skip, Notes).\n",
    "2. Lanzar el siguiente comando en consola:\n",
    "\n",
    "![nbconvert](images/jupyter/nbconvert.png)"
   ]
  },
  {
   "cell_type": "markdown",
   "metadata": {
    "slideshow": {
     "slide_type": "subslide"
    }
   },
   "source": [
    "# Extensiones\n",
    "\n",
    "[Unofficial Jupyter Notebook Extensions](https://jupyter-contrib-nbextensions.readthedocs.io/en/latest/)\n",
    "\n",
    "## Instalación\n",
    "\n",
    "![jupyter_contrib_nbextensions](images/jupyter/jupyter_contrib_nbextensions.png)"
   ]
  }
 ],
 "metadata": {
  "celltoolbar": "Slideshow",
  "kernelspec": {
   "display_name": "Python 3",
   "language": "python",
   "name": "python3"
  },
  "language_info": {
   "codemirror_mode": {
    "name": "ipython",
    "version": 3
   },
   "file_extension": ".py",
   "mimetype": "text/x-python",
   "name": "python",
   "nbconvert_exporter": "python",
   "pygments_lexer": "ipython3",
   "version": "3.6.5"
  }
 },
 "nbformat": 4,
 "nbformat_minor": 2
}
