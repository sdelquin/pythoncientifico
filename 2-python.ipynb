{
 "cells": [
  {
   "cell_type": "markdown",
   "metadata": {
    "slideshow": {
     "slide_type": "slide"
    }
   },
   "source": [
    "![Python The Snake](images/python/python_the_snake.jpg)\n",
    "\n",
    "Photo by [Robert Zunikoff](https://unsplash.com/photos/qZoT7MfT7KM?utm_source=unsplash&utm_medium=referral&utm_content=creditCopyText) on [Unsplash](https://unsplash.com/search/photos/python?utm_source=unsplash&utm_medium=referral&utm_content=creditCopyText)"
   ]
  },
  {
   "cell_type": "markdown",
   "metadata": {
    "slideshow": {
     "slide_type": "slide"
    }
   },
   "source": [
    "# Motivación\n",
    "\n"
   ]
  },
  {
   "cell_type": "markdown",
   "metadata": {
    "slideshow": {
     "slide_type": "-"
    }
   },
   "source": [
    "En su [definición](https://es.wikipedia.org/wiki/Python) de la Wikipedia:\n",
    "\n",
    "> Python es un lenguaje de programación **interpretado** cuya filosofía hace hincapié en una sintaxis que favorezca un **código legible**.\n",
    "\n",
    "> Se trata de un lenguaje de programación **multiparadigma**, ya que soporta **orientación a objetos**, **programación imperativa** y, en menor medida, *programación funcional*. Usa **tipado dinámico** y es **multiplataforma**."
   ]
  },
  {
   "cell_type": "markdown",
   "metadata": {
    "slideshow": {
     "slide_type": "subslide"
    }
   },
   "source": [
    "# Python vs R\n",
    "\n",
    "[Why Choosing Python For Data Science Is An Important Move](https://www.smartdatacollective.com/why-choosing-python-for-data-science-important-move/)"
   ]
  },
  {
   "cell_type": "markdown",
   "metadata": {
    "slideshow": {
     "slide_type": "-"
    }
   },
   "source": [
    "![python-vs-R](images/python/python-vs-R.png)\n",
    "\n",
    "Referencia: [Google Trends](https://g.co/trends/mzZQa)"
   ]
  },
  {
   "cell_type": "markdown",
   "metadata": {
    "slideshow": {
     "slide_type": "subslide"
    }
   },
   "source": [
    "# Guión\n",
    "\n",
    "1. Tipos de datos y operadores\n",
    "2. Flujo de control\n",
    "3. Funciones\n",
    "4. Clases\n",
    "5. Ficheros\n",
    "\n",
    "Referencia: [Become a Data Scientist](https://eu.udacity.com/course/data-scientist-nanodegree--nd025) by Udacity"
   ]
  },
  {
   "cell_type": "markdown",
   "metadata": {
    "slideshow": {
     "slide_type": "slide"
    }
   },
   "source": [
    "# Tipos de datos y operadores\n",
    "---"
   ]
  },
  {
   "cell_type": "markdown",
   "metadata": {
    "slideshow": {
     "slide_type": "subslide"
    }
   },
   "source": [
    "# Operadores aritméticos"
   ]
  },
  {
   "cell_type": "markdown",
   "metadata": {},
   "source": [
    "$\n",
    "\\begin{align*}\n",
    "    \\frac{((3 + 4) - 2) \\cdot 2}{2}\n",
    "\\end{align*}\n",
    "$"
   ]
  },
  {
   "cell_type": "code",
   "execution_count": 279,
   "metadata": {
    "slideshow": {
     "slide_type": "-"
    }
   },
   "outputs": [
    {
     "data": {
      "text/plain": [
       "5.0"
      ]
     },
     "execution_count": 279,
     "metadata": {},
     "output_type": "execute_result"
    }
   ],
   "source": [
    "(((3 + 4) - 2) * 2) / 2"
   ]
  },
  {
   "cell_type": "markdown",
   "metadata": {
    "slideshow": {
     "slide_type": "-"
    }
   },
   "source": [
    "## División real vs. división entera"
   ]
  },
  {
   "cell_type": "code",
   "execution_count": 280,
   "metadata": {
    "slideshow": {
     "slide_type": "-"
    }
   },
   "outputs": [
    {
     "data": {
      "text/plain": [
       "4.666666666666667"
      ]
     },
     "execution_count": 280,
     "metadata": {},
     "output_type": "execute_result"
    }
   ],
   "source": [
    "14 / 3"
   ]
  },
  {
   "cell_type": "code",
   "execution_count": 281,
   "metadata": {
    "slideshow": {
     "slide_type": "-"
    }
   },
   "outputs": [
    {
     "data": {
      "text/plain": [
       "4"
      ]
     },
     "execution_count": 281,
     "metadata": {},
     "output_type": "execute_result"
    }
   ],
   "source": [
    "14 // 3"
   ]
  },
  {
   "cell_type": "markdown",
   "metadata": {
    "slideshow": {
     "slide_type": "subslide"
    }
   },
   "source": [
    "## Módulo"
   ]
  },
  {
   "cell_type": "code",
   "execution_count": 282,
   "metadata": {
    "slideshow": {
     "slide_type": "-"
    }
   },
   "outputs": [
    {
     "data": {
      "text/plain": [
       "2"
      ]
     },
     "execution_count": 282,
     "metadata": {},
     "output_type": "execute_result"
    }
   ],
   "source": [
    "14 % 3    # resto de dividir 14 entre 3"
   ]
  },
  {
   "cell_type": "markdown",
   "metadata": {},
   "source": [
    "Esto es equivalente a la siguiente operación:"
   ]
  },
  {
   "cell_type": "code",
   "execution_count": 283,
   "metadata": {},
   "outputs": [
    {
     "data": {
      "text/plain": [
       "2"
      ]
     },
     "execution_count": 283,
     "metadata": {},
     "output_type": "execute_result"
    }
   ],
   "source": [
    "14 - ((14 // 3) * 3)"
   ]
  },
  {
   "cell_type": "markdown",
   "metadata": {
    "slideshow": {
     "slide_type": "-"
    }
   },
   "source": [
    "## Exponenciación"
   ]
  },
  {
   "cell_type": "code",
   "execution_count": 284,
   "metadata": {
    "slideshow": {
     "slide_type": "-"
    }
   },
   "outputs": [
    {
     "data": {
      "text/plain": [
       "16"
      ]
     },
     "execution_count": 284,
     "metadata": {},
     "output_type": "execute_result"
    }
   ],
   "source": [
    "4 ** 2"
   ]
  },
  {
   "cell_type": "markdown",
   "metadata": {
    "slideshow": {
     "slide_type": "subslide"
    }
   },
   "source": [
    "## 💡Ejercicio\n",
    "\n",
    "Compruebe que el resultado de la siguiente expresión es $2621.48$:\n",
    "\n",
    "$\n",
    "\\begin{align*}\n",
    "\\frac{2^{(2 * 8)}}{\\frac{128}{4} - 7} + \\frac{1}{27}\n",
    "\\end{align*}\n",
    "$"
   ]
  },
  {
   "cell_type": "code",
   "execution_count": 285,
   "metadata": {
    "slideshow": {
     "slide_type": "skip"
    }
   },
   "outputs": [],
   "source": [
    "# Write your code here!"
   ]
  },
  {
   "cell_type": "markdown",
   "metadata": {
    "slideshow": {
     "slide_type": "skip"
    }
   },
   "source": [
    "## ⭐️ Solución"
   ]
  },
  {
   "cell_type": "code",
   "execution_count": 286,
   "metadata": {
    "slideshow": {
     "slide_type": "skip"
    }
   },
   "outputs": [],
   "source": [
    "# %load \"solutions/python/arithmetic.py\""
   ]
  },
  {
   "cell_type": "markdown",
   "metadata": {
    "slideshow": {
     "slide_type": "subslide"
    }
   },
   "source": [
    "# Operadores a nivel de bits"
   ]
  },
  {
   "cell_type": "code",
   "execution_count": 287,
   "metadata": {
    "slideshow": {
     "slide_type": "-"
    }
   },
   "outputs": [],
   "source": [
    "x = 0b_110_111  # 55 en decimal\n",
    "y = 0b_100_110  # 38 en decimal"
   ]
  },
  {
   "cell_type": "markdown",
   "metadata": {
    "slideshow": {
     "slide_type": "-"
    }
   },
   "source": [
    "## Desplazamiento hacia la derecha\n",
    "\n",
    "$\n",
    "\\begin{align*}\n",
    "   x \\gg d = \\frac{x}{2^d}\n",
    "\\end{align*}\n",
    "$"
   ]
  },
  {
   "cell_type": "code",
   "execution_count": 288,
   "metadata": {
    "scrolled": true,
    "slideshow": {
     "slide_type": "-"
    }
   },
   "outputs": [
    {
     "name": "stdout",
     "output_type": "stream",
     "text": [
      "0b110111\n",
      "0b110 6 6\n"
     ]
    }
   ],
   "source": [
    "d = 3\n",
    "z = x >> d\n",
    "print(bin(x))\n",
    "print(bin(z), z, x // (2 ** d))"
   ]
  },
  {
   "cell_type": "markdown",
   "metadata": {
    "slideshow": {
     "slide_type": "subslide"
    }
   },
   "source": [
    "## Desplazamiento hacia la izquierda\n",
    "\n",
    "$\n",
    "\\begin{align*}\n",
    "   x \\ll d = x \\cdot {2^d}\n",
    "\\end{align*}\n",
    "$"
   ]
  },
  {
   "cell_type": "code",
   "execution_count": 289,
   "metadata": {
    "slideshow": {
     "slide_type": "-"
    }
   },
   "outputs": [
    {
     "name": "stdout",
     "output_type": "stream",
     "text": [
      "0b110111\n",
      "0b110111000 440 440\n"
     ]
    }
   ],
   "source": [
    "d = 3\n",
    "z = x << d\n",
    "print(bin(x))\n",
    "print(bin(z), z, x * (2 ** d))"
   ]
  },
  {
   "cell_type": "markdown",
   "metadata": {
    "slideshow": {
     "slide_type": "subslide"
    }
   },
   "source": [
    "## AND (\"y\" lógico)"
   ]
  },
  {
   "cell_type": "code",
   "execution_count": 290,
   "metadata": {
    "slideshow": {
     "slide_type": "-"
    }
   },
   "outputs": [
    {
     "name": "stdout",
     "output_type": "stream",
     "text": [
      "0b110111\n",
      "0b100110\n",
      "--------\n",
      "0b100110\n"
     ]
    }
   ],
   "source": [
    "z = x & y\n",
    "print(bin(x))\n",
    "print(bin(y))\n",
    "print('-'*len(bin(x)))\n",
    "print(bin(z))"
   ]
  },
  {
   "cell_type": "markdown",
   "metadata": {
    "slideshow": {
     "slide_type": "subslide"
    }
   },
   "source": [
    "## OR (\"o\" lógico)"
   ]
  },
  {
   "cell_type": "code",
   "execution_count": 291,
   "metadata": {
    "slideshow": {
     "slide_type": "-"
    }
   },
   "outputs": [
    {
     "name": "stdout",
     "output_type": "stream",
     "text": [
      "0b110111\n",
      "0b100110\n",
      "--------\n",
      "0b110111\n"
     ]
    }
   ],
   "source": [
    "z = x | y\n",
    "print(bin(x))\n",
    "print(bin(y))\n",
    "print('-'*len(bin(x)))\n",
    "print(bin(z))"
   ]
  },
  {
   "cell_type": "markdown",
   "metadata": {
    "slideshow": {
     "slide_type": "subslide"
    }
   },
   "source": [
    "## NOT (*con inversión de signo*)"
   ]
  },
  {
   "cell_type": "code",
   "execution_count": 292,
   "metadata": {
    "scrolled": false,
    "slideshow": {
     "slide_type": "-"
    }
   },
   "outputs": [
    {
     "name": "stdout",
     "output_type": "stream",
     "text": [
      "0b110111\n",
      "--------\n",
      "-0b111000\n"
     ]
    }
   ],
   "source": [
    "z = ~x\n",
    "print(bin(x))\n",
    "print('-'*len(bin(x)))\n",
    "print(bin(z))"
   ]
  },
  {
   "cell_type": "markdown",
   "metadata": {
    "slideshow": {
     "slide_type": "-"
    }
   },
   "source": [
    "El signo menos es por la representación del número negativo, que es en *complemento a 2*:"
   ]
  },
  {
   "cell_type": "code",
   "execution_count": 293,
   "metadata": {
    "slideshow": {
     "slide_type": "-"
    }
   },
   "outputs": [
    {
     "data": {
      "text/plain": [
       "(-56, '0b110111')"
      ]
     },
     "execution_count": 293,
     "metadata": {},
     "output_type": "execute_result"
    }
   ],
   "source": [
    "z, bin(x)"
   ]
  },
  {
   "cell_type": "markdown",
   "metadata": {},
   "source": [
    "Conversión del complemento a 2 en un *\"unsigned int\"* (**bitflip**):"
   ]
  },
  {
   "cell_type": "code",
   "execution_count": 294,
   "metadata": {},
   "outputs": [
    {
     "data": {
      "text/plain": [
       "'001000'"
      ]
     },
     "execution_count": 294,
     "metadata": {},
     "output_type": "execute_result"
    }
   ],
   "source": [
    "bin(~x & 0xffffffff)[-len(bin(x)) + 2:]"
   ]
  },
  {
   "cell_type": "markdown",
   "metadata": {
    "slideshow": {
     "slide_type": "subslide"
    }
   },
   "source": [
    "## XOR (\"o\" exclusivo)"
   ]
  },
  {
   "cell_type": "code",
   "execution_count": 295,
   "metadata": {
    "scrolled": true,
    "slideshow": {
     "slide_type": "-"
    }
   },
   "outputs": [
    {
     "name": "stdout",
     "output_type": "stream",
     "text": [
      "0b110111\n",
      "0b100110\n",
      "--------\n",
      "0b10001\n"
     ]
    }
   ],
   "source": [
    "z = x ^ y\n",
    "print(bin(x))\n",
    "print(bin(y))\n",
    "print('-'*len(bin(x)))\n",
    "print(bin(z))"
   ]
  },
  {
   "cell_type": "markdown",
   "metadata": {
    "slideshow": {
     "slide_type": "subslide"
    }
   },
   "source": [
    "## 💡Ejercicio\n",
    "\n",
    "Escriba la expresión Python que representa el siguiente circuito de puertas lógicas y obtenga la salida $\\mathcal{S}$ para los siguientes valores: $(A=0, B=0, C=0), (A=1, B=0, C=1), (A=1, B=1, C=0)$\n",
    "\n",
    "![Logic Circuit](images/python/logic_circuit.png)\n",
    "\n",
    "**NOTA**: Usar el operador `not` en vez de `~` ya que estamos trabajando a nivel de bit sin signo.\n",
    "\n",
    "Referencia: https://www.edu.xunta.gal/centros/cafi/aulavirtual2/pluginfile.php/38274/mod_resource/content/2/PR10.pdf"
   ]
  },
  {
   "cell_type": "code",
   "execution_count": 296,
   "metadata": {
    "slideshow": {
     "slide_type": "skip"
    }
   },
   "outputs": [],
   "source": [
    "# Write your code here!"
   ]
  },
  {
   "cell_type": "markdown",
   "metadata": {
    "slideshow": {
     "slide_type": "skip"
    }
   },
   "source": [
    "## ⭐️ Solución"
   ]
  },
  {
   "cell_type": "code",
   "execution_count": 297,
   "metadata": {
    "slideshow": {
     "slide_type": "skip"
    }
   },
   "outputs": [],
   "source": [
    "# %load \"solutions/python/bitlogic.py\""
   ]
  },
  {
   "cell_type": "markdown",
   "metadata": {
    "slideshow": {
     "slide_type": "subslide"
    }
   },
   "source": [
    "# Variables"
   ]
  },
  {
   "cell_type": "markdown",
   "metadata": {
    "slideshow": {
     "slide_type": "-"
    }
   },
   "source": [
    "## Reglas para nombrar las variables\n",
    "\n",
    "1. Usar sólo letras, números o subguiones. No puede haber espacios y debe comenzar por una letra o un subguión.\n",
    "2. No usar palabras clave del lenguaje.\n",
    "3. La forma \"pitónica\" de nombrar una variable es con el [snake_case](https://en.wikipedia.org/wiki/Snake_case).\n",
    "4. La forma \"pitónica\" de nombrar variables con valores \"constantes\" es usar cadenas en mayúsculas.\n",
    "5. La forma \"pitónica\" de nombrar clases es con el [CamelCase](https://es.wikipedia.org/wiki/CamelCase)."
   ]
  },
  {
   "cell_type": "markdown",
   "metadata": {
    "slideshow": {
     "slide_type": "-"
    }
   },
   "source": [
    "## Palabras clave del lenguaje"
   ]
  },
  {
   "cell_type": "code",
   "execution_count": 298,
   "metadata": {
    "scrolled": true,
    "slideshow": {
     "slide_type": "-"
    }
   },
   "outputs": [
    {
     "name": "stdout",
     "output_type": "stream",
     "text": [
      "False,None,True,and,as,assert,break,class,continue,def,del,elif,else,except,finally,for,from,global,if,import,in,is,lambda,nonlocal,not,or,pass,raise,return,try,while,with,yield\n"
     ]
    }
   ],
   "source": [
    "import keyword\n",
    "print(','.join(keyword.kwlist))"
   ]
  },
  {
   "cell_type": "markdown",
   "metadata": {
    "slideshow": {
     "slide_type": "subslide"
    }
   },
   "source": [
    "# Ejemplos correctos de variables"
   ]
  },
  {
   "cell_type": "code",
   "execution_count": 299,
   "metadata": {
    "slideshow": {
     "slide_type": "-"
    }
   },
   "outputs": [],
   "source": [
    "# variables\n",
    "num_rooms = 5\n",
    "daily_price = 90\n",
    "eu_price, us_price = 23, 29   # asignación múltiple inline\n",
    "\n",
    "# constantes\n",
    "SECONDS_IN_HOUR = 3600\n",
    "\n",
    "# clases\n",
    "OnlineCustomer = object\n",
    "MainIssue = object"
   ]
  },
  {
   "cell_type": "code",
   "execution_count": 300,
   "metadata": {
    "scrolled": true,
    "slideshow": {
     "slide_type": "-"
    },
    "tags": [
     "raises-exception"
    ]
   },
   "outputs": [
    {
     "ename": "SyntaxError",
     "evalue": "invalid syntax (<ipython-input-300-a3b38dbf95ca>, line 1)",
     "output_type": "error",
     "traceback": [
      "\u001b[0;36m  File \u001b[0;32m\"<ipython-input-300-a3b38dbf95ca>\"\u001b[0;36m, line \u001b[0;32m1\u001b[0m\n\u001b[0;31m    if = 'you cannot use a keyword as a variable name'\u001b[0m\n\u001b[0m       ^\u001b[0m\n\u001b[0;31mSyntaxError\u001b[0m\u001b[0;31m:\u001b[0m invalid syntax\n"
     ]
    }
   ],
   "source": [
    "if = 'you cannot use a keyword as a variable name'"
   ]
  },
  {
   "cell_type": "markdown",
   "metadata": {
    "slideshow": {
     "slide_type": "subslide"
    }
   },
   "source": [
    "# Enteros y flotantes"
   ]
  },
  {
   "cell_type": "code",
   "execution_count": 301,
   "metadata": {
    "slideshow": {
     "slide_type": "-"
    }
   },
   "outputs": [
    {
     "name": "stdout",
     "output_type": "stream",
     "text": [
      "55 <class 'int'>\n",
      "4.38 <class 'float'>\n"
     ]
    }
   ],
   "source": [
    "x = 55\n",
    "y = 4.38\n",
    "print(x, type(x))\n",
    "print(y, type(y))"
   ]
  },
  {
   "cell_type": "code",
   "execution_count": 302,
   "metadata": {
    "slideshow": {
     "slide_type": "-"
    }
   },
   "outputs": [
    {
     "name": "stdout",
     "output_type": "stream",
     "text": [
      "55.0\n",
      "4\n"
     ]
    }
   ],
   "source": [
    "x_as_float = float(x)\n",
    "y_as_int = int(y)\n",
    "print(x_as_float)\n",
    "print(y_as_int)"
   ]
  },
  {
   "cell_type": "markdown",
   "metadata": {
    "slideshow": {
     "slide_type": "subslide"
    }
   },
   "source": [
    "# Operadores compactos"
   ]
  },
  {
   "cell_type": "code",
   "execution_count": 303,
   "metadata": {
    "slideshow": {
     "slide_type": "-"
    }
   },
   "outputs": [],
   "source": [
    "x = 21\n",
    "y = 34"
   ]
  },
  {
   "cell_type": "code",
   "execution_count": 304,
   "metadata": {
    "slideshow": {
     "slide_type": "-"
    }
   },
   "outputs": [
    {
     "data": {
      "text/plain": [
       "55"
      ]
     },
     "execution_count": 304,
     "metadata": {},
     "output_type": "execute_result"
    }
   ],
   "source": [
    "x += y   # equivale a x = x + y\n",
    "x"
   ]
  },
  {
   "cell_type": "code",
   "execution_count": 305,
   "metadata": {
    "slideshow": {
     "slide_type": "-"
    }
   },
   "outputs": [
    {
     "data": {
      "text/plain": [
       "0.6181818181818182"
      ]
     },
     "execution_count": 305,
     "metadata": {},
     "output_type": "execute_result"
    }
   ],
   "source": [
    "y /= x\n",
    "y"
   ]
  },
  {
   "cell_type": "code",
   "execution_count": 306,
   "metadata": {
    "slideshow": {
     "slide_type": "-"
    }
   },
   "outputs": [
    {
     "data": {
      "text/plain": [
       "55"
      ]
     },
     "execution_count": 306,
     "metadata": {},
     "output_type": "execute_result"
    }
   ],
   "source": [
    "x ^= int(y)\n",
    "x"
   ]
  },
  {
   "cell_type": "code",
   "execution_count": 307,
   "metadata": {
    "slideshow": {
     "slide_type": "-"
    }
   },
   "outputs": [
    {
     "data": {
      "text/plain": [
       "0.3821487603305785"
      ]
     },
     "execution_count": 307,
     "metadata": {},
     "output_type": "execute_result"
    }
   ],
   "source": [
    "y **= 2\n",
    "y"
   ]
  },
  {
   "cell_type": "markdown",
   "metadata": {
    "slideshow": {
     "slide_type": "subslide"
    }
   },
   "source": [
    "# Números enteros muy grandes\n",
    "\n",
    "Los números enteros en Python no tienen más límite que la memoria del ordenador, por ejemplo, $2^{2048}$ puede ser un número demasiado grande para calculadoras, Excel, etc... Pero en Python no hay problema para trabajar con él:"
   ]
  },
  {
   "cell_type": "code",
   "execution_count": 308,
   "metadata": {
    "slideshow": {
     "slide_type": "-"
    }
   },
   "outputs": [
    {
     "data": {
      "text/plain": [
       "32317006071311007300714876688669951960444102669715484032130345427524655138867890893197201411522913463688717960921898019494119559150490921095088152386448283120630877367300996091750197750389652106796057638384067568276792218642619756161838094338476170470581645852036305042887575891541065808607552399123930385521914333389668342420684974786564569494856176035326322058077805659331026192708460314150258592864177116725943603718461857357598351152301645904403697613233287231227125684710820209725157101726931323469678542580656697935045997268352998638215525166389437335543602135433229604645318478604952148193555853611059596230656"
      ]
     },
     "execution_count": 308,
     "metadata": {},
     "output_type": "execute_result"
    }
   ],
   "source": [
    "big_int_number = 2**2048\n",
    "big_int_number"
   ]
  },
  {
   "cell_type": "code",
   "execution_count": 309,
   "metadata": {
    "slideshow": {
     "slide_type": "-"
    }
   },
   "outputs": [
    {
     "data": {
      "text/plain": [
       "149600000"
      ]
     },
     "execution_count": 309,
     "metadata": {},
     "output_type": "execute_result"
    }
   ],
   "source": [
    "# Se permite dividir números grandes con subguiones\n",
    "distance_earth_sun = 149_600_000\n",
    "distance_earth_sun"
   ]
  },
  {
   "cell_type": "markdown",
   "metadata": {
    "slideshow": {
     "slide_type": "subslide"
    }
   },
   "source": [
    "# Números flotantes muy grandes\n",
    "\n",
    "En punto flotante sí tenemos un límite establecido por el número de bits que se usan para representar dicho número en el [estándar del IEEE para aritmética en coma flotante (IEEE 754)](https://es.wikipedia.org/wiki/IEEE_coma_flotante)."
   ]
  },
  {
   "cell_type": "code",
   "execution_count": 310,
   "metadata": {
    "slideshow": {
     "slide_type": "-"
    }
   },
   "outputs": [
    {
     "data": {
      "text/plain": [
       "sys.float_info(max=1.7976931348623157e+308, max_exp=1024, max_10_exp=308, min=2.2250738585072014e-308, min_exp=-1021, min_10_exp=-307, dig=15, mant_dig=53, epsilon=2.220446049250313e-16, radix=2, rounds=1)"
      ]
     },
     "execution_count": 310,
     "metadata": {},
     "output_type": "execute_result"
    }
   ],
   "source": [
    "import sys\n",
    "\n",
    "sys.float_info"
   ]
  },
  {
   "cell_type": "code",
   "execution_count": 311,
   "metadata": {
    "slideshow": {
     "slide_type": "-"
    }
   },
   "outputs": [],
   "source": [
    "big_float_number = 1.7976931348623157e+308"
   ]
  },
  {
   "cell_type": "code",
   "execution_count": 312,
   "metadata": {
    "slideshow": {
     "slide_type": "-"
    }
   },
   "outputs": [
    {
     "data": {
      "text/plain": [
       "True"
      ]
     },
     "execution_count": 312,
     "metadata": {},
     "output_type": "execute_result"
    }
   ],
   "source": [
    "big_float_number == big_float_number + 1"
   ]
  },
  {
   "cell_type": "code",
   "execution_count": 313,
   "metadata": {
    "slideshow": {
     "slide_type": "-"
    }
   },
   "outputs": [
    {
     "data": {
      "text/plain": [
       "inf"
      ]
     },
     "execution_count": 313,
     "metadata": {},
     "output_type": "execute_result"
    }
   ],
   "source": [
    "big_float_number + 2 ** 1000"
   ]
  },
  {
   "cell_type": "markdown",
   "metadata": {
    "slideshow": {
     "slide_type": "subslide"
    }
   },
   "source": [
    "# Problemas de precisión en punto flotante\n",
    "\n",
    "Debido a las restricciones de una máquina física en su representación interna de los números flotantes, hay veces que ocurren cosas como:"
   ]
  },
  {
   "cell_type": "code",
   "execution_count": 314,
   "metadata": {
    "slideshow": {
     "slide_type": "-"
    }
   },
   "outputs": [
    {
     "data": {
      "text/plain": [
       "False"
      ]
     },
     "execution_count": 314,
     "metadata": {},
     "output_type": "execute_result"
    }
   ],
   "source": [
    "0.1 + 0.1 + 0.1 == 0.3"
   ]
  },
  {
   "cell_type": "markdown",
   "metadata": {
    "slideshow": {
     "slide_type": "-"
    }
   },
   "source": [
    "La representación de **0.1** en **base 2** es la repetición infinita de:\n",
    "\n",
    "`0.0001100110011001100110011001100110011001100110011...`\n",
    "\n",
    "Dado que el valor 0.1 se tiene que representar con un número finito de dígitos siempre vamos a tener una **pérdida de precisión**."
   ]
  },
  {
   "cell_type": "code",
   "execution_count": 315,
   "metadata": {
    "slideshow": {
     "slide_type": "-"
    }
   },
   "outputs": [
    {
     "data": {
      "text/plain": [
       "-5.551115123125783e-17"
      ]
     },
     "execution_count": 315,
     "metadata": {},
     "output_type": "execute_result"
    }
   ],
   "source": [
    "0.3 - (0.1 * 3)"
   ]
  },
  {
   "cell_type": "markdown",
   "metadata": {},
   "source": [
    "Referencia: [Floating Point Arithmetic: Issues and Limitations](https://docs.python.org/3/tutorial/floatingpoint.html)"
   ]
  },
  {
   "cell_type": "markdown",
   "metadata": {
    "slideshow": {
     "slide_type": "subslide"
    }
   },
   "source": [
    "# Booleanos, operadores de comparación y operadores lógicos"
   ]
  },
  {
   "cell_type": "code",
   "execution_count": 316,
   "metadata": {
    "slideshow": {
     "slide_type": "-"
    }
   },
   "outputs": [
    {
     "name": "stdout",
     "output_type": "stream",
     "text": [
      "False False True True False True\n"
     ]
    }
   ],
   "source": [
    "print(4 > 7, 4 >= 7, 4 < 7, 4 <= 7, 4 == 7, 4 != 7)"
   ]
  },
  {
   "cell_type": "code",
   "execution_count": 317,
   "metadata": {
    "slideshow": {
     "slide_type": "-"
    }
   },
   "outputs": [
    {
     "data": {
      "text/plain": [
       "False"
      ]
     },
     "execution_count": 317,
     "metadata": {},
     "output_type": "execute_result"
    }
   ],
   "source": [
    "4 > 7 and 4 > 3"
   ]
  },
  {
   "cell_type": "code",
   "execution_count": 318,
   "metadata": {
    "slideshow": {
     "slide_type": "-"
    }
   },
   "outputs": [
    {
     "data": {
      "text/plain": [
       "True"
      ]
     },
     "execution_count": 318,
     "metadata": {},
     "output_type": "execute_result"
    }
   ],
   "source": [
    "4 > 7 or 4 > 3"
   ]
  },
  {
   "cell_type": "code",
   "execution_count": 319,
   "metadata": {
    "slideshow": {
     "slide_type": "-"
    }
   },
   "outputs": [
    {
     "data": {
      "text/plain": [
       "True"
      ]
     },
     "execution_count": 319,
     "metadata": {},
     "output_type": "execute_result"
    }
   ],
   "source": [
    "not 4 > 7"
   ]
  },
  {
   "cell_type": "markdown",
   "metadata": {
    "slideshow": {
     "slide_type": "subslide"
    }
   },
   "source": [
    "# Números complejos\n",
    "\n",
    "En Python también podemos representar números complejos en la forma: $\\mathcal{z} = x + iy$, salvo que se usa el carácter $j$ en vez de $i$ ([explicación de este cambio](https://stackoverflow.com/questions/24812444/why-are-complex-numbers-in-python-denoted-with-j-instead-of-i))."
   ]
  },
  {
   "cell_type": "code",
   "execution_count": 320,
   "metadata": {
    "slideshow": {
     "slide_type": "-"
    }
   },
   "outputs": [
    {
     "name": "stdout",
     "output_type": "stream",
     "text": [
      "(5+7j)\n",
      "(-3+5j)\n"
     ]
    }
   ],
   "source": [
    "z1 = complex(5, 7)\n",
    "z2 = complex(-3, 5)\n",
    "print(z1)\n",
    "print(z2)"
   ]
  },
  {
   "cell_type": "code",
   "execution_count": 321,
   "metadata": {
    "slideshow": {
     "slide_type": "-"
    }
   },
   "outputs": [
    {
     "data": {
      "text/plain": [
       "(5.0, 7.0)"
      ]
     },
     "execution_count": 321,
     "metadata": {},
     "output_type": "execute_result"
    }
   ],
   "source": [
    "z1.real, z1.imag"
   ]
  },
  {
   "cell_type": "code",
   "execution_count": 322,
   "metadata": {
    "slideshow": {
     "slide_type": "-"
    }
   },
   "outputs": [
    {
     "data": {
      "text/plain": [
       "(-3.0, 7.0)"
      ]
     },
     "execution_count": 322,
     "metadata": {},
     "output_type": "execute_result"
    }
   ],
   "source": [
    "z2.real, z1.imag"
   ]
  },
  {
   "cell_type": "code",
   "execution_count": 323,
   "metadata": {
    "slideshow": {
     "slide_type": "subslide"
    }
   },
   "outputs": [
    {
     "data": {
      "text/plain": [
       "(2+12j)"
      ]
     },
     "execution_count": 323,
     "metadata": {},
     "output_type": "execute_result"
    }
   ],
   "source": [
    "z1 + z2"
   ]
  },
  {
   "cell_type": "code",
   "execution_count": 324,
   "metadata": {
    "slideshow": {
     "slide_type": "-"
    }
   },
   "outputs": [
    {
     "data": {
      "text/plain": [
       "(8+2j)"
      ]
     },
     "execution_count": 324,
     "metadata": {},
     "output_type": "execute_result"
    }
   ],
   "source": [
    "z1 - z2"
   ]
  },
  {
   "cell_type": "code",
   "execution_count": 325,
   "metadata": {
    "slideshow": {
     "slide_type": "-"
    }
   },
   "outputs": [
    {
     "data": {
      "text/plain": [
       "(-50+4j)"
      ]
     },
     "execution_count": 325,
     "metadata": {},
     "output_type": "execute_result"
    }
   ],
   "source": [
    "z1 * z2"
   ]
  },
  {
   "cell_type": "code",
   "execution_count": 326,
   "metadata": {
    "slideshow": {
     "slide_type": "-"
    }
   },
   "outputs": [
    {
     "data": {
      "text/plain": [
       "(0.5882352941176471-1.352941176470588j)"
      ]
     },
     "execution_count": 326,
     "metadata": {},
     "output_type": "execute_result"
    }
   ],
   "source": [
    "z1 / z2"
   ]
  },
  {
   "cell_type": "code",
   "execution_count": 327,
   "metadata": {
    "slideshow": {
     "slide_type": "-"
    }
   },
   "outputs": [
    {
     "data": {
      "text/plain": [
       "(15+21j)"
      ]
     },
     "execution_count": 327,
     "metadata": {},
     "output_type": "execute_result"
    }
   ],
   "source": [
    "z1 * 3"
   ]
  },
  {
   "cell_type": "markdown",
   "metadata": {
    "slideshow": {
     "slide_type": "subslide"
    }
   },
   "source": [
    "# Fase y módulo"
   ]
  },
  {
   "cell_type": "markdown",
   "metadata": {
    "slideshow": {
     "slide_type": "-"
    }
   },
   "source": [
    "![Complex number](images/python/complex_number.svg)\n",
    "\n",
    "Image by [Oleg Alexandrov](https://commons.wikimedia.org/wiki/User:Oleg_Alexandrov) on [Wikipedia](https://es.wikipedia.org/wiki/N%C3%BAmero_complejo#/media/File:Complex_conjugate_picture.svg) / [CC BY-SA 3.0](https://creativecommons.org/licenses/by-sa/3.0/)"
   ]
  },
  {
   "cell_type": "markdown",
   "metadata": {
    "slideshow": {
     "slide_type": "subslide"
    }
   },
   "source": [
    "Dado $\\mathcal{z}=x+yi$ se define la **fase** como: $\\phi = atan2(y, x)$"
   ]
  },
  {
   "cell_type": "code",
   "execution_count": 328,
   "metadata": {
    "slideshow": {
     "slide_type": "-"
    }
   },
   "outputs": [
    {
     "data": {
      "text/plain": [
       "(0.9505468408120752, 0.9505468408120752)"
      ]
     },
     "execution_count": 328,
     "metadata": {},
     "output_type": "execute_result"
    }
   ],
   "source": [
    "import math\n",
    "import cmath\n",
    "\n",
    "cmath.phase(z1), math.atan2(z1.imag, z1.real)"
   ]
  },
  {
   "cell_type": "markdown",
   "metadata": {
    "slideshow": {
     "slide_type": "-"
    }
   },
   "source": [
    "Dado $\\mathcal{z}=x+yi$ se define el **módulo** como:\n",
    "$$\n",
    "|z|=\\sqrt{\\text{Re}^2(z) + \\text{Im}^2(z)}\n",
    "$$"
   ]
  },
  {
   "cell_type": "code",
   "execution_count": 329,
   "metadata": {
    "slideshow": {
     "slide_type": "-"
    }
   },
   "outputs": [
    {
     "data": {
      "text/plain": [
       "(8.602325267042627, 8.602325267042627)"
      ]
     },
     "execution_count": 329,
     "metadata": {},
     "output_type": "execute_result"
    }
   ],
   "source": [
    "abs(z1), math.sqrt(z1.real**2 + z1.imag**2)"
   ]
  },
  {
   "cell_type": "markdown",
   "metadata": {
    "slideshow": {
     "slide_type": "subslide"
    }
   },
   "source": [
    "## 💡Ejercicio\n",
    "\n",
    "Calcule fase y módulo de los siguientes números complejos:\n",
    "\n",
    "- $-3 + 7j$\n",
    "- $2 -5j$"
   ]
  },
  {
   "cell_type": "code",
   "execution_count": 330,
   "metadata": {
    "slideshow": {
     "slide_type": "skip"
    }
   },
   "outputs": [],
   "source": [
    "# Write your code here!"
   ]
  },
  {
   "cell_type": "markdown",
   "metadata": {
    "slideshow": {
     "slide_type": "skip"
    }
   },
   "source": [
    "## ⭐️ Solución"
   ]
  },
  {
   "cell_type": "code",
   "execution_count": 331,
   "metadata": {
    "slideshow": {
     "slide_type": "skip"
    }
   },
   "outputs": [],
   "source": [
    "# %load \"solutions/python/complex.py\""
   ]
  },
  {
   "cell_type": "markdown",
   "metadata": {
    "slideshow": {
     "slide_type": "subslide"
    }
   },
   "source": [
    "# Cadenas\n",
    "\n",
    "\"Cadena de texto\" o \"string\" es el nombre que le damos a una **secuencia de caracteres**.\n",
    "\n",
    "## Delimitadores de cadenas\n",
    "\n",
    "Las cadenas en Python se pueden representar de 4 formas:\n",
    "- Comillas simples: `' ... '` (**mi opción preferida**)\n",
    "- Comillas dobles: `\" ... \"`\n",
    "- Triples comillas simples: `''' ... '''`\n",
    "- Triples comillas dobles: `\"\"\" ... \"\"\"`"
   ]
  },
  {
   "cell_type": "markdown",
   "metadata": {
    "slideshow": {
     "slide_type": "skip"
    }
   },
   "source": [
    "- Las triples comillas se suelen usar para **cadenas multilínea**.\n",
    "- Las comillas dobles permiten incluir comillas simples en la cadena.\n",
    "- Las comillas simples permiten incluir comillas dobles en la cadena.\n",
    "- En cualquier de los dos últimos cosas, siempre se podrá escapar el carácter que queramos incluir."
   ]
  },
  {
   "cell_type": "code",
   "execution_count": 332,
   "metadata": {
    "slideshow": {
     "slide_type": "-"
    }
   },
   "outputs": [
    {
     "data": {
      "text/plain": [
       "('This is a test string',\n",
       " 'This is a test string',\n",
       " 'This is a test string',\n",
       " 'This is a test string')"
      ]
     },
     "execution_count": 332,
     "metadata": {},
     "output_type": "execute_result"
    }
   ],
   "source": [
    "string_simple_quotes = 'This is a test string'\n",
    "string_double_quotes = \"This is a test string\"\n",
    "string_triple_simple_quotes = '''This is a test string'''\n",
    "string_triple_double_quotes = \"\"\"This is a test string\"\"\"\n",
    "\n",
    "string_simple_quotes, string_double_quotes, string_triple_simple_quotes, string_triple_double_quotes"
   ]
  },
  {
   "cell_type": "markdown",
   "metadata": {
    "slideshow": {
     "slide_type": "subslide"
    }
   },
   "source": [
    "# Acceso a los elementos de una cadena"
   ]
  },
  {
   "cell_type": "code",
   "execution_count": 333,
   "metadata": {
    "slideshow": {
     "slide_type": "-"
    }
   },
   "outputs": [],
   "source": [
    "my_string = 'hola, mundo.'"
   ]
  },
  {
   "cell_type": "markdown",
   "metadata": {
    "slideshow": {
     "slide_type": "-"
    }
   },
   "source": [
    "![String indexing](images/python/string-indexing.png)"
   ]
  },
  {
   "cell_type": "markdown",
   "metadata": {
    "slideshow": {
     "slide_type": "skip"
    }
   },
   "source": [
    "Podemos acceder al primer y último elemento de la cadena:"
   ]
  },
  {
   "cell_type": "code",
   "execution_count": 334,
   "metadata": {
    "slideshow": {
     "slide_type": "subslide"
    }
   },
   "outputs": [
    {
     "data": {
      "text/plain": [
       "'h'"
      ]
     },
     "execution_count": 334,
     "metadata": {},
     "output_type": "execute_result"
    }
   ],
   "source": [
    "my_string[0]"
   ]
  },
  {
   "cell_type": "code",
   "execution_count": 335,
   "metadata": {
    "slideshow": {
     "slide_type": "-"
    }
   },
   "outputs": [
    {
     "data": {
      "text/plain": [
       "'.'"
      ]
     },
     "execution_count": 335,
     "metadata": {},
     "output_type": "execute_result"
    }
   ],
   "source": [
    "my_string[-1]"
   ]
  },
  {
   "cell_type": "markdown",
   "metadata": {
    "slideshow": {
     "slide_type": "skip"
    }
   },
   "source": [
    "Podemos trocear (\"slice\") las cadenas de texto:"
   ]
  },
  {
   "cell_type": "code",
   "execution_count": 336,
   "metadata": {
    "slideshow": {
     "slide_type": "-"
    }
   },
   "outputs": [
    {
     "data": {
      "text/plain": [
       "'hola'"
      ]
     },
     "execution_count": 336,
     "metadata": {},
     "output_type": "execute_result"
    }
   ],
   "source": [
    "my_string[:4]"
   ]
  },
  {
   "cell_type": "code",
   "execution_count": 337,
   "metadata": {
    "slideshow": {
     "slide_type": "-"
    }
   },
   "outputs": [
    {
     "data": {
      "text/plain": [
       "'mundo'"
      ]
     },
     "execution_count": 337,
     "metadata": {},
     "output_type": "execute_result"
    }
   ],
   "source": [
    "my_string[6:11]"
   ]
  },
  {
   "cell_type": "markdown",
   "metadata": {
    "slideshow": {
     "slide_type": "skip"
    }
   },
   "source": [
    "Podemos dar \"saltos\" de cantidad distinta a 1:"
   ]
  },
  {
   "cell_type": "code",
   "execution_count": 338,
   "metadata": {
    "slideshow": {
     "slide_type": "-"
    }
   },
   "outputs": [
    {
     "data": {
      "text/plain": [
       "'hl,mno'"
      ]
     },
     "execution_count": 338,
     "metadata": {},
     "output_type": "execute_result"
    }
   ],
   "source": [
    "my_string[::2]"
   ]
  },
  {
   "cell_type": "code",
   "execution_count": 339,
   "metadata": {
    "slideshow": {
     "slide_type": "-"
    }
   },
   "outputs": [
    {
     "data": {
      "text/plain": [
       "'.odnum ,aloh'"
      ]
     },
     "execution_count": 339,
     "metadata": {},
     "output_type": "execute_result"
    }
   ],
   "source": [
    "my_string[::-1]"
   ]
  },
  {
   "cell_type": "markdown",
   "metadata": {
    "slideshow": {
     "slide_type": "subslide"
    }
   },
   "source": [
    "# Operaciones básicas con cadenas"
   ]
  },
  {
   "cell_type": "code",
   "execution_count": 340,
   "metadata": {
    "slideshow": {
     "slide_type": "-"
    }
   },
   "outputs": [],
   "source": [
    "my_string = 'This is a course about scientific Python'\n",
    "my_string2 = 'I hope to learn a lot'"
   ]
  },
  {
   "cell_type": "code",
   "execution_count": 341,
   "metadata": {
    "slideshow": {
     "slide_type": "-"
    }
   },
   "outputs": [
    {
     "data": {
      "text/plain": [
       "'This is a course about scientific Python. I hope to learn a lot'"
      ]
     },
     "execution_count": 341,
     "metadata": {},
     "output_type": "execute_result"
    }
   ],
   "source": [
    "my_string + '. ' + my_string2"
   ]
  },
  {
   "cell_type": "code",
   "execution_count": 342,
   "metadata": {
    "slideshow": {
     "slide_type": "-"
    }
   },
   "outputs": [
    {
     "data": {
      "text/plain": [
       "'I hope to learn a lot, a lot, a lot, a lot'"
      ]
     },
     "execution_count": 342,
     "metadata": {},
     "output_type": "execute_result"
    }
   ],
   "source": [
    "my_string2 + 3 * (', ' + my_string2[-5:])"
   ]
  },
  {
   "cell_type": "code",
   "execution_count": 343,
   "metadata": {
    "slideshow": {
     "slide_type": "-"
    }
   },
   "outputs": [
    {
     "data": {
      "text/plain": [
       "('This is a course about scientific Python', 40)"
      ]
     },
     "execution_count": 343,
     "metadata": {},
     "output_type": "execute_result"
    }
   ],
   "source": [
    "my_string, len(my_string)"
   ]
  },
  {
   "cell_type": "markdown",
   "metadata": {
    "slideshow": {
     "slide_type": "subslide"
    }
   },
   "source": [
    "## 💡Ejercicio\n",
    "\n",
    "Muestre las dos mitades de la siguiente frase:\n",
    "\n",
    "> \"Happiness is a way of travel. Not a destination.\" —Roy Goodman"
   ]
  },
  {
   "cell_type": "code",
   "execution_count": 344,
   "metadata": {
    "slideshow": {
     "slide_type": "skip"
    }
   },
   "outputs": [],
   "source": [
    "# Write your code here!"
   ]
  },
  {
   "cell_type": "markdown",
   "metadata": {
    "slideshow": {
     "slide_type": "skip"
    }
   },
   "source": [
    "## ⭐️ Solución"
   ]
  },
  {
   "cell_type": "code",
   "execution_count": 345,
   "metadata": {
    "slideshow": {
     "slide_type": "skip"
    }
   },
   "outputs": [],
   "source": [
    "# %load \"solutions/python/halfs_string.py\""
   ]
  },
  {
   "cell_type": "markdown",
   "metadata": {
    "slideshow": {
     "slide_type": "subslide"
    }
   },
   "source": [
    "# UTF-8\n",
    "\n",
    "Al contrario que Python 2, en **Python 3** todas las cadenas están codificadas usando el estándar [UTF-8](https://es.wikipedia.org/wiki/UTF-8). Esto permite representar todos los símbolos recogidos en [UNICODE](https://www.unicode.org/versions/Unicode11.0.0/) que en su versión 11.0 son **137374** caracteres organizados por tablas: [Unicode 11.0 Character Code Charts](https://www.unicode.org/charts/)\n",
    "\n",
    "Supongamos el carácter [GREEK ACROPHONIC NAXIAN FIVE HUNDRED](https://www.unicode.org/charts/PDF/U10140.pdf) que representa el número 500 en griego antiguo. Su código **UNICODE** es `U10170` (hexadecimal):\n",
    "![Naxian Five Hundred](images/python/naxian500.png)"
   ]
  },
  {
   "cell_type": "code",
   "execution_count": 346,
   "metadata": {
    "slideshow": {
     "slide_type": "-"
    }
   },
   "outputs": [
    {
     "data": {
      "text/plain": [
       "'𐅰'"
      ]
     },
     "execution_count": 346,
     "metadata": {},
     "output_type": "execute_result"
    }
   ],
   "source": [
    "chr(0x10170)"
   ]
  },
  {
   "cell_type": "code",
   "execution_count": 347,
   "metadata": {
    "slideshow": {
     "slide_type": "-"
    }
   },
   "outputs": [
    {
     "data": {
      "text/plain": [
       "(65904, '0x10170')"
      ]
     },
     "execution_count": 347,
     "metadata": {},
     "output_type": "execute_result"
    }
   ],
   "source": [
    "ord('𐅰'), hex(ord('𐅰'))"
   ]
  },
  {
   "cell_type": "markdown",
   "metadata": {
    "slideshow": {
     "slide_type": "subslide"
    }
   },
   "source": [
    "# Algunos símbolos del griego antiguo\n",
    "\n",
    "![Naxian numbers](images/python/naxian_numbers.png)"
   ]
  },
  {
   "cell_type": "code",
   "execution_count": 348,
   "metadata": {
    "scrolled": true,
    "slideshow": {
     "slide_type": "-"
    }
   },
   "outputs": [
    {
     "name": "stdout",
     "output_type": "stream",
     "text": [
      "0x1016a 𐅪\n",
      "0x1016b 𐅫\n",
      "0x1016c 𐅬\n",
      "0x1016d 𐅭\n",
      "0x1016e 𐅮\n",
      "0x1016f 𐅯\n"
     ]
    }
   ],
   "source": [
    "for i in range(0x1016A, 0x1016A + 6):\n",
    "    print(hex(i), chr(i))"
   ]
  },
  {
   "cell_type": "markdown",
   "metadata": {
    "slideshow": {
     "slide_type": "subslide"
    }
   },
   "source": [
    "## 💡Ejercicio\n",
    "\n",
    "Descubra el nombre de los siguientes caracteres:\n",
    "- 😊\n",
    "- 👍🏻\n",
    "- ⟰"
   ]
  },
  {
   "cell_type": "code",
   "execution_count": 349,
   "metadata": {
    "slideshow": {
     "slide_type": "skip"
    }
   },
   "outputs": [],
   "source": [
    "# Write your code here!"
   ]
  },
  {
   "cell_type": "markdown",
   "metadata": {
    "slideshow": {
     "slide_type": "skip"
    }
   },
   "source": [
    "## ⭐️ Solución"
   ]
  },
  {
   "cell_type": "code",
   "execution_count": 350,
   "metadata": {
    "slideshow": {
     "slide_type": "skip"
    }
   },
   "outputs": [],
   "source": [
    "# %load \"solutions/python/unicode.py\""
   ]
  },
  {
   "cell_type": "markdown",
   "metadata": {
    "slideshow": {
     "slide_type": "subslide"
    }
   },
   "source": [
    "# Métodos de la clase `string`"
   ]
  },
  {
   "cell_type": "code",
   "execution_count": 351,
   "metadata": {
    "slideshow": {
     "slide_type": "-"
    }
   },
   "outputs": [
    {
     "data": {
      "text/plain": [
       "('this is a course about scientific python',\n",
       " 'THIS IS A COURSE ABOUT SCIENTIFIC PYTHON',\n",
       " 'This Is A Course About Scientific Python')"
      ]
     },
     "execution_count": 351,
     "metadata": {},
     "output_type": "execute_result"
    }
   ],
   "source": [
    "my_string.lower(), my_string.upper(), my_string.title()"
   ]
  },
  {
   "cell_type": "code",
   "execution_count": 352,
   "metadata": {
    "slideshow": {
     "slide_type": "-"
    }
   },
   "outputs": [
    {
     "data": {
      "text/plain": [
       "(4, 3)"
      ]
     },
     "execution_count": 352,
     "metadata": {},
     "output_type": "execute_result"
    }
   ],
   "source": [
    "my_string.count('s'), my_string.find('s')"
   ]
  },
  {
   "cell_type": "code",
   "execution_count": 353,
   "metadata": {
    "slideshow": {
     "slide_type": "-"
    }
   },
   "outputs": [
    {
     "name": "stdout",
     "output_type": "stream",
     "text": [
      "9 True\n",
      "678 True\n",
      "MelrosePlace90210 True\n",
      "aeiou True\n"
     ]
    }
   ],
   "source": [
    "digit = '9'\n",
    "numeric = '678'\n",
    "alnum = 'MelrosePlace90210'\n",
    "vowels = 'aeiou'\n",
    "\n",
    "\n",
    "print(digit, digit.isdigit())\n",
    "print(numeric, numeric.isnumeric())\n",
    "print(alnum, alnum.isalnum())\n",
    "print(vowels, vowels.isalpha())"
   ]
  },
  {
   "cell_type": "markdown",
   "metadata": {
    "slideshow": {
     "slide_type": "subslide"
    }
   },
   "source": [
    "## Limpiando espacios y saltos de línea"
   ]
  },
  {
   "cell_type": "code",
   "execution_count": 354,
   "metadata": {
    "slideshow": {
     "slide_type": "-"
    }
   },
   "outputs": [],
   "source": [
    "my_raw_string = '\\n\\t\\n   This was a raw string   \\t\\t   \\n  \\n'"
   ]
  },
  {
   "cell_type": "code",
   "execution_count": 355,
   "metadata": {
    "slideshow": {
     "slide_type": "-"
    }
   },
   "outputs": [
    {
     "data": {
      "text/plain": [
       "'This was a raw string   \\t\\t   \\n  \\n'"
      ]
     },
     "execution_count": 355,
     "metadata": {},
     "output_type": "execute_result"
    }
   ],
   "source": [
    "my_raw_string.lstrip()"
   ]
  },
  {
   "cell_type": "code",
   "execution_count": 356,
   "metadata": {
    "slideshow": {
     "slide_type": "-"
    }
   },
   "outputs": [
    {
     "data": {
      "text/plain": [
       "'\\n\\t\\n   This was a raw string'"
      ]
     },
     "execution_count": 356,
     "metadata": {},
     "output_type": "execute_result"
    }
   ],
   "source": [
    "my_raw_string.rstrip()"
   ]
  },
  {
   "cell_type": "code",
   "execution_count": 357,
   "metadata": {
    "slideshow": {
     "slide_type": "-"
    }
   },
   "outputs": [
    {
     "data": {
      "text/plain": [
       "'This was a raw string'"
      ]
     },
     "execution_count": 357,
     "metadata": {},
     "output_type": "execute_result"
    }
   ],
   "source": [
    "my_raw_string.strip()"
   ]
  },
  {
   "cell_type": "markdown",
   "metadata": {
    "slideshow": {
     "slide_type": "skip"
    }
   },
   "source": [
    "El salto de línea (o [retorno de carro](https://es.wikipedia.org/wiki/Retorno_de_carro)) puede admitir diferentes codificaciones, atendiendo, principalmente, al sistema operativo en el que trabajamos.\n",
    "\n",
    "Python nos permite aislarnos de esta circunstancia a través de `os.linesep`."
   ]
  },
  {
   "cell_type": "code",
   "execution_count": 358,
   "metadata": {
    "slideshow": {
     "slide_type": "skip"
    }
   },
   "outputs": [
    {
     "data": {
      "text/plain": [
       "'\\n'"
      ]
     },
     "execution_count": 358,
     "metadata": {},
     "output_type": "execute_result"
    }
   ],
   "source": [
    "import os\n",
    "\n",
    "os.linesep"
   ]
  },
  {
   "cell_type": "markdown",
   "metadata": {
    "slideshow": {
     "slide_type": "subslide"
    }
   },
   "source": [
    "## 💡Ejercicio\n",
    "\n",
    "Realice las operaciones necesarias para convertir `input_str` en `output_str`:\n",
    "\n",
    "`input_str` $\\Rightarrow$ `'\\n\\n\\t   Be the change that U wish to see in the world           \\t      \\t\\n'`\n",
    "\n",
    "`output_str` $\\Rightarrow$ `'BE THE CHANGE THAT U Wish To See In The World'`"
   ]
  },
  {
   "cell_type": "code",
   "execution_count": 359,
   "metadata": {
    "slideshow": {
     "slide_type": "skip"
    }
   },
   "outputs": [],
   "source": [
    "# Write your code here!"
   ]
  },
  {
   "cell_type": "markdown",
   "metadata": {
    "slideshow": {
     "slide_type": "skip"
    }
   },
   "source": [
    "## ⭐️ Solución"
   ]
  },
  {
   "cell_type": "code",
   "execution_count": 360,
   "metadata": {
    "slideshow": {
     "slide_type": "skip"
    }
   },
   "outputs": [],
   "source": [
    "# %load \"solutions/python/strip.py\""
   ]
  },
  {
   "cell_type": "markdown",
   "metadata": {
    "slideshow": {
     "slide_type": "subslide"
    }
   },
   "source": [
    "# Constantes del módulo `string`"
   ]
  },
  {
   "cell_type": "code",
   "execution_count": 361,
   "metadata": {
    "slideshow": {
     "slide_type": "-"
    }
   },
   "outputs": [],
   "source": [
    "import string"
   ]
  },
  {
   "cell_type": "code",
   "execution_count": 362,
   "metadata": {
    "slideshow": {
     "slide_type": "-"
    }
   },
   "outputs": [
    {
     "data": {
      "text/plain": [
       "'abcdefghijklmnopqrstuvwxyzABCDEFGHIJKLMNOPQRSTUVWXYZ'"
      ]
     },
     "execution_count": 362,
     "metadata": {},
     "output_type": "execute_result"
    }
   ],
   "source": [
    "string.ascii_letters"
   ]
  },
  {
   "cell_type": "code",
   "execution_count": 363,
   "metadata": {
    "slideshow": {
     "slide_type": "-"
    }
   },
   "outputs": [
    {
     "data": {
      "text/plain": [
       "'0123456789'"
      ]
     },
     "execution_count": 363,
     "metadata": {},
     "output_type": "execute_result"
    }
   ],
   "source": [
    "string.digits"
   ]
  },
  {
   "cell_type": "code",
   "execution_count": 364,
   "metadata": {
    "slideshow": {
     "slide_type": "-"
    }
   },
   "outputs": [
    {
     "data": {
      "text/plain": [
       "'0123456789abcdefABCDEF'"
      ]
     },
     "execution_count": 364,
     "metadata": {},
     "output_type": "execute_result"
    }
   ],
   "source": [
    "string.hexdigits"
   ]
  },
  {
   "cell_type": "code",
   "execution_count": 365,
   "metadata": {
    "slideshow": {
     "slide_type": "-"
    }
   },
   "outputs": [
    {
     "data": {
      "text/plain": [
       "'!\"#$%&\\'()*+,-./:;<=>?@[\\\\]^_`{|}~'"
      ]
     },
     "execution_count": 365,
     "metadata": {},
     "output_type": "execute_result"
    }
   ],
   "source": [
    "string.punctuation"
   ]
  },
  {
   "cell_type": "code",
   "execution_count": 366,
   "metadata": {
    "slideshow": {
     "slide_type": "-"
    }
   },
   "outputs": [
    {
     "data": {
      "text/plain": [
       "' \\t\\n\\r\\x0b\\x0c'"
      ]
     },
     "execution_count": 366,
     "metadata": {},
     "output_type": "execute_result"
    }
   ],
   "source": [
    "string.whitespace"
   ]
  },
  {
   "cell_type": "markdown",
   "metadata": {
    "slideshow": {
     "slide_type": "subslide"
    }
   },
   "source": [
    "# Comprobando pertenencia"
   ]
  },
  {
   "cell_type": "code",
   "execution_count": 367,
   "metadata": {
    "slideshow": {
     "slide_type": "-"
    }
   },
   "outputs": [
    {
     "data": {
      "text/plain": [
       "True"
      ]
     },
     "execution_count": 367,
     "metadata": {},
     "output_type": "execute_result"
    }
   ],
   "source": [
    "'0' in string.digits"
   ]
  },
  {
   "cell_type": "code",
   "execution_count": 368,
   "metadata": {
    "slideshow": {
     "slide_type": "-"
    }
   },
   "outputs": [
    {
     "data": {
      "text/plain": [
       "True"
      ]
     },
     "execution_count": 368,
     "metadata": {},
     "output_type": "execute_result"
    }
   ],
   "source": [
    "'F' in string.hexdigits and 'F' in string.ascii_letters"
   ]
  },
  {
   "cell_type": "code",
   "execution_count": 369,
   "metadata": {
    "slideshow": {
     "slide_type": "-"
    }
   },
   "outputs": [
    {
     "data": {
      "text/plain": [
       "True"
      ]
     },
     "execution_count": 369,
     "metadata": {},
     "output_type": "execute_result"
    }
   ],
   "source": [
    "os.linesep in string.whitespace"
   ]
  },
  {
   "cell_type": "code",
   "execution_count": 370,
   "metadata": {
    "slideshow": {
     "slide_type": "-"
    }
   },
   "outputs": [
    {
     "data": {
      "text/plain": [
       "True"
      ]
     },
     "execution_count": 370,
     "metadata": {},
     "output_type": "execute_result"
    }
   ],
   "source": [
    "'@' in string.punctuation"
   ]
  },
  {
   "cell_type": "markdown",
   "metadata": {
    "slideshow": {
     "slide_type": "subslide"
    }
   },
   "source": [
    "# Formateando cadenas de texto\n",
    "\n",
    "Desde **Python 3.6** podemos hacer uso de las [f-strings](https://realpython.com/python-f-strings/), una característica del lenguaje que fue incluida en el [PEP 498](https://www.python.org/dev/peps/pep-0498/) y que nos permite \"incrustar\" directamente el valor de una variable (o expresión) en una cadena de texto:"
   ]
  },
  {
   "cell_type": "code",
   "execution_count": 371,
   "metadata": {
    "slideshow": {
     "slide_type": "-"
    }
   },
   "outputs": [
    {
     "name": "stdout",
     "output_type": "stream",
     "text": [
      "Subtotal: 345.21€.\n",
      "Total including taxes: 369.3747€\n"
     ]
    }
   ],
   "source": [
    "subtotal = 345.21\n",
    "\n",
    "print(f'Subtotal: {subtotal}€.\\nTotal including taxes: {subtotal * 1.07}€')"
   ]
  },
  {
   "cell_type": "markdown",
   "metadata": {
    "slideshow": {
     "slide_type": "-"
    }
   },
   "source": [
    "Podemos aplicar [formatos específicos](https://pyformat.info/) a cada una de las variables o expresiones que incluimos en la cadena."
   ]
  },
  {
   "cell_type": "code",
   "execution_count": 372,
   "metadata": {
    "slideshow": {
     "slide_type": "-"
    }
   },
   "outputs": [
    {
     "name": "stdout",
     "output_type": "stream",
     "text": [
      "Subtotal: 000345.210€.\n",
      "Total including taxes: 369.375€\n"
     ]
    }
   ],
   "source": [
    "print(f'Subtotal: {subtotal:010.3f}€.\\nTotal including taxes: {subtotal * 1.07:.3f}€')"
   ]
  },
  {
   "cell_type": "markdown",
   "metadata": {
    "slideshow": {
     "slide_type": "subslide"
    }
   },
   "source": [
    "# Listas"
   ]
  },
  {
   "cell_type": "code",
   "execution_count": 373,
   "metadata": {
    "slideshow": {
     "slide_type": "-"
    }
   },
   "outputs": [],
   "source": [
    "my_list = [2, 8.33, True, 'Hi there!']"
   ]
  },
  {
   "cell_type": "markdown",
   "metadata": {
    "slideshow": {
     "slide_type": "-"
    }
   },
   "source": [
    "El acceso a los elementos de una lista es *análogo al de las cadenas de texto*, de hecho ambos tipos de datos son **secuencias**. El indexado empieza en 0."
   ]
  },
  {
   "cell_type": "code",
   "execution_count": 374,
   "metadata": {
    "slideshow": {
     "slide_type": "-"
    }
   },
   "outputs": [
    {
     "data": {
      "text/plain": [
       "(2, 'Hi there!')"
      ]
     },
     "execution_count": 374,
     "metadata": {},
     "output_type": "execute_result"
    }
   ],
   "source": [
    "my_list[0], my_list[-1]"
   ]
  },
  {
   "cell_type": "code",
   "execution_count": 375,
   "metadata": {
    "slideshow": {
     "slide_type": "-"
    }
   },
   "outputs": [
    {
     "data": {
      "text/plain": [
       "[True, 'Hi there!']"
      ]
     },
     "execution_count": 375,
     "metadata": {},
     "output_type": "execute_result"
    }
   ],
   "source": [
    "my_list[2:]"
   ]
  },
  {
   "cell_type": "code",
   "execution_count": 376,
   "metadata": {
    "scrolled": true,
    "slideshow": {
     "slide_type": "-"
    }
   },
   "outputs": [
    {
     "data": {
      "text/plain": [
       "4"
      ]
     },
     "execution_count": 376,
     "metadata": {},
     "output_type": "execute_result"
    }
   ],
   "source": [
    "len(my_list)"
   ]
  },
  {
   "cell_type": "markdown",
   "metadata": {
    "slideshow": {
     "slide_type": "subslide"
    }
   },
   "source": [
    "# Operadores de listas"
   ]
  },
  {
   "cell_type": "code",
   "execution_count": 377,
   "metadata": {
    "slideshow": {
     "slide_type": "-"
    }
   },
   "outputs": [
    {
     "data": {
      "text/plain": [
       "(False, True, True)"
      ]
     },
     "execution_count": 377,
     "metadata": {},
     "output_type": "execute_result"
    }
   ],
   "source": [
    "False in my_list, 2 in my_list, 'Hi John!' not in my_list"
   ]
  },
  {
   "cell_type": "code",
   "execution_count": 378,
   "metadata": {
    "slideshow": {
     "slide_type": "-"
    }
   },
   "outputs": [
    {
     "data": {
      "text/plain": [
       "[2, 8.33, True, 'Hi there!', 2, 8.33, True, 'Hi there!']"
      ]
     },
     "execution_count": 378,
     "metadata": {},
     "output_type": "execute_result"
    }
   ],
   "source": [
    "my_list + my_list"
   ]
  },
  {
   "cell_type": "code",
   "execution_count": 379,
   "metadata": {
    "slideshow": {
     "slide_type": "-"
    }
   },
   "outputs": [
    {
     "name": "stdout",
     "output_type": "stream",
     "text": [
      "[2, 8.33, True, 'Hi there!', 2, 8.33, True, 'Hi there!', 2, 8.33, True, 'Hi there!']\n"
     ]
    }
   ],
   "source": [
    "print(my_list * 3)"
   ]
  },
  {
   "cell_type": "markdown",
   "metadata": {
    "slideshow": {
     "slide_type": "subslide"
    }
   },
   "source": [
    "# Mutabilidad"
   ]
  },
  {
   "cell_type": "markdown",
   "metadata": {
    "slideshow": {
     "slide_type": "-"
    }
   },
   "source": [
    "Las **cadenas de texto** en Python se dice que son **inmutables**, ya que para modificar su valor se debe crear un nuevo objeto, no se pueden modificar *inline*:"
   ]
  },
  {
   "cell_type": "code",
   "execution_count": 380,
   "metadata": {
    "slideshow": {
     "slide_type": "-"
    }
   },
   "outputs": [
    {
     "data": {
      "text/plain": [
       "4543951472"
      ]
     },
     "execution_count": 380,
     "metadata": {},
     "output_type": "execute_result"
    }
   ],
   "source": [
    "my_string = 'This is Steve Jobs'\n",
    "id(my_string)   # devuelve la posición en memoria del objeto"
   ]
  },
  {
   "cell_type": "code",
   "execution_count": 381,
   "metadata": {
    "slideshow": {
     "slide_type": "-"
    },
    "tags": [
     "raises-exception"
    ]
   },
   "outputs": [
    {
     "ename": "TypeError",
     "evalue": "'str' object does not support item assignment",
     "output_type": "error",
     "traceback": [
      "\u001b[0;31m---------------------------------------------------------------------------\u001b[0m",
      "\u001b[0;31mTypeError\u001b[0m                                 Traceback (most recent call last)",
      "\u001b[0;32m<ipython-input-381-d3c60c855d90>\u001b[0m in \u001b[0;36m<module>\u001b[0;34m\u001b[0m\n\u001b[0;32m----> 1\u001b[0;31m \u001b[0mmy_string\u001b[0m\u001b[0;34m[\u001b[0m\u001b[0;36m14\u001b[0m\u001b[0;34m:\u001b[0m\u001b[0;34m]\u001b[0m \u001b[0;34m=\u001b[0m \u001b[0;34m'Wozniak'\u001b[0m\u001b[0;34m\u001b[0m\u001b[0m\n\u001b[0m",
      "\u001b[0;31mTypeError\u001b[0m: 'str' object does not support item assignment"
     ]
    }
   ],
   "source": [
    "my_string[14:] = 'Wozniak'"
   ]
  },
  {
   "cell_type": "code",
   "execution_count": 382,
   "metadata": {
    "slideshow": {
     "slide_type": "-"
    }
   },
   "outputs": [
    {
     "data": {
      "text/plain": [
       "4544089592"
      ]
     },
     "execution_count": 382,
     "metadata": {},
     "output_type": "execute_result"
    }
   ],
   "source": [
    "my_string = 'This is Steve Wozniak'\n",
    "id(my_string)"
   ]
  },
  {
   "cell_type": "markdown",
   "metadata": {
    "slideshow": {
     "slide_type": "subslide"
    }
   },
   "source": [
    "Sin embargo las **listas** son objetos **mutables**:"
   ]
  },
  {
   "cell_type": "code",
   "execution_count": 383,
   "metadata": {
    "slideshow": {
     "slide_type": "-"
    }
   },
   "outputs": [
    {
     "data": {
      "text/plain": [
       "([1, 2, 3], 4544426248)"
      ]
     },
     "execution_count": 383,
     "metadata": {},
     "output_type": "execute_result"
    }
   ],
   "source": [
    "my_list = [1, 2, 3]\n",
    "my_list, id(my_list)"
   ]
  },
  {
   "cell_type": "code",
   "execution_count": 384,
   "metadata": {
    "slideshow": {
     "slide_type": "-"
    }
   },
   "outputs": [
    {
     "data": {
      "text/plain": [
       "([10, 2, 3], 4544426248)"
      ]
     },
     "execution_count": 384,
     "metadata": {},
     "output_type": "execute_result"
    }
   ],
   "source": [
    "my_list[0] = 10\n",
    "my_list, id(my_list)"
   ]
  },
  {
   "cell_type": "markdown",
   "metadata": {
    "slideshow": {
     "slide_type": "subslide"
    }
   },
   "source": [
    "# Lista $\\Rightarrow$ Cadena"
   ]
  },
  {
   "cell_type": "code",
   "execution_count": 385,
   "metadata": {
    "slideshow": {
     "slide_type": "-"
    }
   },
   "outputs": [],
   "source": [
    "top_scientists_as_list = ['Isaac Newton', 'Louis Pasteur', 'Galileo', 'Marie Curie', 'Albert Einstein']"
   ]
  },
  {
   "cell_type": "code",
   "execution_count": 386,
   "metadata": {
    "slideshow": {
     "slide_type": "-"
    }
   },
   "outputs": [
    {
     "data": {
      "text/plain": [
       "['Isaac Newton', 'Louis Pasteur', 'Galileo', 'Marie Curie', 'Albert Einstein']"
      ]
     },
     "execution_count": 386,
     "metadata": {},
     "output_type": "execute_result"
    }
   ],
   "source": [
    "# para que funcione correctamente join, los elementos de la secuencia deben ser de tipo 'str'\n",
    "top_scientists_as_string = ', '.join(top_scientists_as_list)\n",
    "top_scientists_as_list"
   ]
  },
  {
   "cell_type": "markdown",
   "metadata": {
    "slideshow": {
     "slide_type": "-"
    }
   },
   "source": [
    "# Cadena $\\Rightarrow$ Lista"
   ]
  },
  {
   "cell_type": "code",
   "execution_count": 387,
   "metadata": {
    "slideshow": {
     "slide_type": "-"
    }
   },
   "outputs": [],
   "source": [
    "top_scientists_as_string = 'Isaac Newton, Louis Pasteur, Galileo, Marie Curie, Albert Einstein'"
   ]
  },
  {
   "cell_type": "code",
   "execution_count": 388,
   "metadata": {
    "slideshow": {
     "slide_type": "-"
    }
   },
   "outputs": [
    {
     "data": {
      "text/plain": [
       "['Isaac Newton', 'Louis Pasteur', 'Galileo', 'Marie Curie', 'Albert Einstein']"
      ]
     },
     "execution_count": 388,
     "metadata": {},
     "output_type": "execute_result"
    }
   ],
   "source": [
    "top_scientists_as_list = top_scientists_as_string.split(', ')\n",
    "top_scientists_as_list"
   ]
  },
  {
   "cell_type": "markdown",
   "metadata": {
    "slideshow": {
     "slide_type": "subslide"
    }
   },
   "source": [
    "# Métodos de la clase `list`"
   ]
  },
  {
   "cell_type": "code",
   "execution_count": 389,
   "metadata": {
    "slideshow": {
     "slide_type": "-"
    }
   },
   "outputs": [],
   "source": [
    "temperatures = [23.3, 25.6, 21.9, 19.1, 28.9, 31.2, 33.4]"
   ]
  },
  {
   "cell_type": "code",
   "execution_count": 390,
   "metadata": {
    "slideshow": {
     "slide_type": "-"
    }
   },
   "outputs": [
    {
     "data": {
      "text/plain": [
       "(19.1, 33.4)"
      ]
     },
     "execution_count": 390,
     "metadata": {},
     "output_type": "execute_result"
    }
   ],
   "source": [
    "min(temperatures), max(temperatures)"
   ]
  },
  {
   "cell_type": "code",
   "execution_count": 391,
   "metadata": {
    "slideshow": {
     "slide_type": "-"
    }
   },
   "outputs": [
    {
     "data": {
      "text/plain": [
       "[19.1, 21.9, 23.3, 25.6, 28.9, 31.2, 33.4]"
      ]
     },
     "execution_count": 391,
     "metadata": {},
     "output_type": "execute_result"
    }
   ],
   "source": [
    "sorted(temperatures)"
   ]
  },
  {
   "cell_type": "code",
   "execution_count": 392,
   "metadata": {
    "slideshow": {
     "slide_type": "-"
    }
   },
   "outputs": [
    {
     "data": {
      "text/plain": [
       "[23.3, 25.6, 21.9, 19.1, 28.9, 31.2, 33.4, 30.7]"
      ]
     },
     "execution_count": 392,
     "metadata": {},
     "output_type": "execute_result"
    }
   ],
   "source": [
    "temperatures.append(30.7)   # añadir por el final\n",
    "temperatures"
   ]
  },
  {
   "cell_type": "code",
   "execution_count": 393,
   "metadata": {
    "slideshow": {
     "slide_type": "-"
    }
   },
   "outputs": [
    {
     "data": {
      "text/plain": [
       "[23.3, 25.6, 22.8, 21.9, 19.1, 28.9, 31.2, 33.4, 30.7]"
      ]
     },
     "execution_count": 393,
     "metadata": {},
     "output_type": "execute_result"
    }
   ],
   "source": [
    "temperatures.insert(2, 22.8)   # insertar antes de la tercera posición\n",
    "temperatures"
   ]
  },
  {
   "cell_type": "markdown",
   "metadata": {
    "slideshow": {
     "slide_type": "subslide"
    }
   },
   "source": [
    "## 💡Ejercicio\n",
    "\n",
    "Partiendo de la siguiente cadena: `Jupiter Saturn Uranus Neptune Earth Venus Mars Mercury` llegue a la lista que indica el *tamaño en kilómetros del radio de cada planeta del sistema solar*:\n",
    "\n",
    "~~~python\n",
    "[\n",
    "    'Jupiter', 69_911,\n",
    "    'Saturn', 58_232,\n",
    "    'Uranus', 25_362,\n",
    "    'Neptune', 24_622,\n",
    "    'Earth', 6_371,\n",
    "    'Venus', 6_052,\n",
    "    'Mars': 3_390,\n",
    "    'Mercury': 2_440\n",
    "]\n",
    "~~~"
   ]
  },
  {
   "cell_type": "code",
   "execution_count": 394,
   "metadata": {
    "slideshow": {
     "slide_type": "skip"
    }
   },
   "outputs": [],
   "source": [
    "# Write your code here!"
   ]
  },
  {
   "cell_type": "markdown",
   "metadata": {
    "slideshow": {
     "slide_type": "skip"
    }
   },
   "source": [
    "## ⭐️ Solución"
   ]
  },
  {
   "cell_type": "code",
   "execution_count": 395,
   "metadata": {
    "slideshow": {
     "slide_type": "skip"
    }
   },
   "outputs": [],
   "source": [
    "# %load \"solutions/python/split_planets.py\""
   ]
  },
  {
   "cell_type": "markdown",
   "metadata": {
    "slideshow": {
     "slide_type": "subslide"
    }
   },
   "source": [
    "# Tuplas\n",
    "\n",
    "Una **tupla** se podría ver como una **lista inmutable**."
   ]
  },
  {
   "cell_type": "code",
   "execution_count": 396,
   "metadata": {
    "slideshow": {
     "slide_type": "-"
    }
   },
   "outputs": [],
   "source": [
    "location = (-15.5000000, 28.0000000)   # Canary Islands coordinates"
   ]
  },
  {
   "cell_type": "code",
   "execution_count": 397,
   "metadata": {
    "scrolled": false,
    "slideshow": {
     "slide_type": "-"
    },
    "tags": [
     "raises-exception"
    ]
   },
   "outputs": [
    {
     "ename": "TypeError",
     "evalue": "'tuple' object does not support item assignment",
     "output_type": "error",
     "traceback": [
      "\u001b[0;31m---------------------------------------------------------------------------\u001b[0m",
      "\u001b[0;31mTypeError\u001b[0m                                 Traceback (most recent call last)",
      "\u001b[0;32m<ipython-input-397-4f6ce497c857>\u001b[0m in \u001b[0;36m<module>\u001b[0;34m\u001b[0m\n\u001b[0;32m----> 1\u001b[0;31m \u001b[0mlocation\u001b[0m\u001b[0;34m[\u001b[0m\u001b[0;36m0\u001b[0m\u001b[0;34m]\u001b[0m \u001b[0;34m=\u001b[0m \u001b[0;36m21\u001b[0m\u001b[0;34m\u001b[0m\u001b[0m\n\u001b[0m",
      "\u001b[0;31mTypeError\u001b[0m: 'tuple' object does not support item assignment"
     ]
    }
   ],
   "source": [
    "location[0] = 21"
   ]
  },
  {
   "cell_type": "markdown",
   "metadata": {
    "slideshow": {
     "slide_type": "subslide"
    }
   },
   "source": [
    "Una **tupla de un único elemento** debe finalizar con una coma:"
   ]
  },
  {
   "cell_type": "code",
   "execution_count": 398,
   "metadata": {
    "slideshow": {
     "slide_type": "-"
    }
   },
   "outputs": [
    {
     "data": {
      "text/plain": [
       "str"
      ]
     },
     "execution_count": 398,
     "metadata": {},
     "output_type": "execute_result"
    }
   ],
   "source": [
    "one_element_tuple = ('Einstein')\n",
    "type(one_element_tuple)"
   ]
  },
  {
   "cell_type": "code",
   "execution_count": 399,
   "metadata": {
    "slideshow": {
     "slide_type": "-"
    }
   },
   "outputs": [
    {
     "data": {
      "text/plain": [
       "tuple"
      ]
     },
     "execution_count": 399,
     "metadata": {},
     "output_type": "execute_result"
    }
   ],
   "source": [
    "one_element_tuple = ('Einstein', )\n",
    "type(one_element_tuple)"
   ]
  },
  {
   "cell_type": "markdown",
   "metadata": {
    "slideshow": {
     "slide_type": "subslide"
    }
   },
   "source": [
    "# Conjuntos\n",
    "\n",
    "Un **conjunto** es una lista **mutable y (en principio) desordenada** de **elementos únicos**."
   ]
  },
  {
   "cell_type": "code",
   "execution_count": 400,
   "metadata": {
    "slideshow": {
     "slide_type": "-"
    }
   },
   "outputs": [
    {
     "data": {
      "text/plain": [
       "{1, 3, 5, 8, 9}"
      ]
     },
     "execution_count": 400,
     "metadata": {},
     "output_type": "execute_result"
    }
   ],
   "source": [
    "score = [5, 3, 9, 3, 1, 5, 5, 8, 9]   # equivalente a score = {1, 3, 5, 8, 9}\n",
    "values = set(score)\n",
    "values"
   ]
  },
  {
   "cell_type": "code",
   "execution_count": 401,
   "metadata": {},
   "outputs": [
    {
     "data": {
      "text/plain": [
       "{1, 3, 4, 5, 8, 9}"
      ]
     },
     "execution_count": 401,
     "metadata": {},
     "output_type": "execute_result"
    }
   ],
   "source": [
    "values.add(4)   # añadir un elemento al conjunto\n",
    "values"
   ]
  },
  {
   "cell_type": "code",
   "execution_count": 402,
   "metadata": {},
   "outputs": [
    {
     "data": {
      "text/plain": [
       "{3, 4, 5, 8, 9}"
      ]
     },
     "execution_count": 402,
     "metadata": {},
     "output_type": "execute_result"
    }
   ],
   "source": [
    "values.pop()   # extraer un elemento aleatorio del conjunto\n",
    "values"
   ]
  },
  {
   "cell_type": "code",
   "execution_count": 403,
   "metadata": {},
   "outputs": [
    {
     "data": {
      "text/plain": [
       "True"
      ]
     },
     "execution_count": 403,
     "metadata": {},
     "output_type": "execute_result"
    }
   ],
   "source": [
    "9 in values"
   ]
  },
  {
   "cell_type": "markdown",
   "metadata": {
    "slideshow": {
     "slide_type": "subslide"
    }
   },
   "source": [
    "# Diccionarios\n",
    "\n",
    "Un **diccionario** es un tipo de datos **mutable y (en principio) ordenado** que mapea **claves únicas** con **valores**."
   ]
  },
  {
   "cell_type": "code",
   "execution_count": 404,
   "metadata": {
    "slideshow": {
     "slide_type": "-"
    }
   },
   "outputs": [],
   "source": [
    "# diccionario que almacena elementos químicos y su número atómico\n",
    "# https://en.wikipedia.org/wiki/List_of_chemical_elements\n",
    "elements = {'hydrogen': 1, 'helium': 2, 'carbon': 6}"
   ]
  },
  {
   "cell_type": "markdown",
   "metadata": {
    "slideshow": {
     "slide_type": "-"
    }
   },
   "source": [
    "Las claves de un diccionario también pueden ser **enteros** o **tuplas**, pero no una lista (por ejemplo). En definitiva un tipo de dato que sea **hashable**. Recomiendo la [charla de Víctor Terrón sobre Objetos Hashables](https://youtu.be/aU7MEtgdHw0) en el [PyDay Tenerife 2018](https://pythoncanarias.es/events/pydaytf18/)."
   ]
  },
  {
   "cell_type": "code",
   "execution_count": 405,
   "metadata": {
    "scrolled": false,
    "slideshow": {
     "slide_type": "-"
    },
    "tags": [
     "raises-exception"
    ]
   },
   "outputs": [
    {
     "ename": "TypeError",
     "evalue": "unhashable type: 'list'",
     "output_type": "error",
     "traceback": [
      "\u001b[0;31m---------------------------------------------------------------------------\u001b[0m",
      "\u001b[0;31mTypeError\u001b[0m                                 Traceback (most recent call last)",
      "\u001b[0;32m<ipython-input-405-e7c835688878>\u001b[0m in \u001b[0;36m<module>\u001b[0;34m\u001b[0m\n\u001b[1;32m      1\u001b[0m my_wrong_dict = {['a', 'e', 'i', 'o', 'u']: 'vowels',\n\u001b[0;32m----> 2\u001b[0;31m                  ['.', ';', ':', ',']: 'punctuation'}\n\u001b[0m",
      "\u001b[0;31mTypeError\u001b[0m: unhashable type: 'list'"
     ]
    }
   ],
   "source": [
    "my_wrong_dict = {['a', 'e', 'i', 'o', 'u']: 'vowels',\n",
    "                 ['.', ';', ':', ',']: 'punctuation'}"
   ]
  },
  {
   "cell_type": "markdown",
   "metadata": {
    "slideshow": {
     "slide_type": "subslide"
    }
   },
   "source": [
    "## Operaciones con diccionarios"
   ]
  },
  {
   "cell_type": "code",
   "execution_count": 406,
   "metadata": {
    "slideshow": {
     "slide_type": "-"
    }
   },
   "outputs": [
    {
     "data": {
      "text/plain": [
       "(False, True)"
      ]
     },
     "execution_count": 406,
     "metadata": {},
     "output_type": "execute_result"
    }
   ],
   "source": [
    "'nitrogen' in elements, 'hydrogen' in elements"
   ]
  },
  {
   "cell_type": "code",
   "execution_count": 407,
   "metadata": {
    "slideshow": {
     "slide_type": "-"
    }
   },
   "outputs": [
    {
     "data": {
      "text/plain": [
       "6"
      ]
     },
     "execution_count": 407,
     "metadata": {},
     "output_type": "execute_result"
    }
   ],
   "source": [
    "elements['carbon']"
   ]
  },
  {
   "cell_type": "code",
   "execution_count": 408,
   "metadata": {
    "slideshow": {
     "slide_type": "-"
    }
   },
   "outputs": [
    {
     "ename": "KeyError",
     "evalue": "'sodium'",
     "output_type": "error",
     "traceback": [
      "\u001b[0;31m---------------------------------------------------------------------------\u001b[0m",
      "\u001b[0;31mKeyError\u001b[0m                                  Traceback (most recent call last)",
      "\u001b[0;32m<ipython-input-408-6852209c9814>\u001b[0m in \u001b[0;36m<module>\u001b[0;34m\u001b[0m\n\u001b[0;32m----> 1\u001b[0;31m \u001b[0melements\u001b[0m\u001b[0;34m[\u001b[0m\u001b[0;34m'sodium'\u001b[0m\u001b[0;34m]\u001b[0m\u001b[0;34m\u001b[0m\u001b[0m\n\u001b[0m",
      "\u001b[0;31mKeyError\u001b[0m: 'sodium'"
     ]
    }
   ],
   "source": [
    "elements['sodium']"
   ]
  },
  {
   "cell_type": "code",
   "execution_count": null,
   "metadata": {
    "slideshow": {
     "slide_type": "-"
    }
   },
   "outputs": [],
   "source": [
    "elements.get('sodium', -1)"
   ]
  },
  {
   "cell_type": "code",
   "execution_count": null,
   "metadata": {
    "slideshow": {
     "slide_type": "-"
    }
   },
   "outputs": [],
   "source": [
    "elements['neon'] = 10\n",
    "elements"
   ]
  },
  {
   "cell_type": "markdown",
   "metadata": {
    "slideshow": {
     "slide_type": "subslide"
    }
   },
   "source": [
    "## Elementos de un diccionario"
   ]
  },
  {
   "cell_type": "code",
   "execution_count": null,
   "metadata": {
    "slideshow": {
     "slide_type": "-"
    }
   },
   "outputs": [],
   "source": [
    "elements.keys()"
   ]
  },
  {
   "cell_type": "code",
   "execution_count": null,
   "metadata": {
    "slideshow": {
     "slide_type": "-"
    }
   },
   "outputs": [],
   "source": [
    "elements.values()"
   ]
  },
  {
   "cell_type": "code",
   "execution_count": null,
   "metadata": {
    "slideshow": {
     "slide_type": "-"
    }
   },
   "outputs": [],
   "source": [
    "elements.items()"
   ]
  },
  {
   "cell_type": "markdown",
   "metadata": {
    "slideshow": {
     "slide_type": "subslide"
    }
   },
   "source": [
    "## 💡Ejercicio\n",
    "\n",
    "Dada la cadena de texto de elementos químicos: `Cobalt, Silver, Platinum` construya el siguiente diccionario que asocia cada elemento con su número atómico:\n",
    "\n",
    "~~~python\n",
    "{\n",
    "    'Cobalt': 27,\n",
    "    'Silver': 47,\n",
    "    'Plantinum': 78\n",
    "}\n",
    "~~~"
   ]
  },
  {
   "cell_type": "code",
   "execution_count": null,
   "metadata": {
    "slideshow": {
     "slide_type": "skip"
    }
   },
   "outputs": [],
   "source": [
    "# Write your code here!"
   ]
  },
  {
   "cell_type": "markdown",
   "metadata": {
    "slideshow": {
     "slide_type": "skip"
    }
   },
   "source": [
    "## ⭐️ Solución"
   ]
  },
  {
   "cell_type": "code",
   "execution_count": 409,
   "metadata": {
    "slideshow": {
     "slide_type": "skip"
    }
   },
   "outputs": [],
   "source": [
    "# %load \"solutions/python/split_elements.py\""
   ]
  },
  {
   "cell_type": "markdown",
   "metadata": {
    "slideshow": {
     "slide_type": "subslide"
    }
   },
   "source": [
    "# Estructuras de datos compuestas\n",
    "\n",
    "Tanto las **listas** como los **diccionarios** admiten subestructuras con muchos niveles de anidamiento, lo que da una gran flexibilidad a la hora de crear **estructuras de datos compuestas**."
   ]
  },
  {
   "cell_type": "markdown",
   "metadata": {
    "slideshow": {
     "slide_type": "-"
    }
   },
   "source": [
    "## Lista de listas"
   ]
  },
  {
   "cell_type": "code",
   "execution_count": 410,
   "metadata": {
    "slideshow": {
     "slide_type": "-"
    }
   },
   "outputs": [],
   "source": [
    "# temperatura media de cada día de las 4 semanas de 1 mes\n",
    "temperatures = [\n",
    "    [20.1, 22, 23.9, 21.7, 19.9, 20.2, 18.7],\n",
    "    [21.2, 23.6, 24.8, 22.1, 18.8, 21.2, 19.9],\n",
    "    [20.8, 22.4, 23.2, 21.8, 19.2, 23.7, 17.6],\n",
    "    [22.6, 23.8, 26.8, 23.6, 22.3, 22.2, 18.4],\n",
    "]"
   ]
  },
  {
   "cell_type": "code",
   "execution_count": 411,
   "metadata": {
    "slideshow": {
     "slide_type": "-"
    }
   },
   "outputs": [
    {
     "data": {
      "text/plain": [
       "[21.2, 23.6, 24.8, 22.1, 18.8, 21.2, 19.9]"
      ]
     },
     "execution_count": 411,
     "metadata": {},
     "output_type": "execute_result"
    }
   ],
   "source": [
    "temperatures[1]"
   ]
  },
  {
   "cell_type": "markdown",
   "metadata": {
    "slideshow": {
     "slide_type": "subslide"
    }
   },
   "source": [
    "## Diccionario de diccionarios"
   ]
  },
  {
   "cell_type": "code",
   "execution_count": 412,
   "metadata": {
    "slideshow": {
     "slide_type": "-"
    }
   },
   "outputs": [],
   "source": [
    "elements =  {'hydrogen': {'number': 1,\n",
    "                          'weight': 1.00794,\n",
    "                          'symbol': 'H'},\n",
    "               'helium': {'number': 2,\n",
    "                          'weight': 4.002602,\n",
    "                          'symbol': 'He'},\n",
    "               'oxygen': {'number': 8,\n",
    "                          'weight': 15.999,\n",
    "                          'symbol': 'O'}}"
   ]
  },
  {
   "cell_type": "code",
   "execution_count": 413,
   "metadata": {
    "slideshow": {
     "slide_type": "-"
    }
   },
   "outputs": [
    {
     "data": {
      "text/plain": [
       "{'number': 2, 'weight': 4.002602, 'symbol': 'He'}"
      ]
     },
     "execution_count": 413,
     "metadata": {},
     "output_type": "execute_result"
    }
   ],
   "source": [
    "elements.get('helium')"
   ]
  },
  {
   "cell_type": "markdown",
   "metadata": {
    "slideshow": {
     "slide_type": "-"
    }
   },
   "source": [
    "También podemos crear **listas de diccionarios**, **diccionarios de listas**, ..."
   ]
  },
  {
   "cell_type": "markdown",
   "metadata": {
    "slideshow": {
     "slide_type": "subslide"
    }
   },
   "source": [
    "# Resumen de tipos de datos\n",
    "\n",
    "![Tipos de datos en Python](images/python/datatypes-python.png)"
   ]
  },
  {
   "cell_type": "markdown",
   "metadata": {
    "slideshow": {
     "slide_type": "slide"
    }
   },
   "source": [
    "# Flujo de control\n",
    "---"
   ]
  },
  {
   "cell_type": "markdown",
   "metadata": {
    "slideshow": {
     "slide_type": "subslide"
    }
   },
   "source": [
    "# Sentencia condicional `if`"
   ]
  },
  {
   "cell_type": "code",
   "execution_count": 414,
   "metadata": {
    "slideshow": {
     "slide_type": "-"
    }
   },
   "outputs": [
    {
     "name": "stdout",
     "output_type": "stream",
     "text": [
      "21 es impar!\n"
     ]
    }
   ],
   "source": [
    "number = 21\n",
    "\n",
    "if number % 2 == 0:\n",
    "    print(f'{number} es par!')\n",
    "else:\n",
    "    print(f'{number} es impar!')"
   ]
  },
  {
   "cell_type": "markdown",
   "metadata": {
    "slideshow": {
     "slide_type": "-"
    }
   },
   "source": [
    "## Expresiones booleanas compuestas"
   ]
  },
  {
   "cell_type": "code",
   "execution_count": 415,
   "metadata": {
    "slideshow": {
     "slide_type": "-"
    }
   },
   "outputs": [
    {
     "name": "stdout",
     "output_type": "stream",
     "text": [
      "Su índice de masa corporal es correcto!\n"
     ]
    }
   ],
   "source": [
    "bmi = 20.3\n",
    "if 18.5 <= bmi < 24.9:\n",
    "    print('Su índice de masa corporal es correcto!')"
   ]
  },
  {
   "cell_type": "code",
   "execution_count": 416,
   "metadata": {
    "slideshow": {
     "slide_type": "-"
    }
   },
   "outputs": [
    {
     "name": "stdout",
     "output_type": "stream",
     "text": [
      "Hay un arcoiris??\n"
     ]
    }
   ],
   "source": [
    "is_rainning = True\n",
    "is_sunny = True\n",
    "\n",
    "if is_rainning and is_sunny:\n",
    "    print('Hay un arcoiris??')"
   ]
  },
  {
   "cell_type": "markdown",
   "metadata": {
    "slideshow": {
     "slide_type": "subslide"
    }
   },
   "source": [
    "# Bucles `for`\n",
    "\n",
    "El bucle `for` se usa en Python para \"iterar\" sobre un **iterable**.\n",
    "\n",
    "Un **iterable** es un objeto que puede devolver uno de sus elementos cada vez. Esto incluye tanto a secuencias (cadenas, listas o tuplas) como a no secuencias (diccionarios y ficheros)."
   ]
  },
  {
   "cell_type": "code",
   "execution_count": 417,
   "metadata": {
    "slideshow": {
     "slide_type": "-"
    }
   },
   "outputs": [
    {
     "name": "stdout",
     "output_type": "stream",
     "text": [
      "hydrogen\n",
      "helium\n",
      "lithium\n",
      "beryllium\n",
      "boron\n"
     ]
    }
   ],
   "source": [
    "elements = ['hydrogen', 'helium', 'lithium', 'beryllium', 'boron']\n",
    "\n",
    "for element in elements:\n",
    "    print(element)"
   ]
  },
  {
   "cell_type": "markdown",
   "metadata": {
    "slideshow": {
     "slide_type": "subslide"
    }
   },
   "source": [
    "## 💡Ejercicio\n",
    "\n",
    "Dada la siguiente lista que indica la *gravedad ecuatorial* de los planetas del Sistema Solar expresada en $m/s^2$:\n",
    "\n",
    "~~~python\n",
    "gravity = [2.8, 8.9, 9.81, 3.71, 22.9, 9.1, 7.8, 11.00]\n",
    "~~~\n",
    "\n",
    "Calcule su *desviación estándar*:\n",
    "\n",
    "$\n",
    "\\begin{align*}\n",
    "\\sigma = \\sqrt{\\frac{1}{N}\\sum_{i=1}^N(x_i-\\bar{x})^2}\n",
    "\\end{align*}\n",
    "$"
   ]
  },
  {
   "cell_type": "code",
   "execution_count": 418,
   "metadata": {
    "slideshow": {
     "slide_type": "skip"
    }
   },
   "outputs": [],
   "source": [
    "# Write your code here!"
   ]
  },
  {
   "cell_type": "markdown",
   "metadata": {
    "slideshow": {
     "slide_type": "skip"
    }
   },
   "source": [
    "## ⭐️ Solución"
   ]
  },
  {
   "cell_type": "code",
   "execution_count": 419,
   "metadata": {
    "slideshow": {
     "slide_type": "skip"
    }
   },
   "outputs": [],
   "source": [
    "# %load \"solutions/python/stddev.py\""
   ]
  },
  {
   "cell_type": "markdown",
   "metadata": {
    "slideshow": {
     "slide_type": "subslide"
    }
   },
   "source": [
    "## Usando `range()` en bucles `for`"
   ]
  },
  {
   "cell_type": "markdown",
   "metadata": {
    "slideshow": {
     "slide_type": "-"
    }
   },
   "source": [
    "`range()` es una [función predefinida](https://docs.python.org/3/library/functions.html) de Python que devuelve una **secuencia iterable de números**."
   ]
  },
  {
   "cell_type": "code",
   "execution_count": 420,
   "metadata": {
    "slideshow": {
     "slide_type": "-"
    }
   },
   "outputs": [
    {
     "name": "stdout",
     "output_type": "stream",
     "text": [
      "0 hola!\n",
      "1 hola!\n",
      "2 hola!\n"
     ]
    }
   ],
   "source": [
    "for i in range(3):     # se suelen usar i, j, k como contadores en bucles\n",
    "    print(i, 'hola!')"
   ]
  },
  {
   "cell_type": "code",
   "execution_count": 421,
   "metadata": {
    "slideshow": {
     "slide_type": "-"
    }
   },
   "outputs": [
    {
     "data": {
      "text/plain": [
       "[2, 3, 4, 5, 6, 7, 8, 9]"
      ]
     },
     "execution_count": 421,
     "metadata": {},
     "output_type": "execute_result"
    }
   ],
   "source": [
    "list(range(2, 10))"
   ]
  },
  {
   "cell_type": "code",
   "execution_count": 422,
   "metadata": {
    "slideshow": {
     "slide_type": "-"
    }
   },
   "outputs": [
    {
     "data": {
      "text/plain": [
       "[0, 3, 6, 9, 12, 15, 18]"
      ]
     },
     "execution_count": 422,
     "metadata": {},
     "output_type": "execute_result"
    }
   ],
   "source": [
    "list(range(0, 20, 3))"
   ]
  },
  {
   "cell_type": "markdown",
   "metadata": {
    "slideshow": {
     "slide_type": "subslide"
    }
   },
   "source": [
    "# Añadiendo elementos a una lista"
   ]
  },
  {
   "cell_type": "markdown",
   "metadata": {
    "slideshow": {
     "slide_type": "-"
    }
   },
   "source": [
    "Supongamos que queremos añadir una serie de elementos químicos descubiertos en los últimos años:"
   ]
  },
  {
   "cell_type": "code",
   "execution_count": 423,
   "metadata": {
    "slideshow": {
     "slide_type": "-"
    }
   },
   "outputs": [
    {
     "data": {
      "text/plain": [
       "['hydrogen',\n",
       " 'helium',\n",
       " 'lithium',\n",
       " 'beryllium',\n",
       " 'boron',\n",
       " 'nihonium',\n",
       " 'moscovium',\n",
       " 'tennessine',\n",
       " 'oganesson']"
      ]
     },
     "execution_count": 423,
     "metadata": {},
     "output_type": "execute_result"
    }
   ],
   "source": [
    "# https://iupac.org/iupac-announces-the-names-of-the-elements-113-115-117-and-118/\n",
    "new_discovered_elements = ['nihonium', 'moscovium', 'tennessine', 'oganesson']\n",
    "\n",
    "for element in new_discovered_elements:\n",
    "    elements.append(element)\n",
    "\n",
    "elements"
   ]
  },
  {
   "cell_type": "markdown",
   "metadata": {
    "slideshow": {
     "slide_type": "subslide"
    }
   },
   "source": [
    "# Modificando elementos de una lista"
   ]
  },
  {
   "cell_type": "markdown",
   "metadata": {
    "slideshow": {
     "slide_type": "-"
    }
   },
   "source": [
    "Supongamos que queremos pasar todos los elementos de una lista a mayúsculas:"
   ]
  },
  {
   "cell_type": "code",
   "execution_count": 424,
   "metadata": {
    "slideshow": {
     "slide_type": "-"
    }
   },
   "outputs": [
    {
     "data": {
      "text/plain": [
       "['HYDROGEN',\n",
       " 'HELIUM',\n",
       " 'LITHIUM',\n",
       " 'BERYLLIUM',\n",
       " 'BORON',\n",
       " 'NIHONIUM',\n",
       " 'MOSCOVIUM',\n",
       " 'TENNESSINE',\n",
       " 'OGANESSON']"
      ]
     },
     "execution_count": 424,
     "metadata": {},
     "output_type": "execute_result"
    }
   ],
   "source": [
    "for i in range(len(elements)):\n",
    "    elements[i] = elements[i].upper()\n",
    "\n",
    "elements"
   ]
  },
  {
   "cell_type": "markdown",
   "metadata": {
    "slideshow": {
     "slide_type": "subslide"
    }
   },
   "source": [
    "## 💡Ejercicio\n",
    "\n",
    "Construya una lista que contenga los $n$ primeros números de la [sucesión de Fibonacci](https://es.wikipedia.org/wiki/Sucesi%C3%B3n_de_Fibonacci)."
   ]
  },
  {
   "cell_type": "code",
   "execution_count": 425,
   "metadata": {
    "slideshow": {
     "slide_type": "skip"
    }
   },
   "outputs": [],
   "source": [
    "# Write your code here!"
   ]
  },
  {
   "cell_type": "markdown",
   "metadata": {
    "slideshow": {
     "slide_type": "skip"
    }
   },
   "source": [
    "## ⭐️ Solución"
   ]
  },
  {
   "cell_type": "code",
   "execution_count": 426,
   "metadata": {
    "slideshow": {
     "slide_type": "skip"
    }
   },
   "outputs": [],
   "source": [
    "# %load \"solutions/python/fibonacci.py\""
   ]
  },
  {
   "cell_type": "markdown",
   "metadata": {
    "slideshow": {
     "slide_type": "subslide"
    }
   },
   "source": [
    "# La forma pitónica también es la más rápida"
   ]
  },
  {
   "cell_type": "code",
   "execution_count": 7,
   "metadata": {
    "slideshow": {
     "slide_type": "-"
    }
   },
   "outputs": [],
   "source": [
    "size = int(1e6)\n",
    "values = list(range(size))"
   ]
  },
  {
   "cell_type": "code",
   "execution_count": 8,
   "metadata": {
    "slideshow": {
     "slide_type": "-"
    }
   },
   "outputs": [
    {
     "name": "stdout",
     "output_type": "stream",
     "text": [
      "115 ms ± 5.83 ms per loop (mean ± std. dev. of 7 runs, 10 loops each)\n"
     ]
    }
   ],
   "source": [
    "%%timeit\n",
    "result = 0\n",
    "for i in range(len(values)):\n",
    "    result += values[i]"
   ]
  },
  {
   "cell_type": "code",
   "execution_count": 9,
   "metadata": {
    "slideshow": {
     "slide_type": "-"
    }
   },
   "outputs": [
    {
     "name": "stdout",
     "output_type": "stream",
     "text": [
      "55.3 ms ± 2.42 ms per loop (mean ± std. dev. of 7 runs, 10 loops each)\n"
     ]
    }
   ],
   "source": [
    "%%timeit\n",
    "result = 0\n",
    "for elem in values:\n",
    "    result += elem"
   ]
  },
  {
   "cell_type": "markdown",
   "metadata": {
    "slideshow": {
     "slide_type": "subslide"
    }
   },
   "source": [
    "# Construyendo un diccionario\n",
    "\n",
    "Supongamos que disponemos de dos listas:\n",
    "1. Nombres de elementos químicos.\n",
    "2. Números atómicos.\n",
    "\n",
    "Nuestro objetivo es crear un diccionario cuyas claves sean los nombres de los elementos y los valores sean los números atómicos."
   ]
  },
  {
   "cell_type": "code",
   "execution_count": 427,
   "metadata": {
    "slideshow": {
     "slide_type": "-"
    }
   },
   "outputs": [
    {
     "name": "stdout",
     "output_type": "stream",
     "text": [
      "['HYDROGEN', 'HELIUM', 'LITHIUM', 'BERYLLIUM', 'BORON', 'NIHONIUM', 'MOSCOVIUM', 'TENNESSINE', 'OGANESSON']\n"
     ]
    }
   ],
   "source": [
    "element_names = elements\n",
    "print(element_names)"
   ]
  },
  {
   "cell_type": "code",
   "execution_count": 428,
   "metadata": {
    "slideshow": {
     "slide_type": "-"
    }
   },
   "outputs": [
    {
     "name": "stdout",
     "output_type": "stream",
     "text": [
      "[1, 2, 3, 4, 5, 113, 115, 117, 118]\n"
     ]
    }
   ],
   "source": [
    "atomic_numbers = [1, 2, 3, 4, 5, 113, 115, 117, 118]\n",
    "print(atomic_numbers)"
   ]
  },
  {
   "cell_type": "code",
   "execution_count": 429,
   "metadata": {
    "slideshow": {
     "slide_type": "subslide"
    }
   },
   "outputs": [
    {
     "data": {
      "text/plain": [
       "{'HYDROGEN': 1,\n",
       " 'HELIUM': 2,\n",
       " 'LITHIUM': 3,\n",
       " 'BERYLLIUM': 4,\n",
       " 'BORON': 5,\n",
       " 'NIHONIUM': 113,\n",
       " 'MOSCOVIUM': 115,\n",
       " 'TENNESSINE': 117,\n",
       " 'OGANESSON': 118}"
      ]
     },
     "execution_count": 429,
     "metadata": {},
     "output_type": "execute_result"
    }
   ],
   "source": [
    "elements = {}\n",
    "\n",
    "for i in range(len(element_names)):\n",
    "    name = element_names[i]\n",
    "    atomic_number = atomic_numbers[i]\n",
    "    elements[name] = atomic_number\n",
    "\n",
    "elements"
   ]
  },
  {
   "cell_type": "markdown",
   "metadata": {
    "slideshow": {
     "slide_type": "subslide"
    }
   },
   "source": [
    "# Iterando sobre un diccionario mediante un bucle `for`"
   ]
  },
  {
   "cell_type": "code",
   "execution_count": 430,
   "metadata": {
    "scrolled": true,
    "slideshow": {
     "slide_type": "-"
    }
   },
   "outputs": [
    {
     "name": "stdout",
     "output_type": "stream",
     "text": [
      "  HYDROGEN --> 1\n",
      "    HELIUM --> 2\n",
      "   LITHIUM --> 3\n",
      " BERYLLIUM --> 4\n",
      "     BORON --> 5\n",
      "  NIHONIUM --> 113\n",
      " MOSCOVIUM --> 115\n",
      "TENNESSINE --> 117\n",
      " OGANESSON --> 118\n"
     ]
    }
   ],
   "source": [
    "for element, atomic_number in elements.items():\n",
    "    print(f'{element:>10} --> {atomic_number}')"
   ]
  },
  {
   "cell_type": "markdown",
   "metadata": {
    "slideshow": {
     "slide_type": "subslide"
    }
   },
   "source": [
    "# Bucle `while`"
   ]
  },
  {
   "cell_type": "markdown",
   "metadata": {
    "slideshow": {
     "slide_type": "-"
    }
   },
   "source": [
    "A diferencia de un bucle `for` en el que sabemos positivamente cuántas *iteraciones* vamos a realizar, en el bucle `while` depende de que se cumpla una condición arbitraria."
   ]
  },
  {
   "cell_type": "code",
   "execution_count": 431,
   "metadata": {
    "slideshow": {
     "slide_type": "-"
    }
   },
   "outputs": [
    {
     "name": "stdout",
     "output_type": "stream",
     "text": [
      "Intentos para conseguir suma siete = 22\n",
      "Dado1 = 3\n",
      "Dado2 = 4\n"
     ]
    }
   ],
   "source": [
    "import random\n",
    "\n",
    "tries, sum_dices = 0, 0\n",
    "\n",
    "while sum_dices != 7:\n",
    "    dice1 = random.randint(1, 6)\n",
    "    dice2 = random.randint(1, 6)\n",
    "    sum_dices = dice1 + dice2\n",
    "    tries += 1\n",
    "\n",
    "print(f'''Intentos para conseguir suma siete = {tries}\n",
    "Dado1 = {dice1}\n",
    "Dado2 = {dice2}''')"
   ]
  },
  {
   "cell_type": "markdown",
   "metadata": {
    "slideshow": {
     "slide_type": "subslide"
    }
   },
   "source": [
    "# Controlando el flujo del bucle (`break` y `continue`)\n",
    "\n",
    "Usaremos la sentencia `break` para encontrar **el primer múltiplo de 3** de una lista de números:"
   ]
  },
  {
   "cell_type": "code",
   "execution_count": 432,
   "metadata": {
    "scrolled": true,
    "slideshow": {
     "slide_type": "-"
    }
   },
   "outputs": [
    {
     "name": "stdout",
     "output_type": "stream",
     "text": [
      "12 es el primer múltiplo de 3!\n"
     ]
    }
   ],
   "source": [
    "numbers = [82, 5, 12, 7, 21]\n",
    "\n",
    "for number in numbers:\n",
    "    if number % 3 == 0:\n",
    "        print(f'{number} es el primer múltiplo de 3!')\n",
    "        break"
   ]
  },
  {
   "cell_type": "markdown",
   "metadata": {
    "slideshow": {
     "slide_type": "-"
    }
   },
   "source": [
    "Usaremos la sentencia `continue` para listar todos **aquellos números que no sean múltiplos de 2**:"
   ]
  },
  {
   "cell_type": "code",
   "execution_count": 433,
   "metadata": {
    "slideshow": {
     "slide_type": "-"
    }
   },
   "outputs": [
    {
     "name": "stdout",
     "output_type": "stream",
     "text": [
      "5 7 21 "
     ]
    }
   ],
   "source": [
    "for number in numbers:\n",
    "    if number % 2 == 0:\n",
    "        continue\n",
    "    print(number, end=' ')"
   ]
  },
  {
   "cell_type": "markdown",
   "metadata": {
    "slideshow": {
     "slide_type": "subslide"
    }
   },
   "source": [
    "## 💡Ejercicio\n",
    "\n",
    "Dada una cadena de dígitos, calcule el mayor producto de una subcadena contigua de dígitos de longitud $k$.\n",
    "\n",
    "Por ejemplo, para la entrada `'1027839564'`, el mayor producto para una serie de $k=3$ dígitos es 270 (9 * 5 * 6), y el mayor producto para una serie de 5 dígitos es 7560 (7 * 8 * 3 * 9 * 5).\n",
    "\n",
    "Nótese que las series sólo requieren ocupar *posiciones adyacentes* en la entrada; los dígitos no necesitan ser numéricamente consecutivos.\n",
    "\n",
    "Para la entrada `'73167176531330624919225119674426574742355349194934'`, el mayor producto de una serie de $k=6$ dígitos es 23520.\n",
    "\n",
    "Fuente: [Exercism](https://exercism.io) (variación del [problema 8 en Project Euler](https://projecteuler.net/problem=8))"
   ]
  },
  {
   "cell_type": "code",
   "execution_count": 434,
   "metadata": {
    "slideshow": {
     "slide_type": "skip"
    }
   },
   "outputs": [],
   "source": [
    "# Write your code here!"
   ]
  },
  {
   "cell_type": "markdown",
   "metadata": {
    "slideshow": {
     "slide_type": "skip"
    }
   },
   "source": [
    "## ⭐️ Solución"
   ]
  },
  {
   "cell_type": "code",
   "execution_count": 435,
   "metadata": {
    "slideshow": {
     "slide_type": "skip"
    }
   },
   "outputs": [],
   "source": [
    "# %load \"solutions/python/product.py\""
   ]
  },
  {
   "cell_type": "markdown",
   "metadata": {
    "slideshow": {
     "slide_type": "subslide"
    }
   },
   "source": [
    "# `zip` y `enumerate`"
   ]
  },
  {
   "cell_type": "markdown",
   "metadata": {
    "slideshow": {
     "slide_type": "-"
    }
   },
   "source": [
    "`zip` devuelve un iterador que combina múltiples iterables en una secuencia de tuplas:"
   ]
  },
  {
   "cell_type": "code",
   "execution_count": 436,
   "metadata": {
    "slideshow": {
     "slide_type": "-"
    }
   },
   "outputs": [
    {
     "name": "stdout",
     "output_type": "stream",
     "text": [
      "['HYDROGEN', 'HELIUM', 'LITHIUM', 'BERYLLIUM', 'BORON', 'NIHONIUM', 'MOSCOVIUM', 'TENNESSINE', 'OGANESSON']\n"
     ]
    }
   ],
   "source": [
    "print(element_names)"
   ]
  },
  {
   "cell_type": "code",
   "execution_count": 437,
   "metadata": {
    "slideshow": {
     "slide_type": "-"
    }
   },
   "outputs": [
    {
     "name": "stdout",
     "output_type": "stream",
     "text": [
      "[1, 2, 3, 4, 5, 113, 115, 117, 118]\n"
     ]
    }
   ],
   "source": [
    "print(atomic_numbers)"
   ]
  },
  {
   "cell_type": "code",
   "execution_count": 438,
   "metadata": {
    "scrolled": true,
    "slideshow": {
     "slide_type": "-"
    }
   },
   "outputs": [
    {
     "data": {
      "text/plain": [
       "[('HYDROGEN', 1),\n",
       " ('HELIUM', 2),\n",
       " ('LITHIUM', 3),\n",
       " ('BERYLLIUM', 4),\n",
       " ('BORON', 5),\n",
       " ('NIHONIUM', 113),\n",
       " ('MOSCOVIUM', 115),\n",
       " ('TENNESSINE', 117),\n",
       " ('OGANESSON', 118)]"
      ]
     },
     "execution_count": 438,
     "metadata": {},
     "output_type": "execute_result"
    }
   ],
   "source": [
    "list(zip(element_names, atomic_numbers))"
   ]
  },
  {
   "cell_type": "markdown",
   "metadata": {
    "slideshow": {
     "slide_type": "subslide"
    }
   },
   "source": [
    "`enumerate` devuelve un iterador de tuplas que contienen índices y valores de un iterable:"
   ]
  },
  {
   "cell_type": "code",
   "execution_count": 439,
   "metadata": {
    "slideshow": {
     "slide_type": "-"
    }
   },
   "outputs": [
    {
     "name": "stdout",
     "output_type": "stream",
     "text": [
      "0 HYDROGEN\n",
      "1 HELIUM\n",
      "2 LITHIUM\n",
      "3 BERYLLIUM\n",
      "4 BORON\n",
      "5 NIHONIUM\n",
      "6 MOSCOVIUM\n",
      "7 TENNESSINE\n",
      "8 OGANESSON\n"
     ]
    }
   ],
   "source": [
    "for i, element in enumerate(element_names):\n",
    "    print(i, element)"
   ]
  },
  {
   "cell_type": "markdown",
   "metadata": {
    "slideshow": {
     "slide_type": "subslide"
    }
   },
   "source": [
    "# Listas por comprensión\n",
    "\n",
    "El concepto de **listas por comprensión** proviene de los **conjuntos por comprensión** de la [Teoría de conjuntos](https://es.wikipedia.org/wiki/Teor%C3%ADa_de_conjuntos).\n",
    "\n",
    "Los conjuntos por comprensión son aquellos conjuntos cuya notación no indica cada uno de los elementos sino que, de manera general, se indican las propiedades de sus elementos. Por ejemplo:\n",
    "\n",
    "$$\\mathcal{A} = \\big{\\{} x \\big{/} x \\space \\text{es múltiplo de 3 y menor de 16} \\big{\\}} $$\n",
    "\n",
    "Si expresamos el conjunto $\\mathcal{A}$ **por extensión** tendríamos:\n",
    "\n",
    "$$\\mathcal{A} = \\big{\\{} 3, 6, 9, 12, 15 \\big{\\}} $$"
   ]
  },
  {
   "cell_type": "markdown",
   "metadata": {
    "slideshow": {
     "slide_type": "subslide"
    }
   },
   "source": [
    "Supongamos que definimos una **lista por comprensión** de aquellos números enteros positivos (pares y menores de 10) elevados al cuadrado.\n",
    "\n",
    "$$\\mathcal{S} = \\big{\\{} x^2 \\big{/} x \\in \\mathbb{N} , x < 10 , x = \\dot{2} \\big{\\}} $$\n",
    "\n",
    "### Versión clásica"
   ]
  },
  {
   "cell_type": "code",
   "execution_count": 440,
   "metadata": {
    "slideshow": {
     "slide_type": "-"
    }
   },
   "outputs": [
    {
     "data": {
      "text/plain": [
       "[4, 16, 36, 64]"
      ]
     },
     "execution_count": 440,
     "metadata": {},
     "output_type": "execute_result"
    }
   ],
   "source": [
    "squares = []\n",
    "for x in range(1, 10):\n",
    "    if x % 2 == 0:\n",
    "        squares.append(x**2)\n",
    "squares"
   ]
  },
  {
   "cell_type": "markdown",
   "metadata": {
    "slideshow": {
     "slide_type": "-"
    }
   },
   "source": [
    "### Versión de listas por comprensión"
   ]
  },
  {
   "cell_type": "code",
   "execution_count": 441,
   "metadata": {
    "slideshow": {
     "slide_type": "-"
    }
   },
   "outputs": [
    {
     "data": {
      "text/plain": [
       "[4, 16, 36, 64]"
      ]
     },
     "execution_count": 441,
     "metadata": {},
     "output_type": "execute_result"
    }
   ],
   "source": [
    "squares = [x**2 for x in range(1, 10) if x % 2 == 0]\n",
    "squares"
   ]
  },
  {
   "cell_type": "markdown",
   "metadata": {
    "slideshow": {
     "slide_type": "subslide"
    }
   },
   "source": [
    "# Diccionarios por comprensión"
   ]
  },
  {
   "cell_type": "code",
   "execution_count": 442,
   "metadata": {
    "slideshow": {
     "slide_type": "-"
    }
   },
   "outputs": [
    {
     "data": {
      "text/plain": [
       "{0: '0b0',\n",
       " 1: '0b1',\n",
       " 2: '0b10',\n",
       " 3: '0b11',\n",
       " 4: '0b100',\n",
       " 5: '0b101',\n",
       " 6: '0b110',\n",
       " 7: '0b111',\n",
       " 8: '0b1000',\n",
       " 9: '0b1001',\n",
       " 10: '0b1010',\n",
       " 11: '0b1011',\n",
       " 12: '0b1100',\n",
       " 13: '0b1101',\n",
       " 14: '0b1110',\n",
       " 15: '0b1111',\n",
       " 16: '0b10000',\n",
       " 17: '0b10001',\n",
       " 18: '0b10010',\n",
       " 19: '0b10011',\n",
       " 20: '0b10100'}"
      ]
     },
     "execution_count": 442,
     "metadata": {},
     "output_type": "execute_result"
    }
   ],
   "source": [
    "{x: bin(x) for x in range(21)}"
   ]
  },
  {
   "cell_type": "markdown",
   "metadata": {
    "slideshow": {
     "slide_type": "subslide"
    }
   },
   "source": [
    "## 💡Ejercicio\n",
    "\n",
    "Dada una cadena de texto obtenga un *diccionario por comprensión* en el que las claves sean las palabras de la cadena de texto y los valores sean su longitud.\n",
    "\n",
    "> \"Acknowledging the good that you already have in your life is the foundation for all abundance\" —Eckhart Tolle "
   ]
  },
  {
   "cell_type": "code",
   "execution_count": 443,
   "metadata": {
    "slideshow": {
     "slide_type": "skip"
    }
   },
   "outputs": [],
   "source": [
    "# Write your code here!"
   ]
  },
  {
   "cell_type": "markdown",
   "metadata": {
    "slideshow": {
     "slide_type": "skip"
    }
   },
   "source": [
    "## ⭐️ Solución"
   ]
  },
  {
   "cell_type": "code",
   "execution_count": 444,
   "metadata": {
    "slideshow": {
     "slide_type": "skip"
    }
   },
   "outputs": [],
   "source": [
    "# %load \"solutions/python/dict_comprehension.py\""
   ]
  },
  {
   "cell_type": "markdown",
   "metadata": {
    "slideshow": {
     "slide_type": "slide"
    }
   },
   "source": [
    "# Funciones\n",
    "---"
   ]
  },
  {
   "cell_type": "markdown",
   "metadata": {
    "slideshow": {
     "slide_type": "subslide"
    }
   },
   "source": [
    "# Definición de funciones\n",
    "\n",
    "Supongamos la siguiente función: $f(x, y) = x^2 + y^2$"
   ]
  },
  {
   "cell_type": "code",
   "execution_count": 445,
   "metadata": {
    "slideshow": {
     "slide_type": "-"
    }
   },
   "outputs": [],
   "source": [
    "def f(x, y):\n",
    "    return x**2 + y**2"
   ]
  },
  {
   "cell_type": "code",
   "execution_count": 446,
   "metadata": {
    "slideshow": {
     "slide_type": "-"
    }
   },
   "outputs": [
    {
     "data": {
      "text/plain": [
       "53"
      ]
     },
     "execution_count": 446,
     "metadata": {},
     "output_type": "execute_result"
    }
   ],
   "source": [
    "f(2, 7)"
   ]
  },
  {
   "cell_type": "code",
   "execution_count": 447,
   "metadata": {
    "slideshow": {
     "slide_type": "-"
    }
   },
   "outputs": [
    {
     "data": {
      "text/plain": [
       "17"
      ]
     },
     "execution_count": 447,
     "metadata": {},
     "output_type": "execute_result"
    }
   ],
   "source": [
    "f(4, -1)"
   ]
  },
  {
   "cell_type": "markdown",
   "metadata": {
    "slideshow": {
     "slide_type": "subslide"
    }
   },
   "source": [
    "# Parámetros por defecto"
   ]
  },
  {
   "cell_type": "code",
   "execution_count": 448,
   "metadata": {
    "slideshow": {
     "slide_type": "-"
    }
   },
   "outputs": [],
   "source": [
    "def passed_test(mark, threshold=5):\n",
    "    return mark >= threshold"
   ]
  },
  {
   "cell_type": "code",
   "execution_count": 449,
   "metadata": {
    "slideshow": {
     "slide_type": "-"
    }
   },
   "outputs": [
    {
     "data": {
      "text/plain": [
       "True"
      ]
     },
     "execution_count": 449,
     "metadata": {},
     "output_type": "execute_result"
    }
   ],
   "source": [
    "passed_test(6)"
   ]
  },
  {
   "cell_type": "code",
   "execution_count": 450,
   "metadata": {
    "slideshow": {
     "slide_type": "-"
    }
   },
   "outputs": [
    {
     "data": {
      "text/plain": [
       "False"
      ]
     },
     "execution_count": 450,
     "metadata": {},
     "output_type": "execute_result"
    }
   ],
   "source": [
    "passed_test(6, 6.5)"
   ]
  },
  {
   "cell_type": "markdown",
   "metadata": {
    "slideshow": {
     "slide_type": "subslide"
    }
   },
   "source": [
    "# Funciones que retornan más de un valor"
   ]
  },
  {
   "cell_type": "code",
   "execution_count": 451,
   "metadata": {
    "slideshow": {
     "slide_type": "-"
    }
   },
   "outputs": [],
   "source": [
    "def stats(values):\n",
    "    avg = sum(values) / len(values)\n",
    "    # en realidad lo que se devuelve es una tupla\n",
    "    return min(values), avg, max(values)"
   ]
  },
  {
   "cell_type": "code",
   "execution_count": 452,
   "metadata": {
    "slideshow": {
     "slide_type": "-"
    }
   },
   "outputs": [],
   "source": [
    "values = [4, 3, 8, 7, 6, 1, 9, 3, 2, 9]\n",
    "min_value, avg, max_value = stats(values)"
   ]
  },
  {
   "cell_type": "code",
   "execution_count": 453,
   "metadata": {
    "scrolled": false,
    "slideshow": {
     "slide_type": "-"
    }
   },
   "outputs": [
    {
     "name": "stdout",
     "output_type": "stream",
     "text": [
      "Valor mínimo: 1\n",
      "Media: 5.2\n",
      "Valor máximo: 9\n"
     ]
    }
   ],
   "source": [
    "print('Valor mínimo:', min_value)\n",
    "print('Media:', avg)\n",
    "print('Valor máximo:', max_value)"
   ]
  },
  {
   "cell_type": "markdown",
   "metadata": {
    "slideshow": {
     "slide_type": "subslide"
    }
   },
   "source": [
    "## 💡Ejercicio\n",
    "\n",
    "Compruebe que, para valores cada vez más grandes de $n$, se cumple la siguiente aproximación:\n",
    "\n",
    "$\n",
    "\\begin{align*}\n",
    "\\sum_{i=0}^n \\frac{x^i}{i!} \\approx e^x\n",
    "\\end{align*}\n",
    "$\n",
    "\n",
    "**NOTA**: Defina, al menos, una función para calcular el factorial.\n",
    "\n",
    "Fuente: [Series matemáticas en Wikipedia](https://es.wikipedia.org/wiki/Anexo:Series_matem%C3%A1ticas)"
   ]
  },
  {
   "cell_type": "code",
   "execution_count": 454,
   "metadata": {
    "slideshow": {
     "slide_type": "skip"
    }
   },
   "outputs": [],
   "source": [
    "# Write your code here!"
   ]
  },
  {
   "cell_type": "markdown",
   "metadata": {
    "slideshow": {
     "slide_type": "skip"
    }
   },
   "source": [
    "## ⭐️ Solución"
   ]
  },
  {
   "cell_type": "code",
   "execution_count": 455,
   "metadata": {
    "slideshow": {
     "slide_type": "skip"
    }
   },
   "outputs": [],
   "source": [
    "# %load \"solutions/python/approx.py\""
   ]
  },
  {
   "cell_type": "markdown",
   "metadata": {
    "slideshow": {
     "slide_type": "subslide"
    }
   },
   "source": [
    "# Funciones *lambda*\n",
    "\n",
    "Las funciones *lambda* nos permiten escribir funciones de una manera mucho más compacta:"
   ]
  },
  {
   "cell_type": "code",
   "execution_count": 456,
   "metadata": {
    "slideshow": {
     "slide_type": "-"
    }
   },
   "outputs": [],
   "source": [
    "def classic_multiply(x, y):\n",
    "    return x * y"
   ]
  },
  {
   "cell_type": "code",
   "execution_count": 457,
   "metadata": {
    "slideshow": {
     "slide_type": "-"
    }
   },
   "outputs": [],
   "source": [
    "lambda_multiply = lambda x, y: x * y"
   ]
  },
  {
   "cell_type": "code",
   "execution_count": 458,
   "metadata": {
    "slideshow": {
     "slide_type": "-"
    }
   },
   "outputs": [
    {
     "data": {
      "text/plain": [
       "37224"
      ]
     },
     "execution_count": 458,
     "metadata": {},
     "output_type": "execute_result"
    }
   ],
   "source": [
    "classic_multiply(88, 423)"
   ]
  },
  {
   "cell_type": "code",
   "execution_count": 459,
   "metadata": {
    "slideshow": {
     "slide_type": "-"
    }
   },
   "outputs": [
    {
     "data": {
      "text/plain": [
       "37224"
      ]
     },
     "execution_count": 459,
     "metadata": {},
     "output_type": "execute_result"
    }
   ],
   "source": [
    "lambda_multiply(88, 423)"
   ]
  },
  {
   "cell_type": "markdown",
   "metadata": {
    "slideshow": {
     "slide_type": "subslide"
    }
   },
   "source": [
    "## Uso práctico de funciones *lambda*\n",
    "\n",
    "La función `sorted` de la librería estándar permite ordenar cualquier secuencia y admite un parámetro `key` que indica cómo se deben ordenar los elementos. Podemos hacer uso de una función *lambda* para modificar el comportamiento por defecto."
   ]
  },
  {
   "cell_type": "code",
   "execution_count": 460,
   "metadata": {
    "slideshow": {
     "slide_type": "-"
    }
   },
   "outputs": [
    {
     "name": "stdout",
     "output_type": "stream",
     "text": [
      "[[1, 37, 43, 15], [40, 67, 14, 4], [30, 64, 30, 3], [15, 79, 53, 3], [60, 24, 11, 73], [3, 56, 53, 65], [24, 99, 36, 22], [73, 62, 43, 2], [10, 9, 75, 87], [87, 44, 41, 13], [47, 25, 37, 78], [14, 98, 59, 24], [61, 41, 3, 91], [3, 82, 85, 44], [68, 49, 8, 99], [55, 87, 64, 19], [10, 54, 94, 72], [100, 5, 94, 36], [48, 56, 44, 84], [81, 13, 61, 82], [29, 100, 11, 100], [69, 18, 98, 60], [67, 92, 70, 30], [89, 67, 78, 27], [62, 88, 40, 74]]\n"
     ]
    }
   ],
   "source": [
    "import random\n",
    "\n",
    "NUM_ITEMS_PER_SLOT = 4\n",
    "\n",
    "values = [[random.randint(1, 100) for _ in range(NUM_ITEMS_PER_SLOT)] for _ in range(25)]\n",
    "\n",
    "# ordenamos por la media de los valores de cada slot\n",
    "values = sorted(values, key=lambda s: sum(s) // len(s))\n",
    "\n",
    "print(values)"
   ]
  },
  {
   "cell_type": "markdown",
   "metadata": {
    "slideshow": {
     "slide_type": "slide"
    }
   },
   "source": [
    "# Clases\n",
    "---"
   ]
  },
  {
   "cell_type": "code",
   "execution_count": 461,
   "metadata": {
    "slideshow": {
     "slide_type": "skip"
    }
   },
   "outputs": [],
   "source": [
    "class ChemicalElement:\n",
    "    \n",
    "    def __init__(self, Z, symbol, name, period, atomic_weight):\n",
    "        self.Z = Z\n",
    "        self.symbol = symbol\n",
    "        self.name = name\n",
    "        self.period = period\n",
    "        self.atomic_weight = atomic_weight\n",
    "    \n",
    "    def __str__(self):\n",
    "        return f'[Z={self.Z}] {self.name}'\n",
    "    \n",
    "    def info(self):\n",
    "        return f'''{self.name}\n",
    "Symbol: {self.symbol}\n",
    "Atomic number: {self.Z}\n",
    "Period: {self.period}\n",
    "Atomic weight: {self.atomic_weight}\n",
    "        '''\n",
    "    \n",
    "    def __lt__(self, other):\n",
    "        return self.Z < other.Z\n",
    "\n",
    "    def __gt__(self, other):\n",
    "        return self.Z > other.Z\n",
    "    \n",
    "    def __add__(self, other):\n",
    "        new_Z = self.Z + other.Z\n",
    "        new_symbol = self.symbol[0].upper() + other.symbol[0].lower()\n",
    "        new_name = f'{self.name}-{other.name}'\n",
    "        new_period = round((self.period + other.period) / 2)\n",
    "        new_atomic_weight = self.atomic_weight + other.atomic_weight\n",
    "        return ChemicalElement(new_Z, new_symbol, new_name, new_period, new_atomic_weight)"
   ]
  },
  {
   "cell_type": "markdown",
   "metadata": {
    "slideshow": {
     "slide_type": "subslide"
    }
   },
   "source": [
    "Vamos a definir una clase que represente un **elemento químico**. Empezaremos definiendo su **constructor** y su **representación**:\n",
    "\n",
    "~~~python\n",
    "class ChemicalElement:\n",
    "    \n",
    "    def __init__(self, Z, symbol, name, period, atomic_weight):\n",
    "        self.Z = Z\n",
    "        self.symbol = symbol\n",
    "        self.name = name\n",
    "        self.period = period\n",
    "        self.atomic_weight = atomic_weight\n",
    "    \n",
    "    def __str__(self):\n",
    "        return f'[Z={self.Z}] {self.name}'\n",
    "~~~"
   ]
  },
  {
   "cell_type": "code",
   "execution_count": 462,
   "metadata": {
    "scrolled": true,
    "slideshow": {
     "slide_type": "-"
    }
   },
   "outputs": [
    {
     "name": "stdout",
     "output_type": "stream",
     "text": [
      "[Z=1] Hydrogen\n",
      "[Z=18] Argon\n"
     ]
    }
   ],
   "source": [
    "h = ChemicalElement(1, 'H', 'Hydrogen', 1, 1.008)\n",
    "ar = ChemicalElement(18, 'Ar', 'Argon', 3, 39.948)\n",
    "\n",
    "print(h)\n",
    "print(ar)"
   ]
  },
  {
   "cell_type": "markdown",
   "metadata": {
    "slideshow": {
     "slide_type": "subslide"
    }
   },
   "source": [
    "Ahora vamos a definir un método que nos dé **toda la información** del elemento:\n",
    "\n",
    "~~~python\n",
    "class ChemicalElement:\n",
    "    # ...\n",
    "\n",
    "    def info(self):\n",
    "        return f'''{self.name}\n",
    "Symbol: {self.symbol}\n",
    "Atomic number: {self.Z}\n",
    "Period: {self.period}\n",
    "Atomic weight: {self.atomic_weight}\n",
    "        '''\n",
    "~~~"
   ]
  },
  {
   "cell_type": "code",
   "execution_count": 463,
   "metadata": {
    "slideshow": {
     "slide_type": "-"
    }
   },
   "outputs": [
    {
     "name": "stdout",
     "output_type": "stream",
     "text": [
      "Hydrogen\n",
      "Symbol: H\n",
      "Atomic number: 1\n",
      "Period: 1\n",
      "Atomic weight: 1.008\n",
      "        \n",
      "Argon\n",
      "Symbol: Ar\n",
      "Atomic number: 18\n",
      "Period: 3\n",
      "Atomic weight: 39.948\n",
      "        \n"
     ]
    }
   ],
   "source": [
    "h = ChemicalElement(1, 'H', 'Hydrogen', 1, 1.008)\n",
    "ar = ChemicalElement(18, 'Ar', 'Argon', 3, 39.948)\n",
    "\n",
    "print(h.info())\n",
    "print(ar.info())"
   ]
  },
  {
   "cell_type": "markdown",
   "metadata": {
    "slideshow": {
     "slide_type": "subslide"
    }
   },
   "source": [
    "Existen [métodos especiales](https://docs.python.org/3/reference/datamodel.html#special-method-names) en Python que permiten sobrecargar operadores y más. Vamos a ver algunos ejemplos:\n",
    "\n",
    "~~~python\n",
    "class ChemicalElement:\n",
    "    # ...\n",
    "    \n",
    "    # sobrecargar el operador \"<\"\n",
    "    def __lt__(self, other):\n",
    "        return self.Z < other.Z\n",
    "\n",
    "    # sobrecargar el operador \">\"\n",
    "    def __gt__(self, other):\n",
    "        return self.Z > other.Z\n",
    "~~~"
   ]
  },
  {
   "cell_type": "code",
   "execution_count": 464,
   "metadata": {
    "scrolled": true,
    "slideshow": {
     "slide_type": "-"
    }
   },
   "outputs": [
    {
     "name": "stdout",
     "output_type": "stream",
     "text": [
      "True\n",
      "False\n"
     ]
    }
   ],
   "source": [
    "h = ChemicalElement(1, 'H', 'Hydrogen', 1, 1.008)\n",
    "ar = ChemicalElement(18, 'Ar', 'Argon', 3, 39.948)\n",
    "\n",
    "print(h < ar)\n",
    "print(h > ar)"
   ]
  },
  {
   "cell_type": "markdown",
   "metadata": {
    "slideshow": {
     "slide_type": "subslide"
    }
   },
   "source": [
    "Supongamos que queremos implementar la característica de **\"sumar\"** dos elementos químicos:\n",
    "\n",
    "~~~python\n",
    "class ChemicalElement:\n",
    "    # ...\n",
    "    \n",
    "    def __add__(self, other):\n",
    "        new_Z = self.Z + other.Z\n",
    "        new_symbol = self.symbol[0].upper() + other.symbol[0].lower()\n",
    "        new_name = f'{self.name}-{other.name}'\n",
    "        new_period = round((self.period + other.period) / 2)\n",
    "        new_atomic_weight = self.atomic_weight + other.atomic_weight\n",
    "        return ChemicalElement(new_Z, new_symbol, new_name, new_period, new_atomic_weight)\n",
    "~~~"
   ]
  },
  {
   "cell_type": "code",
   "execution_count": 465,
   "metadata": {
    "scrolled": false,
    "slideshow": {
     "slide_type": "-"
    }
   },
   "outputs": [
    {
     "name": "stdout",
     "output_type": "stream",
     "text": [
      "Hydrogen-Argon\n",
      "Symbol: Ha\n",
      "Atomic number: 19\n",
      "Period: 2\n",
      "Atomic weight: 40.956\n",
      "        \n"
     ]
    }
   ],
   "source": [
    "h = ChemicalElement(1, 'H', 'Hydrogen', 1, 1.008)\n",
    "ar = ChemicalElement(18, 'Ar', 'Argon', 3, 39.948)\n",
    "\n",
    "new_rare_element = h + ar\n",
    "print(new_rare_element.info())"
   ]
  },
  {
   "cell_type": "markdown",
   "metadata": {
    "slideshow": {
     "slide_type": "subslide"
    }
   },
   "source": [
    "## 💡Ejercicio (1/3)\n",
    "\n",
    "Un *número racional* se define como el cociente de dos enteros $a$ y $b$, llamados el *numerador* y el *denominador*, respectivamente, donde $b \\ne 0$.\n",
    "\n",
    "Aunque en Python ya existe un [módulo para fracciones (números racionales)](https://docs.python.org/3.1/library/fractions.html), vamos a hacer el nuestro propio. Para elo, implemente una clase `Rational` con, al menos, los siguientes métodos:\n",
    "\n",
    "$\\Rightarrow$ El constructor de la clase que recibe por parámetros numerador y denominador.\n",
    "\n",
    "$\\Rightarrow$ La representación de una fracción $r = \\frac{a}{b}$ como `a / b`\n",
    "\n",
    "$\\Rightarrow$ El valor real de un número racional.\n",
    "\n",
    "$\\Rightarrow$ El valor absoluto de un número racional:\n",
    "\n",
    "$\n",
    "\\begin{align*}\n",
    "r = \\frac{a}{b};\\ |r| = \\frac{|a|}{|b|}\n",
    "\\end{align*}\n",
    "$"
   ]
  },
  {
   "cell_type": "markdown",
   "metadata": {
    "slideshow": {
     "slide_type": "subslide"
    }
   },
   "source": [
    "## 💡Ejercicio (2/3)\n",
    "\n",
    "$\\Rightarrow$ La suma de dos números racionales:\n",
    "\n",
    "$\n",
    "\\begin{align*}\n",
    "r1 = \\frac{a1}{b1};\\ r2 = \\frac{a2}{b2};\\ r1 + r2 = \\frac{a1 \\cdot b2 + a2 * b1}{b1 \\cdot b2}\n",
    "\\end{align*}\n",
    "$\n",
    "\n",
    "$\\Rightarrow$ La diferencia de dos números racionales:\n",
    "\n",
    "$\n",
    "\\begin{align*}\n",
    "r1 = \\frac{a1}{b1};\\ r2 = \\frac{a2}{b2};\\ r1 - r2 = \\frac{a1 \\cdot b2 - a2 \\cdot b1}{b1 \\cdot b2}\n",
    "\\end{align*}\n",
    "$\n",
    "\n",
    "$\\Rightarrow$ El producto de dos números racionales:\n",
    "\n",
    "$\n",
    "\\begin{align*}\n",
    "r1 = \\frac{a1}{b1};\\ r2 = \\frac{a2}{b2};\\ r1 \\cdot r2 = \\frac{a1 \\cdot a2}{b1 \\cdot b2}\n",
    "\\end{align*}\n",
    "$\n",
    "\n",
    "$\\Rightarrow$ La división de dos números racionales:\n",
    "\n",
    "$\n",
    "\\begin{align*}\n",
    "r1 = \\frac{a1}{b1};\\ r2 = \\frac{a2}{b2};\\ \\frac{r1}{r2} = \\frac{a1 \\cdot b2}{a2 \\cdot b1}\n",
    "\\end{align*}\n",
    "$"
   ]
  },
  {
   "cell_type": "markdown",
   "metadata": {
    "slideshow": {
     "slide_type": "subslide"
    }
   },
   "source": [
    "## 💡Ejercicio (3/3)\n",
    "\n",
    "$\\Rightarrow$ La exponenciación de un número racional $r$ a un número flotante $x$ (devuelve un número flotante):\n",
    "\n",
    "$\n",
    "\\begin{align*}\n",
    "r = \\frac{a}{b};\\ x \\in \\mathbb{R};\\ r^x = a^x / b^x\n",
    "\\end{align*}\n",
    "$\n",
    "\n",
    "$\\Rightarrow$ La igualdad de dos números racionales:\n",
    "\n",
    "$\n",
    "\\begin{align*}\n",
    "r1 = \\frac{a1}{b1};\\ r2 = \\frac{a2}{b2};\\ r1 = r2 \\iff a1 \\cdot b2 = b1 \\cdot a2\n",
    "\\end{align*}\n",
    "$\n",
    "\n",
    "La implementación de los números racionales debería siempre ser reducido a los términos más pequeños. Por ejemplo, $\\frac{4}{4}$ debería ser reducido a $\\frac{1}{1}$, $\\frac{30}{60}$ debería ser reducido a $\\frac{1}{2}$, $\\frac{12}{8}$ debería ser reducido a $\\frac{3}{2}$, etc. Para reducir un número racional $r = \\frac{a}{b}$ divida $a$ y $b$ por el *máximo común divisor* de numerador y denominador. Por ejemplo, $mcd(12, 8) = 4$ así que $r=\\frac{12}{8}$ puede ser reducido a $\\frac{12/4}{8/4}=\\frac{3}{2}$\n",
    "\n",
    "Fuente: [Exercism](https://exercism.io)"
   ]
  },
  {
   "cell_type": "code",
   "execution_count": 466,
   "metadata": {
    "slideshow": {
     "slide_type": "skip"
    }
   },
   "outputs": [],
   "source": [
    "# Write your code here!"
   ]
  },
  {
   "cell_type": "markdown",
   "metadata": {
    "slideshow": {
     "slide_type": "skip"
    }
   },
   "source": [
    "## ⭐️ Solución"
   ]
  },
  {
   "cell_type": "code",
   "execution_count": 467,
   "metadata": {
    "slideshow": {
     "slide_type": "skip"
    }
   },
   "outputs": [],
   "source": [
    "# %load \"solutions/python/rational.py\""
   ]
  },
  {
   "cell_type": "markdown",
   "metadata": {
    "slideshow": {
     "slide_type": "slide"
    }
   },
   "source": [
    "# Ficheros\n",
    "---"
   ]
  },
  {
   "cell_type": "markdown",
   "metadata": {
    "slideshow": {
     "slide_type": "subslide"
    }
   },
   "source": [
    "# Escritura de ficheros"
   ]
  },
  {
   "cell_type": "code",
   "execution_count": 468,
   "metadata": {
    "slideshow": {
     "slide_type": "-"
    }
   },
   "outputs": [],
   "source": [
    "import random\n",
    "\n",
    "NUM_ITEMS_PER_SLOT = 4\n",
    "NUM_SLOTS = 5\n",
    "values = [[random.randint(1, 100) for _ in range(NUM_ITEMS_PER_SLOT)]\n",
    "          for _ in range(NUM_SLOTS)]"
   ]
  },
  {
   "cell_type": "code",
   "execution_count": 469,
   "metadata": {
    "slideshow": {
     "slide_type": "-"
    }
   },
   "outputs": [],
   "source": [
    "import os\n",
    "\n",
    "with open('resources/data.slides.csv', 'w') as f:\n",
    "    for slot in values:\n",
    "        f.write(','.join([str(s) for s in slot]) + os.linesep)"
   ]
  },
  {
   "cell_type": "code",
   "execution_count": 470,
   "metadata": {
    "slideshow": {
     "slide_type": "-"
    }
   },
   "outputs": [
    {
     "data": {
      "text/plain": [
       "(81, 90, 75, 58)"
      ]
     },
     "execution_count": 470,
     "metadata": {},
     "output_type": "execute_result"
    }
   ],
   "source": [
    "# %load 'resources/data.slides.csv'\n",
    "70,39,39,68\n",
    "77,72,6,22\n",
    "24,10,49,64\n",
    "77,57,1,26\n",
    "81,90,75,58\n"
   ]
  },
  {
   "cell_type": "markdown",
   "metadata": {
    "slideshow": {
     "slide_type": "subslide"
    }
   },
   "source": [
    "# Lectura de ficheros"
   ]
  },
  {
   "cell_type": "code",
   "execution_count": 471,
   "metadata": {
    "slideshow": {
     "slide_type": "-"
    }
   },
   "outputs": [],
   "source": [
    "values = []\n",
    "with open('resources/data.slides.csv') as f:\n",
    "    for line in f.readlines():\n",
    "        slot = line.strip()\n",
    "        values.append([int(s) for s in slot.split(',')])"
   ]
  },
  {
   "cell_type": "code",
   "execution_count": 472,
   "metadata": {
    "scrolled": true,
    "slideshow": {
     "slide_type": "-"
    }
   },
   "outputs": [
    {
     "data": {
      "text/plain": [
       "[[55, 1, 31, 61],\n",
       " [55, 62, 62, 20],\n",
       " [82, 46, 69, 50],\n",
       " [54, 63, 26, 13],\n",
       " [90, 52, 90, 98]]"
      ]
     },
     "execution_count": 472,
     "metadata": {},
     "output_type": "execute_result"
    }
   ],
   "source": [
    "values"
   ]
  },
  {
   "cell_type": "markdown",
   "metadata": {
    "slideshow": {
     "slide_type": "subslide"
    }
   },
   "source": [
    "## 💡Ejercicio\n",
    "\n",
    "Partiendo del fichero [Sentry: Earth Impact Monitoring](data/cneos_sentry_summary_data.csv) calcule los siguientes parámetros:\n",
    "\n",
    "- Probabilidad media de que impacte algún objeto en la Tierra.\n",
    "- Diámetro máximo de los objetos recogidos en la base de datos.\n",
    "- Nombre del objeto que viaja a mayor velocidad (y su velocidad).\n",
    "\n",
    "Fuente: [Center for Near Earth Object Studies - NASA](https://cneos.jpl.nasa.gov/sentry/#legend)"
   ]
  },
  {
   "cell_type": "code",
   "execution_count": 473,
   "metadata": {},
   "outputs": [],
   "source": [
    "# Write your code here!"
   ]
  },
  {
   "cell_type": "markdown",
   "metadata": {},
   "source": [
    "## ⭐️ Solución"
   ]
  },
  {
   "cell_type": "code",
   "execution_count": 474,
   "metadata": {},
   "outputs": [],
   "source": [
    "# %load \"solutions/python/earth_impact.py\""
   ]
  }
 ],
 "metadata": {
  "celltoolbar": "Slideshow",
  "kernelspec": {
   "display_name": "Python 3",
   "language": "python",
   "name": "python3"
  },
  "language_info": {
   "codemirror_mode": {
    "name": "ipython",
    "version": 3
   },
   "file_extension": ".py",
   "mimetype": "text/x-python",
   "name": "python",
   "nbconvert_exporter": "python",
   "pygments_lexer": "ipython3",
   "version": "3.6.5"
  }
 },
 "nbformat": 4,
 "nbformat_minor": 2
}
