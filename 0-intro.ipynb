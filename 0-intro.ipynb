{
 "cells": [
  {
   "cell_type": "markdown",
   "metadata": {
    "slideshow": {
     "slide_type": "slide"
    }
   },
   "source": [
    "![Science](images/intro/science.jpg)\n",
    "\n",
    "Photo by [Hans Reniers](https://unsplash.com/photos/lQGJCMY5qcM?utm_source=unsplash&utm_medium=referral&utm_content=creditCopyText) on [Unsplash](https://unsplash.com/search/photos/science?utm_source=unsplash&utm_medium=referral&utm_content=creditCopyText)"
   ]
  },
  {
   "cell_type": "markdown",
   "metadata": {
    "slideshow": {
     "slide_type": "slide"
    }
   },
   "source": [
    "# Objetivos\n",
    "\n",
    "- Introducir el entorno interactivo **Jupyter Notebook** para escribir código y ejecutarlo.\n",
    "- Conocer los **elementos básicos del lenguaje**, las estructuras de control, estructuras de datos y elementos sintácticos específicos de **Python**.\n",
    "- Aprender los elementos necesarios para trabajo con **arrays numéricos en Python**.\n",
    "- Hacer uso de **mecanismos avanzados de análisis de datos**.\n",
    "- Conocer los distintos métodos de **representación gráfica de datos**.\n",
    "- Utilizar de forma adecuada algoritmos de **aprendizaje automático** en Python."
   ]
  },
  {
   "cell_type": "markdown",
   "metadata": {
    "slideshow": {
     "slide_type": "slide"
    }
   },
   "source": [
    "# Contenidos\n",
    "\n",
    "1. [Jupyter Notebook](1-jupyter.ipynb)\n",
    "2. [Python](2-python.ipynb)\n",
    "3. [Numpy](3-numpy.ipynb)\n",
    "4. [Pandas](4-pandas.ipynb)\n",
    "5. [Matplotlib/Plotly](5-matplotlib_plotly.ipynb)\n",
    "6. [Machine Learning](6-machine_learning.ipynb)\n",
    "7. [Mini-proyecto](7-mini_project.ipynb)"
   ]
  },
  {
   "cell_type": "markdown",
   "metadata": {
    "slideshow": {
     "slide_type": "slide"
    }
   },
   "source": [
    "# Temporalización del curso\n",
    "\n",
    "- Martes 7 de mayo de 2019.\n",
    "- Jueves 9 de mayo de 2019.\n",
    "- Martes 14 de mayo de 2019.\n",
    "- Jueves 16 de mayo de 2019.\n",
    "- Viernes 17 de mayo de 2019.\n",
    "\n",
    "## Horario\n",
    "\n",
    "De **16:00h a 20:00h** (descanso de 17:50h a 18:10h)"
   ]
  },
  {
   "cell_type": "markdown",
   "metadata": {
    "slideshow": {
     "slide_type": "slide"
    }
   },
   "source": [
    "# Lugar\n",
    "\n",
    "![Sala de estudio Cajacanarias](images/intro/sala_cajacanarias.jpg)"
   ]
  },
  {
   "cell_type": "markdown",
   "metadata": {
    "slideshow": {
     "slide_type": "slide"
    }
   },
   "source": [
    "# Evaluación\n",
    "\n",
    "La evaluación comprende la asistencia y participación en las sesiones presenciales, así como la realización de uno o varios ejercicios a completar mediante trabajo autónomo.\n",
    "\n",
    "![Evaluación](images/intro/evaluation.png)"
   ]
  },
  {
   "cell_type": "markdown",
   "metadata": {
    "slideshow": {
     "slide_type": "slide"
    }
   },
   "source": [
    "# Ponentes\n",
    "\n",
    "![Ponentes](images/intro/speakers.jpg)"
   ]
  },
  {
   "cell_type": "markdown",
   "metadata": {
    "slideshow": {
     "slide_type": "slide"
    }
   },
   "source": [
    "# Entorno de trabajo\n",
    "---"
   ]
  },
  {
   "cell_type": "markdown",
   "metadata": {
    "slideshow": {
     "slide_type": "subslide"
    }
   },
   "source": [
    "# Descarga de la carpeta del proyecto\n",
    "\n",
    "Se necesita tener instalada [la herramienta de control de versiones **git**](https://git-scm.com/downloads) en el sistema:\n",
    "\n",
    "![git clone](images/intro/gitclone.png)\n",
    "\n",
    "Este comando creará la carpeta `pythoncientifico` incluyendo el código del proyecto."
   ]
  },
  {
   "cell_type": "markdown",
   "metadata": {
    "slideshow": {
     "slide_type": "subslide"
    }
   },
   "source": [
    "# Requerimientos (Windows)\n",
    "\n",
    "- Instalar [Anaconda Python 3.X](https://www.anaconda.com/distribution/#download-section)\n",
    "\n",
    "![Anaconda Logo](images/intro/Anaconda_Logo.png)\n",
    "\n",
    "> Con Anacoda vienen preinstaladas las principales librerías científicas. Los paquetes faltantes se pueden instalar desde el [gestor de paquetes de Anaconda](https://docs.conda.io/projects/conda/en/latest/user-guide/tasks/manage-pkgs.html)"
   ]
  },
  {
   "cell_type": "markdown",
   "metadata": {
    "slideshow": {
     "slide_type": "subslide"
    }
   },
   "source": [
    "# Requerimientos (Linux / OSX)\n",
    "\n",
    "- [Python 3](https://www.python.org/downloads/) y [pip](https://pip.pypa.io/en/stable/installing/)\n",
    "- [pipenv](https://pipenv.readthedocs.io/en/latest/install/#installing-pipenv) (`pip install pipenv`)\n",
    "\n",
    "![Instalando dependencias](images/intro/install_dependencies.png)\n",
    "\n",
    "> En el caso de OSX, si no tuviera instalado `make` lo puede hacer [siguiendo estas instrucciones](https://stackoverflow.com/a/10265766)."
   ]
  },
  {
   "cell_type": "markdown",
   "metadata": {
    "slideshow": {
     "slide_type": "subslide"
    }
   },
   "source": [
    "# Resolviendo problemas de espacio\n",
    "\n",
    "Por lo que parece las cuentas de alumnado en la ULL tienen una cuota de 500MB. Esto puede hacer que no tengamos suficiente espacio en los ordenadores del aula para almacenar el entorno virtual con todas sus dependencias.\n",
    "\n",
    "Para resolverlo podemos trabajar en `/tmp`:"
   ]
  },
  {
   "cell_type": "markdown",
   "metadata": {
    "slideshow": {
     "slide_type": "-"
    }
   },
   "source": [
    "![Working in tmp](images/intro/working_in_tmp.png)"
   ]
  },
  {
   "cell_type": "markdown",
   "metadata": {
    "slideshow": {
     "slide_type": "subslide"
    }
   },
   "source": [
    "# Actualización del repositorio\n",
    "\n",
    "- Es posible que, durante el curso, actualicemos el repositorio para corregir o añadir contenido.\n",
    "- Para mantener al día el repositorio se puede ejecutar el siguiente comando:\n",
    "\n",
    "![Update Repo](images/intro/update_repo.png)\n",
    "\n",
    "> Este comando, además de actualizar el repo, hace copias de los notebooks en la carpeta `backups` de tal forma que, si has hecho cambios, puedes mantener un backup de los mismos."
   ]
  },
  {
   "cell_type": "markdown",
   "metadata": {
    "slideshow": {
     "slide_type": "subslide"
    }
   },
   "source": [
    "# Binder\n",
    "\n",
    "[Binder](https://mybinder.org/) es un servicio que permite ejecutar **Jupyter Notebooks** directamente en la nube sin necesidad de instalar ningún software, únicamente utilizando un navegador web.\n",
    "\n",
    "# http://tiny.cc/sciencepy\n",
    "\n",
    "[![Binder](https://mybinder.org/badge_logo.svg)](https://mybinder.org/v2/gh/sdelquin/pythoncientifico/master)"
   ]
  },
  {
   "cell_type": "markdown",
   "metadata": {
    "slideshow": {
     "slide_type": "subslide"
    }
   },
   "source": [
    "# Libros\n",
    "\n",
    "![Humble Bundle](images/intro/HumbleBundle.png)\n",
    "\n",
    "### [Humble Book Bundle: Python by O'Reilly](https://www.humblebundle.com/books/python-oreilly-books)"
   ]
  }
 ],
 "metadata": {
  "celltoolbar": "Slideshow",
  "kernelspec": {
   "display_name": "Python 3",
   "language": "python",
   "name": "python3"
  },
  "language_info": {
   "codemirror_mode": {
    "name": "ipython",
    "version": 3
   },
   "file_extension": ".py",
   "mimetype": "text/x-python",
   "name": "python",
   "nbconvert_exporter": "python",
   "pygments_lexer": "ipython3",
   "version": "3.6.5"
  }
 },
 "nbformat": 4,
 "nbformat_minor": 2
}
