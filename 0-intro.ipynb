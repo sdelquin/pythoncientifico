{
 "cells": [
  {
   "cell_type": "markdown",
   "metadata": {
    "slideshow": {
     "slide_type": "slide"
    }
   },
   "source": [
    "![Science](images/intro/science.jpg)\n",
    "\n",
    "Photo by [Hans Reniers](https://unsplash.com/photos/lQGJCMY5qcM?utm_source=unsplash&utm_medium=referral&utm_content=creditCopyText) on [Unsplash](https://unsplash.com/search/photos/science?utm_source=unsplash&utm_medium=referral&utm_content=creditCopyText)"
   ]
  },
  {
   "cell_type": "markdown",
   "metadata": {
    "slideshow": {
     "slide_type": "slide"
    }
   },
   "source": [
    "# Objetivos\n",
    "\n",
    "- Introducir el entorno interactivo **Jupyter Notebook** para escribir código y ejecutarlo.\n",
    "- Conocer los **elementos básicos del lenguaje**, las estructuras de control, estructuras de datos y elementos sintácticos específicos de **Python**.\n",
    "- Aprender los elementos necesarios para trabajo con **arrays numéricos en Python**.\n",
    "- Hacer uso de **mecanismos avanzados de análisis de datos**.\n",
    "- Conocer los distintos métodos de **representación gráfica de datos**.\n",
    "- Utilizar de forma adecuada algoritmos de **aprendizaje automático** en Python."
   ]
  },
  {
   "cell_type": "markdown",
   "metadata": {
    "slideshow": {
     "slide_type": "slide"
    }
   },
   "source": [
    "# Contenidos\n",
    "\n",
    "1. [Jupyter Notebook](1-jupyter.ipynb)\n",
    "2. [Python](2-python.ipynb)\n",
    "3. [Numpy](3-numpy.ipynb)\n",
    "4. [Pandas](4-pandas.ipynb)\n",
    "5. [Matplotlib/Plotly](5-matplotlib_plotly.ipynb)\n",
    "6. [Machine Learning](6-machine_learning.ipynb)"
   ]
  },
  {
   "cell_type": "markdown",
   "metadata": {
    "slideshow": {
     "slide_type": "slide"
    }
   },
   "source": [
    "# Temporalización del curso\n",
    "\n",
    "- Martes 7 de mayo de 2019.\n",
    "- Jueves 9 de mayo de 2019.\n",
    "- Martes 14 de mayo de 2019.\n",
    "- Jueves 16 de mayo de 2019.\n",
    "- Viernes 17 de mayo de 2019.\n",
    "\n",
    "## Horario\n",
    "\n",
    "De **16:00h a 20:00h** (descanso de 17:50h a 18:10h)"
   ]
  },
  {
   "cell_type": "markdown",
   "metadata": {
    "slideshow": {
     "slide_type": "slide"
    }
   },
   "source": [
    "# Lugar\n",
    "\n",
    "![Sala de estudio Cajacanarias](images/intro/sala_cajacanarias.jpg)"
   ]
  },
  {
   "cell_type": "markdown",
   "metadata": {},
   "source": [
    "# Evaluación\n",
    "\n",
    "La evaluación comprende la asistencia y participación en las sesiones presenciales, así como la realización de uno o varios ejercicios a completar mediante trabajo autónomo.\n",
    "\n",
    "![Evaluación](images/intro/evaluation.png)"
   ]
  },
  {
   "cell_type": "markdown",
   "metadata": {
    "slideshow": {
     "slide_type": "slide"
    }
   },
   "source": [
    "# Ponentes\n",
    "\n",
    "![Ponentes](images/intro/speakers.jpg)"
   ]
  },
  {
   "cell_type": "markdown",
   "metadata": {
    "slideshow": {
     "slide_type": "slide"
    }
   },
   "source": [
    "# Entorno de trabajo\n",
    "---"
   ]
  },
  {
   "cell_type": "markdown",
   "metadata": {
    "slideshow": {
     "slide_type": "subslide"
    }
   },
   "source": [
    "# Descarga de la carpeta del proyecto\n",
    "\n",
    "Se necesita tener instalada [la herramienta de control de versiones **git**](https://git-scm.com/downloads) en el sistema:\n",
    "\n",
    "## Opción A\n",
    "\n",
    "![git clone](images/intro/gitclone.png)\n",
    "\n",
    "Este comando creará la carpeta `pythoncientifico` incluyendo el código del proyecto."
   ]
  },
  {
   "cell_type": "markdown",
   "metadata": {
    "slideshow": {
     "slide_type": "subslide"
    }
   },
   "source": [
    "## Opción B\n",
    "\n",
    "Acceder a https://github.com/sdelquin/pythoncientifico y usar el botón de **Download ZIP**:\n",
    "\n",
    "![Descarga Github](images/intro/github_download.png)\n",
    "\n",
    "> **Se recomienda** usar la **Opción A** ya que, en otro caso, no se podrá actualizar de forma sencilla el repositorio."
   ]
  },
  {
   "cell_type": "markdown",
   "metadata": {
    "slideshow": {
     "slide_type": "subslide"
    }
   },
   "source": [
    "# Instalación del entorno virtual\n",
    "\n",
    "## Requerimientos\n",
    "\n",
    "- [Python 3](https://www.python.org/downloads/) y [pip](https://pip.pypa.io/en/stable/installing/) (o bien usar [miniconda](https://docs.conda.io/en/latest/miniconda.html) o [anaconda](https://www.anaconda.com/distribution/#download-section) con `conda`)\n",
    "- [pipenv](https://pipenv.readthedocs.io/en/latest/install/#installing-pipenv) (`pip install pipenv`)\n",
    "\n",
    "![Instalando dependencias](images/intro/install_dependencies.png)\n",
    "\n",
    "> Lo que realmente se está ejecutando es:\n",
    "\n",
    "~~~bash\n",
    "$> pipenv install --three\n",
    "~~~"
   ]
  },
  {
   "cell_type": "markdown",
   "metadata": {
    "slideshow": {
     "slide_type": "subslide"
    }
   },
   "source": [
    "# Actualización del repositorio\n",
    "\n",
    "- Es posible que, durante el curso, actualicemos el repositorio para corregir o añadir contenido.\n",
    "- Para mantener al día el repositorio se puede ejecutar el siguiente comando:\n",
    "\n",
    "![Update Repo](images/intro/update_repo.png)\n",
    "\n",
    "> Este comando, además de actualizar el repo, hace copias de los notebooks en la carpeta `backups` de tal forma que, si has hecho cambios, puedes mantener un backup de los mismos."
   ]
  },
  {
   "cell_type": "markdown",
   "metadata": {
    "slideshow": {
     "slide_type": "subslide"
    }
   },
   "source": [
    "# Binder\n",
    "\n",
    "[Binder](https://mybinder.org/) es un servicio que permite ejecutar **Jupyter Notebooks** directamente en la nube sin necesidad de instalar ningún software, únicamente utilizando un navegador web.\n",
    "\n",
    "# http://tiny.cc/sciencepy\n",
    "\n",
    "[![Binder](https://mybinder.org/badge_logo.svg)](https://mybinder.org/v2/gh/sdelquin/pythoncientifico/master)"
   ]
  }
 ],
 "metadata": {
  "celltoolbar": "Slideshow",
  "kernelspec": {
   "display_name": "Python 3",
   "language": "python",
   "name": "python3"
  },
  "language_info": {
   "codemirror_mode": {
    "name": "ipython",
    "version": 3
   },
   "file_extension": ".py",
   "mimetype": "text/x-python",
   "name": "python",
   "nbconvert_exporter": "python",
   "pygments_lexer": "ipython3",
   "version": "3.6.5"
  }
 },
 "nbformat": 4,
 "nbformat_minor": 2
}
